{
 "cells": [
  {
   "cell_type": "code",
   "execution_count": 2,
   "metadata": {},
   "outputs": [],
   "source": [
    "import numpy as np\n",
    "from sklearn.preprocessing import OneHotEncoder\n",
    "from sklearn.preprocessing import LabelBinarizer"
   ]
  },
  {
   "cell_type": "code",
   "execution_count": 7,
   "metadata": {},
   "outputs": [
    {
     "name": "stdout",
     "output_type": "stream",
     "text": [
      "one_hot >>  ['Texas' 'California' 'Texas' 'Delaware' 'Texas']\n"
     ]
    }
   ],
   "source": [
    "# 순서가 없는 범주형 특성 인코딩\n",
    "# 사이킷런의 LabelBinarizer를 사용하여 문자열 타깃 데이터를 원-핫 인코딩\n",
    "\n",
    "feature = np.array([['Texas'], ['California'], ['Texas'], ['Delaware'], ['Texas']])\n",
    "# print(feature) # 특성 데이터 생성\n",
    "\n",
    "one_hot = LabelBinarizer() # 원-핫 인코딩 생성\n",
    "one_hot.fit_transform(feature) # 특성을 원-핫 인코딩 변환\n",
    "# print(one_hot.classes_)\n",
    "\n",
    "one_hot_data = one_hot.inverse_transform(one_hot.transform(feature))\n",
    "print(\"one_hot >> \", one_hot_data)"
   ]
  },
  {
   "cell_type": "code",
   "execution_count": null,
   "metadata": {},
   "outputs": [],
   "source": []
  }
 ],
 "metadata": {
  "kernelspec": {
   "display_name": "Python 3.10.8 64-bit (microsoft store)",
   "language": "python",
   "name": "python3"
  },
  "language_info": {
   "codemirror_mode": {
    "name": "ipython",
    "version": 3
   },
   "file_extension": ".py",
   "mimetype": "text/x-python",
   "name": "python",
   "nbconvert_exporter": "python",
   "pygments_lexer": "ipython3",
   "version": "3.10.8"
  },
  "orig_nbformat": 4,
  "vscode": {
   "interpreter": {
    "hash": "7b1f2b33e866b0bf2409397e5f58ba9cdf170d3b7f64c8f359c79998e2f88ad4"
   }
  }
 },
 "nbformat": 4,
 "nbformat_minor": 2
}
