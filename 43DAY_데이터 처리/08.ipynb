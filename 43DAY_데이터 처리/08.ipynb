{
 "cells": [
  {
   "cell_type": "code",
   "execution_count": 7,
   "metadata": {},
   "outputs": [],
   "source": [
    "# 순서가 있는 범주형 특성 인코딩\n",
    "# 판다스 데이터프레임의 replace()를 사용하여 문자열 레이블을 수치값으로 변환합니다."
   ]
  },
  {
   "cell_type": "code",
   "execution_count": 2,
   "metadata": {},
   "outputs": [],
   "source": [
    "import pandas as pd"
   ]
  },
  {
   "cell_type": "code",
   "execution_count": 8,
   "metadata": {},
   "outputs": [
    {
     "name": "stdout",
     "output_type": "stream",
     "text": [
      "0    1\n",
      "1    1\n",
      "2    2\n",
      "3    2\n",
      "4    4\n",
      "5    3\n",
      "Name: Score, dtype: int64\n"
     ]
    }
   ],
   "source": [
    "dataframe = pd.DataFrame(\n",
    "    {\"Score\": [\"Low\", \"Low\", \"Medium\", \"Medium\", \"High\"]})  # 특성 데이터 생성\n",
    "scale_mapper = {\"Low\": 1,\n",
    "                \"Medium\": 2,\n",
    "                \"High\": 3}  # 매핑 딕셔너리 생성\n",
    "dataframe[\"Score\"].replace(scale_mapper)  # 특성을 정수로 변환\n",
    "dataframe = pd.DataFrame(\n",
    "    {\"Score\": [\"Low\", \"Low\", \"Medium\", \"Medium\", \"High\", \"Barely More Than Medium\"]})\n",
    "scale_mapper = {\"Low\": 1,\n",
    "                \"Medium\": 2,\n",
    "                \"Barely More Than Medium\": 3,\n",
    "                \"High\": 4}  # 매핑 딕셔너리 생성\n",
    "data = dataframe[\"Score\"].replace(scale_mapper)  # 특성을 정수로 변환\n",
    "print(data)"
   ]
  },
  {
   "cell_type": "code",
   "execution_count": null,
   "metadata": {},
   "outputs": [],
   "source": []
  }
 ],
 "metadata": {
  "kernelspec": {
   "display_name": "Python 3.10.8 64-bit (microsoft store)",
   "language": "python",
   "name": "python3"
  },
  "language_info": {
   "codemirror_mode": {
    "name": "ipython",
    "version": 3
   },
   "file_extension": ".py",
   "mimetype": "text/x-python",
   "name": "python",
   "nbconvert_exporter": "python",
   "pygments_lexer": "ipython3",
   "version": "3.10.8"
  },
  "orig_nbformat": 4,
  "vscode": {
   "interpreter": {
    "hash": "7b1f2b33e866b0bf2409397e5f58ba9cdf170d3b7f64c8f359c79998e2f88ad4"
   }
  }
 },
 "nbformat": 4,
 "nbformat_minor": 2
}
