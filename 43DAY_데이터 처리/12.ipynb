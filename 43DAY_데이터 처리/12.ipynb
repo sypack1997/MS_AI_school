{
 "cells": [
  {
   "cell_type": "code",
   "execution_count": 1,
   "metadata": {},
   "outputs": [],
   "source": [
    "# 누락된 클래스 값 대처 하기 -2\n",
    "# 누락된 값을 특성에 가장 자주 등장하는 값으로 채우기\n",
    "from sklearn.impute import SimpleImputer\n",
    "from sklearn.neighbors import KNeighborsClassifier\n",
    "import numpy as np"
   ]
  },
  {
   "cell_type": "code",
   "execution_count": 2,
   "metadata": {},
   "outputs": [
    {
     "name": "stdout",
     "output_type": "stream",
     "text": [
      "[[ 0.    0.87  1.31]\n",
      " [ 0.   -0.67 -0.22]\n",
      " [ 0.    2.1   1.45]\n",
      " [ 1.    1.18  1.33]\n",
      " [ 0.    1.22  1.27]\n",
      " [ 1.   -0.21 -1.19]]\n"
     ]
    }
   ],
   "source": [
    "x = np.array([[0, 2.10, 1.45],\n",
    "              [1, 1.18, 1.33],\n",
    "              [0, 1.22, 1.27],\n",
    "              [1, -0.21, -1.19]])\n",
    "# 범주형 특성을 가진 행렬 생성\n",
    "# 범주형 특성에 누락된 값이 있는 특성 행렬 만들기\n",
    "x_with_nan = np.array([[np.nan, 0.87, 1.31], [np.nan, -0.67, -0.22]])\n",
    "clf = KNeighborsClassifier(3, weights=\"distance\")  # KNN 객체 생성\n",
    "trained_model = clf.fit(x[:, 1:], x[:, 0])  # 훈련\n",
    "imputed_val = trained_model.predict(x_with_nan[:, 1:])  # 누락된 값의 클래스를 예측\n",
    "x_with_imputed = np.hstack((imputed_val.reshape(-1, 1), x_with_nan[:, 1:]))\n",
    "data = np.vstack((x_with_imputed, x))  # 두 특성 행렬을 연결\n",
    "\n",
    "# 누락된 클래스 값 대처하기 -02\n",
    "# 두개의 특성 행렬로 합침\n",
    "# 누락된 값을 특성에서 가장 자주 등장하는 값으로 채우기\n",
    "x_complete = np.vstack((x_with_nan, x))\n",
    "imputer = SimpleImputer(strategy=\"most_frequent\")\n",
    "data_imputer = imputer.fit_transform(x_complete)\n",
    "print(data_imputer)\n"
   ]
  },
  {
   "cell_type": "code",
   "execution_count": null,
   "metadata": {},
   "outputs": [],
   "source": []
  }
 ],
 "metadata": {
  "kernelspec": {
   "display_name": "Python 3.10.8 64-bit (microsoft store)",
   "language": "python",
   "name": "python3"
  },
  "language_info": {
   "codemirror_mode": {
    "name": "ipython",
    "version": 3
   },
   "file_extension": ".py",
   "mimetype": "text/x-python",
   "name": "python",
   "nbconvert_exporter": "python",
   "pygments_lexer": "ipython3",
   "version": "3.10.8"
  },
  "orig_nbformat": 4,
  "vscode": {
   "interpreter": {
    "hash": "7b1f2b33e866b0bf2409397e5f58ba9cdf170d3b7f64c8f359c79998e2f88ad4"
   }
  }
 },
 "nbformat": 4,
 "nbformat_minor": 2
}
