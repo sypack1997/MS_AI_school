{
 "cells": [
  {
   "cell_type": "code",
   "execution_count": 11,
   "metadata": {},
   "outputs": [],
   "source": [
    "# 딕셔너리 특성 행렬로 반환\n",
    "from sklearn.feature_extraction import DictVectorizer\n",
    "import pandas as pd"
   ]
  },
  {
   "cell_type": "code",
   "execution_count": 15,
   "metadata": {},
   "outputs": [
    {
     "name": "stdout",
     "output_type": "stream",
     "text": [
      "   Blue  Red  Yellow\n",
      "0   4.0  2.0     0.0\n",
      "1   3.0  4.0     0.0\n",
      "2   0.0  1.0     2.0\n",
      "3   0.0  2.0     2.0\n",
      "[[4. 2. 0.]\n",
      " [4. 4. 0.]\n",
      " [0. 1. 2.]\n",
      " [0. 2. 2.]]\n"
     ]
    },
    {
     "name": "stderr",
     "output_type": "stream",
     "text": [
      "C:\\Users\\user\\AppData\\Local\\Packages\\PythonSoftwareFoundation.Python.3.10_qbz5n2kfra8p0\\LocalCache\\local-packages\\Python310\\site-packages\\sklearn\\utils\\deprecation.py:87: FutureWarning: Function get_feature_names is deprecated; get_feature_names is deprecated in 1.0 and will be removed in 1.2. Please use get_feature_names_out instead.\n",
      "  warnings.warn(msg, category=FutureWarning)\n"
     ]
    }
   ],
   "source": [
    "data_dict = [{\"Red\" : 2, \"Blue\" : 4}, {\"Red\" : 4, \"Blue\" : 3}, {\"Red\" : 1, \"Yellow\" : 2}, {\"Red\" : 2, \"Yellow\" : 2}]\n",
    "# print(data_dict)\n",
    "\n",
    "dictvectorizer = DictVectorizer(sparse = False)\n",
    "# 0이 아닌 원소만 저장하는 희소 행렬을 반환\n",
    "# 딕셔넌리를 특성 행렬로 반환\n",
    "features = dictvectorizer.fit_transform(data_dict)\n",
    "features_names = dictvectorizer.get_feature_names() # 특성 이름 획득 가능\n",
    "# print(features_names)\n",
    "dict_data = pd.DataFrame(features, columns = features_names)\n",
    "print(dict_data)\n",
    "\n",
    "# 행렬 형태\n",
    "# 단어 카운트 딕셔너리 만들기\n",
    "doc_1_word_count = {\"Red\" : 2, \"Blue\" : 4}\n",
    "doc_2_word_count = {\"Red\" : 4, \"Blue\" : 4}\n",
    "doc_3_word_count = {\"Red\" : 1, \"Yellow\" : 2}\n",
    "doc_4_word_count = {\"Red\" : 2, \"Yellow\" : 2}\n",
    "doc_word_counts = [doc_1_word_count, doc_2_word_count, doc_3_word_count, doc_4_word_count]\n",
    "# print(doc_word_counts)\n",
    "\n",
    "data_array = dictvectorizer.fit_transform(doc_word_counts)\n",
    "print(data_array)"
   ]
  },
  {
   "cell_type": "code",
   "execution_count": null,
   "metadata": {},
   "outputs": [],
   "source": []
  }
 ],
 "metadata": {
  "kernelspec": {
   "display_name": "Python 3.10.8 64-bit (microsoft store)",
   "language": "python",
   "name": "python3"
  },
  "language_info": {
   "codemirror_mode": {
    "name": "ipython",
    "version": 3
   },
   "file_extension": ".py",
   "mimetype": "text/x-python",
   "name": "python",
   "nbconvert_exporter": "python",
   "pygments_lexer": "ipython3",
   "version": "3.10.8"
  },
  "orig_nbformat": 4,
  "vscode": {
   "interpreter": {
    "hash": "7b1f2b33e866b0bf2409397e5f58ba9cdf170d3b7f64c8f359c79998e2f88ad4"
   }
  }
 },
 "nbformat": 4,
 "nbformat_minor": 2
}
