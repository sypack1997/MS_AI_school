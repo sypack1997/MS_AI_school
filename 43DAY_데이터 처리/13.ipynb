{
 "cells": [
  {
   "cell_type": "code",
   "execution_count": 4,
   "metadata": {},
   "outputs": [
    {
     "name": "stdout",
     "output_type": "stream",
     "text": [
      "공백제거 >>  ['Hello', 'My name', 'is', 'Today', 'afternoon', 'Please. over the head', 'Clean up']\n",
      "마침표 제거 >>  ['Hello', 'My name', 'is', 'Today', 'afternoon', 'Please. over the head', 'Clean up']\n",
      "['HELLO', 'MY NAME', 'IS', 'TODAY', 'AFTERNOON', 'PLEASE OVER THE HEAD', 'CLEAN UP']\n",
      "['HELLO', 'MY NAME', 'IS', 'TODAY', 'AFTERNOON', 'PLEASE OVER THE HEAD', 'CLEAN UP']\n"
     ]
    }
   ],
   "source": [
    "# 텍스트 데이터 처리 01\n",
    "import re\n",
    "text_data = [\"Hello\", \"My name\", \"is\", \"Today\", \"afternoon\", \"Please. over the head\", \"Clean up\"]\n",
    "\n",
    "# 공백 제거\n",
    "strip_whitespace = [string.strip() for string in text_data]\n",
    "print(\"공백제거 >> \", strip_whitespace)\n",
    "\n",
    "# 마침표 제거\n",
    "remove_periods = [string.replace(\".\", \"\") for string in strip_whitespace]\n",
    "print(\"마침표 제거 >> \", strip_whitespace)\n",
    "\n",
    "def capitalizer(string:str) -> str: return string.upper()\n",
    "\n",
    "temp = [capitalizer(string) for string in remove_periods]\n",
    "print(temp)\n",
    "\n",
    "def replace_letters_with_X(string:str) -> str:\n",
    "    return re.sub(r\"[a-zA-Z]\", \"X\", string)\n",
    "\n",
    "data = [replace_letters_with_X(string) for string in remove_periods]\n",
    "print(temp)"
   ]
  },
  {
   "cell_type": "code",
   "execution_count": null,
   "metadata": {},
   "outputs": [],
   "source": []
  }
 ],
 "metadata": {
  "kernelspec": {
   "display_name": "Python 3.10.8 64-bit (microsoft store)",
   "language": "python",
   "name": "python3"
  },
  "language_info": {
   "codemirror_mode": {
    "name": "ipython",
    "version": 3
   },
   "file_extension": ".py",
   "mimetype": "text/x-python",
   "name": "python",
   "nbconvert_exporter": "python",
   "pygments_lexer": "ipython3",
   "version": "3.10.8"
  },
  "orig_nbformat": 4,
  "vscode": {
   "interpreter": {
    "hash": "7b1f2b33e866b0bf2409397e5f58ba9cdf170d3b7f64c8f359c79998e2f88ad4"
   }
  }
 },
 "nbformat": 4,
 "nbformat_minor": 2
}
