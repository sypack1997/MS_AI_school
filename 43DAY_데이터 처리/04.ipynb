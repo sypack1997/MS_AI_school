{
 "cells": [
  {
   "cell_type": "code",
   "execution_count": 1,
   "metadata": {},
   "outputs": [],
   "source": [
    "from sklearn import datasets\n",
    "from sklearn.discriminant_analysis import LinearDiscriminantAnalysis"
   ]
  },
  {
   "cell_type": "code",
   "execution_count": 2,
   "metadata": {},
   "outputs": [
    {
     "name": "stdout",
     "output_type": "stream",
     "text": [
      "[0.9912126 0.0087874]\n",
      "temp =  1\n"
     ]
    }
   ],
   "source": [
    "iris = datasets.load_iris()  # 붓꽃 데이터셋을 로드\n",
    "features = iris.data\n",
    "target = iris.target\n",
    "\n",
    "# LAD 객체 만들고 실행하여 특성을 변환합니다 .\n",
    "lda = LinearDiscriminantAnalysis(n_components=None)\n",
    "features_lad = lda.fit(features, target)\n",
    "\n",
    "# print(\"원본 특성 개수 : \", features.shape[1])\n",
    "# print(\"줄어든 특성 개수 : \", features_lad.shape[1])\n",
    "\n",
    "# 설명된 분산의 비율이 담긴 배열을 저장\n",
    "lda_var_ratios = lda.explained_variance_ratio_\n",
    "print(lda_var_ratios)\n",
    "\n",
    "\n",
    "def select_n_components(var_ratio, goal_var: float) -> int:\n",
    "    total_variances = 0.0  # 설명된 분산의 초기값을 지정\n",
    "    n_components = 0  # 특성 개수의 초기값을 지정\n",
    "\n",
    "    for explained_variance in var_ratio:  # 각 특성 의 성명된 분산을 순회 Loop\n",
    "        total_variances += explained_variance  # 설명된 분산 값을 누적\n",
    "        n_components += 1  # 성분 개수를 카운트\n",
    "        if total_variances >= goal_var:  # 설명된 분산이 목표치에 도달하면 반복을 종료\n",
    "            break\n",
    "    return n_components  # 성분 개수를 반환\n",
    "\n",
    "\n",
    "temp = select_n_components(lda_var_ratios, 0.95)\n",
    "print(\"temp = \", temp)"
   ]
  },
  {
   "cell_type": "code",
   "execution_count": null,
   "metadata": {},
   "outputs": [],
   "source": []
  }
 ],
 "metadata": {
  "kernelspec": {
   "display_name": "Python 3.10.8 64-bit (microsoft store)",
   "language": "python",
   "name": "python3"
  },
  "language_info": {
   "codemirror_mode": {
    "name": "ipython",
    "version": 3
   },
   "file_extension": ".py",
   "mimetype": "text/x-python",
   "name": "python",
   "nbconvert_exporter": "python",
   "pygments_lexer": "ipython3",
   "version": "3.10.8"
  },
  "orig_nbformat": 4,
  "vscode": {
   "interpreter": {
    "hash": "7b1f2b33e866b0bf2409397e5f58ba9cdf170d3b7f64c8f359c79998e2f88ad4"
   }
  }
 },
 "nbformat": 4,
 "nbformat_minor": 2
}
