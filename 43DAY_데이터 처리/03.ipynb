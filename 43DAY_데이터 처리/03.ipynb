{
 "cells": [
  {
   "cell_type": "code",
   "execution_count": 1,
   "metadata": {},
   "outputs": [],
   "source": [
    "# 선형적으로 구분되지 않는 데이터차원 축소\n",
    "from sklearn.decomposition import KernelPCA\n",
    "from sklearn.datasets import make_circles"
   ]
  },
  {
   "cell_type": "code",
   "execution_count": 2,
   "metadata": {},
   "outputs": [
    {
     "name": "stdout",
     "output_type": "stream",
     "text": [
      "[[ 0.23058395 -0.10671314]\n",
      " [-0.0834218  -0.22647078]\n",
      " [ 0.9246533  -0.71492522]\n",
      " ...\n",
      " [ 0.02517206  0.00964548]\n",
      " [-0.92836187  0.06693357]\n",
      " [ 1.03502248  0.54878286]]\n",
      "원본 특성 개수 :  2\n",
      "줄어든 특성 개수 :  1\n"
     ]
    }
   ],
   "source": [
    "# 선형적으로 구분되지 않는 데이터를 만듭니다.\n",
    "features, _ = make_circles(\n",
    "    n_samples=1000, random_state=1, noise=0.1, factor=0.1)\n",
    "print(features)\n",
    "\n",
    "# 방사 기저 함수 (radius basis function, RBF)를 사용하여 커널 PCA 적용\n",
    "kpca = KernelPCA(kernel=\"rbf\", gamma=15, n_components=1)\n",
    "features_kpca = kpca.fit_transform(features)\n",
    "\n",
    "print(\"원본 특성 개수 : \", features.shape[1])\n",
    "print(\"줄어든 특성 개수 : \", features_kpca.shape[1])"
   ]
  },
  {
   "cell_type": "code",
   "execution_count": null,
   "metadata": {},
   "outputs": [],
   "source": []
  }
 ],
 "metadata": {
  "kernelspec": {
   "display_name": "Python 3.10.8 64-bit (microsoft store)",
   "language": "python",
   "name": "python3"
  },
  "language_info": {
   "codemirror_mode": {
    "name": "ipython",
    "version": 3
   },
   "file_extension": ".py",
   "mimetype": "text/x-python",
   "name": "python",
   "nbconvert_exporter": "python",
   "pygments_lexer": "ipython3",
   "version": "3.10.8"
  },
  "orig_nbformat": 4,
  "vscode": {
   "interpreter": {
    "hash": "7b1f2b33e866b0bf2409397e5f58ba9cdf170d3b7f64c8f359c79998e2f88ad4"
   }
  }
 },
 "nbformat": 4,
 "nbformat_minor": 2
}
