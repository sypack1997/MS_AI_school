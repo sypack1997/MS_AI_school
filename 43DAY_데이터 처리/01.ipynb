{
 "cells": [
  {
   "cell_type": "code",
   "execution_count": 3,
   "metadata": {},
   "outputs": [],
   "source": [
    "import sklearn\n",
    "from sklearn.preprocessing import *\n",
    "import numpy as np\n",
    "from numpy import *"
   ]
  },
  {
   "cell_type": "code",
   "execution_count": 7,
   "metadata": {},
   "outputs": [
    {
     "name": "stdout",
     "output_type": "stream",
     "text": [
      "표준화 데이터\n",
      "[[22.20829517 17.05405848  6.14417283 21.41541583  7.22430451]\n",
      " [ 5.20829517 21.05405848 25.14417283 25.41541583 27.22430451]\n",
      " [21.20829517 13.05405848  5.14417283  8.41541583  1.22430451]\n",
      " [11.20829517 15.05405848 17.14417283  3.41541583 16.22430451]\n",
      " [16.20829517  3.05405848 10.14417283  3.41541583  9.22430451]\n",
      " [26.20829517 21.05405848  6.14417283  9.41541583 16.22430451]]\n",
      "정규화 데이터\n",
      "[[0.80952381 0.77777778 0.05       0.81818182 0.23076923]\n",
      " [0.         1.         1.         1.         1.        ]\n",
      " [0.76190476 0.55555556 0.         0.22727273 0.        ]\n",
      " [0.28571429 0.66666667 0.6        0.         0.57692308]\n",
      " [0.52380952 0.         0.25       0.         0.30769231]\n",
      " [1.         1.         0.05       0.27272727 0.57692308]]\n"
     ]
    }
   ],
   "source": [
    "# 정규화 Standardization\n",
    "def normalization(data):\n",
    "    data_mm = (data - data.min(axis = 0)) / (data.max(axis = 0) - data.min(axis = 0))\n",
    "    return data_mm\n",
    "\n",
    "# Nomalization 와 정규화 Standardization\n",
    "def numpy_standardization(data):\n",
    "    '''\n",
    "    (각데이터 = 평균(각열)) / 표준편차(각열)\n",
    "    '''\n",
    "    std_data = (data - np.mean(data, axis = 0) / np.std(data, axis = 0))\n",
    "    return std_data\n",
    "\n",
    "def main():\n",
    "    data = np.random.randint(30, size=(6,5))\n",
    "    # print(data)\n",
    "    print('표준화 데이터')\n",
    "    std_data_temp = numpy_standardization(data)\n",
    "    print(std_data_temp)\n",
    "\n",
    "    print('정규화 데이터')\n",
    "    no_data = normalization(data)\n",
    "    print(no_data)\n",
    "\n",
    "if __name__ == '__main__':\n",
    "    main()"
   ]
  },
  {
   "cell_type": "code",
   "execution_count": null,
   "metadata": {},
   "outputs": [],
   "source": []
  }
 ],
 "metadata": {
  "kernelspec": {
   "display_name": "Python 3.10.8 64-bit (microsoft store)",
   "language": "python",
   "name": "python3"
  },
  "language_info": {
   "codemirror_mode": {
    "name": "ipython",
    "version": 3
   },
   "file_extension": ".py",
   "mimetype": "text/x-python",
   "name": "python",
   "nbconvert_exporter": "python",
   "pygments_lexer": "ipython3",
   "version": "3.10.8"
  },
  "orig_nbformat": 4,
  "vscode": {
   "interpreter": {
    "hash": "7b1f2b33e866b0bf2409397e5f58ba9cdf170d3b7f64c8f359c79998e2f88ad4"
   }
  }
 },
 "nbformat": 4,
 "nbformat_minor": 2
}
