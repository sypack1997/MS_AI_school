{
 "cells": [
  {
   "cell_type": "code",
   "execution_count": 3,
   "metadata": {},
   "outputs": [],
   "source": [
    "import numpy as np\n",
    "from sklearn.preprocessing import OneHotEncoder\n",
    "from sklearn.preprocessing import LabelBinarizer, MultiLabelBinarizer"
   ]
  },
  {
   "cell_type": "code",
   "execution_count": 6,
   "metadata": {},
   "outputs": [
    {
     "name": "stdout",
     "output_type": "stream",
     "text": [
      "[('Texas', 'Florida'), ('California', 'alabama'), ('Texas', 'Florida'), ('Delware', 'Florida'), ('Texas', 'Florida')]\n",
      "classes >>  ['California' 'Delware' 'Florida' 'Texas' 'alabama']\n",
      "one_hot_data >>  [('Florida', 'Texas'), ('California', 'alabama'), ('Florida', 'Texas'), ('Delware', 'Florida'), ('Florida', 'Texas')]\n"
     ]
    }
   ],
   "source": [
    "# 순서가 없는 범주형 특성 인코딩\n",
    "# 사이킷런의 MultiLabelBinarizer\n",
    "\n",
    "multiclass_feature = [(\"Texas\", \"Florida\"), (\"California\", \"alabama\"), (\"Texas\", \"Florida\"), (\"Delware\", \"Florida\"), (\"Texas\", \"Florida\")]\n",
    "print(multiclass_feature)\n",
    "\n",
    "one_hot_multiclass = MultiLabelBinarizer() # 다중 클래스 원-핫 인코더 객체 생성\n",
    "one_hot_multiclass.fit_transform(multiclass_feature) # 다중 클래스 특성을 원-핫 인코더 실행\n",
    "\n",
    "one_hot_multiclass_classes = one_hot_multiclass.classes_\n",
    "\n",
    "one_hot_data = one_hot_multiclass.inverse_transform(one_hot_multiclass.transform(multiclass_feature))\n",
    "\n",
    "print(\"classes >> \", one_hot_multiclass_classes)\n",
    "print(\"one_hot_data >> \", one_hot_data)"
   ]
  },
  {
   "cell_type": "code",
   "execution_count": null,
   "metadata": {},
   "outputs": [],
   "source": []
  }
 ],
 "metadata": {
  "kernelspec": {
   "display_name": "Python 3.10.8 64-bit (microsoft store)",
   "language": "python",
   "name": "python3"
  },
  "language_info": {
   "codemirror_mode": {
    "name": "ipython",
    "version": 3
   },
   "file_extension": ".py",
   "mimetype": "text/x-python",
   "name": "python",
   "nbconvert_exporter": "python",
   "pygments_lexer": "ipython3",
   "version": "3.10.8"
  },
  "orig_nbformat": 4,
  "vscode": {
   "interpreter": {
    "hash": "7b1f2b33e866b0bf2409397e5f58ba9cdf170d3b7f64c8f359c79998e2f88ad4"
   }
  }
 },
 "nbformat": 4,
 "nbformat_minor": 2
}
