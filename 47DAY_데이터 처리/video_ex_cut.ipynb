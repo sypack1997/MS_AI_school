{
 "cells": [
  {
   "cell_type": "code",
   "execution_count": 11,
   "metadata": {},
   "outputs": [],
   "source": [
    "import cv2\n",
    "import os"
   ]
  },
  {
   "cell_type": "code",
   "execution_count": 12,
   "metadata": {},
   "outputs": [
    {
     "name": "stdout",
     "output_type": "stream",
     "text": [
      "fps >> 25.0\n"
     ]
    }
   ],
   "source": [
    "video_file_path = \"./video01.mp4\"\n",
    "\n",
    "#  동영상 캡처 객체 생성\n",
    "cap = cv2.VideoCapture(video_file_path)\n",
    "\n",
    "fps = cap.get(cv2.CAP_PROP_FPS)\n",
    "print(\"fps >>\", fps)"
   ]
  },
  {
   "cell_type": "code",
   "execution_count": 13,
   "metadata": {},
   "outputs": [
    {
     "name": "stdout",
     "output_type": "stream",
     "text": [
      "save frame number >>  25\n",
      "save frame number >>  50\n",
      "save frame number >>  75\n",
      "save frame number >>  100\n",
      "save frame number >>  125\n",
      "save frame number >>  150\n",
      "save frame number >>  175\n",
      "save frame number >>  200\n",
      "save frame number >>  225\n",
      "save frame number >>  250\n",
      "save frame number >>  275\n",
      "save frame number >>  300\n"
     ]
    }
   ],
   "source": [
    "count = 0\n",
    "if cap.isOpened():\n",
    "    while True:\n",
    "        ret, frame = cap.read()\n",
    "        if ret:\n",
    "            if (int(cap.get(1)) % fps == 0):  # fps 값을 사용하여 1초마다 추출\n",
    "                os.makedirs(\"./frame_image_save\", exist_ok=True)\n",
    "                cv2.imwrite(\"./frame_image_save/\" + \"frame%d.jpg\" %\n",
    "                            count, frame)\n",
    "                print(\"save frame number >> \", str(int(cap.get(1))))\n",
    "                count += 1\n",
    "        else:\n",
    "            break\n",
    "else:\n",
    "    print(\"비디오 열기 실패\")\n",
    "cap.release()\n",
    "cv2.destroyAllWindows()"
   ]
  },
  {
   "cell_type": "code",
   "execution_count": null,
   "metadata": {},
   "outputs": [],
   "source": []
  }
 ],
 "metadata": {
  "kernelspec": {
   "display_name": "Python 3.10.8 64-bit (microsoft store)",
   "language": "python",
   "name": "python3"
  },
  "language_info": {
   "codemirror_mode": {
    "name": "ipython",
    "version": 3
   },
   "file_extension": ".py",
   "mimetype": "text/x-python",
   "name": "python",
   "nbconvert_exporter": "python",
   "pygments_lexer": "ipython3",
   "version": "3.10.9"
  },
  "orig_nbformat": 4,
  "vscode": {
   "interpreter": {
    "hash": "7b1f2b33e866b0bf2409397e5f58ba9cdf170d3b7f64c8f359c79998e2f88ad4"
   }
  }
 },
 "nbformat": 4,
 "nbformat_minor": 2
}
