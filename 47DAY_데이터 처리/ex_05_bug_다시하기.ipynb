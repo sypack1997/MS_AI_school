{
 "cells": [
  {
   "cell_type": "code",
   "execution_count": 1,
   "metadata": {},
   "outputs": [],
   "source": [
    "import numpy as np\n",
    "import matplotlib.pyplot as plt\n",
    "import cv2"
   ]
  },
  {
   "cell_type": "code",
   "execution_count": 9,
   "metadata": {},
   "outputs": [],
   "source": [
    "# 그리기 위한 함수\n",
    "def drawhoughLinesOnImage(image, hooughLine):\n",
    "    for line in hooughLine:\n",
    "        for rho, theta in line:\n",
    "            a = np.cos(theta)\n",
    "            b = np.sin(theta)\n",
    "            x0 = a*rho\n",
    "            y0 = b*rho\n",
    "            x1 = int(x0 + 1000 * (-b))\n",
    "            y1 = int(y0 + 1000 * (a))\n",
    "            x2 = int(x0 - 1000 * (-b))\n",
    "            y2 = int(y0 - 1000 * (a))\n",
    "        cv2.line(image, (x1,y1), (x2,y2), (0,255,0),2)\n",
    "\n",
    "\n",
    "def draw_circle(img, circle):\n",
    "    for co, i in enumerate(circle[0, :], start = 1):\n",
    "        cv2.circle(img, (i[0], i[1]), i[2], (255,0,255),3)\n",
    "\n",
    "\n",
    "# Different wwights are added to the image to give a feeling of blending\n",
    "def blend_images(image, final_image, alpha=0.7, beta=1., gamma=0.):\n",
    "    return cv2.addWeighted(final_image, alpha, image, beta, gamma)\n"
   ]
  },
  {
   "cell_type": "code",
   "execution_count": 10,
   "metadata": {},
   "outputs": [
    {
     "ename": "error",
     "evalue": "OpenCV(4.5.5) :-1: error: (-5:Bad argument) in function 'circle'\n> Overload resolution failed:\n>  - Can't parse 'center'. Sequence item with index 0 has a wrong type\n>  - Can't parse 'center'. Sequence item with index 0 has a wrong type\n",
     "output_type": "error",
     "traceback": [
      "\u001b[1;31m---------------------------------------------------------------------------\u001b[0m",
      "\u001b[1;31merror\u001b[0m                                     Traceback (most recent call last)",
      "Cell \u001b[1;32mIn [10], line 23\u001b[0m\n\u001b[0;32m     20\u001b[0m houghImage \u001b[39m=\u001b[39m np\u001b[39m.\u001b[39mzeros_like(image)\n\u001b[0;32m     22\u001b[0m drawhoughLinesOnImage(houghImage, houghLine)\n\u001b[1;32m---> 23\u001b[0m draw_circle(houghImage, circles)\n\u001b[0;32m     25\u001b[0m orginalImageWithHough \u001b[39m=\u001b[39m blend_images(houghImage, image)\n\u001b[0;32m     27\u001b[0m cv2\u001b[39m.\u001b[39mimshow(\u001b[39m\"\u001b[39m\u001b[39mshow\u001b[39m\u001b[39m\"\u001b[39m, orginalImageWithHough)\n",
      "Cell \u001b[1;32mIn [9], line 18\u001b[0m, in \u001b[0;36mdraw_circle\u001b[1;34m(img, circle)\u001b[0m\n\u001b[0;32m     16\u001b[0m \u001b[39mdef\u001b[39;00m \u001b[39mdraw_circle\u001b[39m(img, circle):\n\u001b[0;32m     17\u001b[0m     \u001b[39mfor\u001b[39;00m co, i \u001b[39min\u001b[39;00m \u001b[39menumerate\u001b[39m(circle[\u001b[39m0\u001b[39m, :], start \u001b[39m=\u001b[39m \u001b[39m1\u001b[39m):\n\u001b[1;32m---> 18\u001b[0m         cv2\u001b[39m.\u001b[39;49mcircle(img, (i[\u001b[39m0\u001b[39;49m], i[\u001b[39m1\u001b[39;49m]), i[\u001b[39m2\u001b[39;49m], (\u001b[39m255\u001b[39;49m,\u001b[39m0\u001b[39;49m,\u001b[39m255\u001b[39;49m),\u001b[39m3\u001b[39;49m)\n",
      "\u001b[1;31merror\u001b[0m: OpenCV(4.5.5) :-1: error: (-5:Bad argument) in function 'circle'\n> Overload resolution failed:\n>  - Can't parse 'center'. Sequence item with index 0 has a wrong type\n>  - Can't parse 'center'. Sequence item with index 0 has a wrong type\n"
     ]
    }
   ],
   "source": [
    "# 1. 이미지 불러오기\n",
    "image = cv2.imread(\"test02.png\")\n",
    "\n",
    "# 2. gray스케일로 변환\n",
    "gray_image = cv2.cvtColor(image, cv2.COLOR_RGB2GRAY)\n",
    "\n",
    "# 3. 가우시안 블러 적용\n",
    "blurredImage = cv2.GaussianBlur(gray_image, (5,5), 0)\n",
    "edgeImage = cv2.Canny(blurredImage, 50, 120)\n",
    "\n",
    "# 4. Detect points that form a line\n",
    "dis_reso = 1 # Distance resolution in pixels of the Hough grid\n",
    "theta = np.pi / 180\n",
    "threshold = 170\n",
    "\n",
    "houghLine = cv2.HoughLines(edgeImage, dis_reso, theta, threshold)\n",
    "circles = cv2.HoughCircles(blurredImage, method=cv2.HOUGH_GRADIENT, dp=0.7, minDist=12, param1=70, param2=80)\n",
    "\n",
    "# 5. Create and empty image\n",
    "houghImage = np.zeros_like(image)\n",
    "\n",
    "drawhoughLinesOnImage(houghImage, houghLine)\n",
    "draw_circle(houghImage, circles)\n",
    "\n",
    "orginalImageWithHough = blend_images(houghImage, image)\n",
    "\n",
    "cv2.imshow(\"show\", orginalImageWithHough)\n",
    "cv2.waitKey(0)\n"
   ]
  },
  {
   "cell_type": "code",
   "execution_count": null,
   "metadata": {},
   "outputs": [],
   "source": []
  }
 ],
 "metadata": {
  "kernelspec": {
   "display_name": "Python 3.10.8 64-bit (microsoft store)",
   "language": "python",
   "name": "python3"
  },
  "language_info": {
   "codemirror_mode": {
    "name": "ipython",
    "version": 3
   },
   "file_extension": ".py",
   "mimetype": "text/x-python",
   "name": "python",
   "nbconvert_exporter": "python",
   "pygments_lexer": "ipython3",
   "version": "3.10.9"
  },
  "orig_nbformat": 4,
  "vscode": {
   "interpreter": {
    "hash": "7b1f2b33e866b0bf2409397e5f58ba9cdf170d3b7f64c8f359c79998e2f88ad4"
   }
  }
 },
 "nbformat": 4,
 "nbformat_minor": 2
}
