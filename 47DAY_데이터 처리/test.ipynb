{
 "cells": [
  {
   "cell_type": "code",
   "execution_count": 1,
   "metadata": {},
   "outputs": [
    {
     "data": {
      "text/plain": [
       "'\\n1. 이미지에서 얼굴과 눈 감지\\n2. 감지된 눈의 중심 계산\\n3. 두 눈 중앙 사이에 선을 긋기\\n4. 두 눈 사이의 수평선 그리기\\n5. 삼각형의 세 변의 길이 계산\\n6. 각도 계산\\n7. 계산된 각도로 이미지 회전\\n8. 이미지 크기 조정\\n'"
      ]
     },
     "execution_count": 1,
     "metadata": {},
     "output_type": "execute_result"
    }
   ],
   "source": [
    "# Open CV에서 얼굴 정렬하는 방법\n",
    "'''\n",
    "1. 이미지에서 얼굴과 눈 감지\n",
    "2. 감지된 눈의 중심 계산\n",
    "3. 두 눈 중앙 사이에 선을 긋기\n",
    "4. 두 눈 사이의 수평선 그리기\n",
    "5. 삼각형의 세 변의 길이 계산 및 각도 계산\n",
    "6. 계산된 각도로 이미지 회전\n",
    "7. 이미지 크기 조정\n",
    "'''"
   ]
  },
  {
   "cell_type": "code",
   "execution_count": 24,
   "metadata": {},
   "outputs": [
    {
     "data": {
      "text/plain": [
       "-1"
      ]
     },
     "execution_count": 24,
     "metadata": {},
     "output_type": "execute_result"
    }
   ],
   "source": [
    "## 1. 이미지에서 얼굴과 눈 감지\n",
    "import cv2\n",
    "import numpy as np\n",
    "\n",
    "face_cascade = cv2.CascadeClassifier(\"haarcascade_frontalface_default.xml\")\n",
    "eye_cascade = cv2.CascadeClassifier(\"haarcascade_eye.xml\")\n",
    "\n",
    "## 1-1. 얼굴 이미지 데이터 읽기\n",
    "img = cv2.imread('face.png')\n",
    "cv2.imshow(\"image show\", img)\n",
    "cv2.waitKey(0)"
   ]
  },
  {
   "cell_type": "code",
   "execution_count": 25,
   "metadata": {},
   "outputs": [
    {
     "data": {
      "text/plain": [
       "-1"
      ]
     },
     "execution_count": 25,
     "metadata": {},
     "output_type": "execute_result"
    }
   ],
   "source": [
    "## 1-2. 얼굴 이미지 바운딩 박스\n",
    "# gray스케일로 변환\n",
    "gray = cv2.cvtColor(img, cv2.COLOR_BGR2GRAY)\n",
    "\n",
    "# 바운딩 박스 좌표 획득\n",
    "faces = face_cascade.detectMultiScale(gray, 1.1, 4)\n",
    "\n",
    "# 박스 그리기\n",
    "for (x, y, w, h) in faces:\n",
    "    cv2.rectangle(img, (x,y), (x+w, y+h), (0,255,0), 3)\n",
    "cv2.imshow(\"face\", img)\n",
    "cv2.waitKey(0)"
   ]
  },
  {
   "cell_type": "code",
   "execution_count": 26,
   "metadata": {},
   "outputs": [
    {
     "data": {
      "text/plain": [
       "-1"
      ]
     },
     "execution_count": 26,
     "metadata": {},
     "output_type": "execute_result"
    }
   ],
   "source": [
    "## 1-3. 눈 감지\n",
    "# 관심영역 설정\n",
    "roi_gray = gray[y:(y+h), x:(x+w)]\n",
    "roi_color = img[y:(y+h), x:(x+w)]\n",
    " \n",
    "# 눈 바운딩 박스 좌표 설정\n",
    "eyes = eye_cascade.detectMultiScale(roi_gray, 1.1, 4) # gray스케일 이미지 필요\n",
    "index = 0\n",
    "\n",
    "# 오른쪽, 왼쪽 눈 박스 그리기\n",
    "for (ex, ey, ew, eh) in eyes:\n",
    "    if index ==0:\n",
    "        eye_1 = (ex, ey, ew, eh)\n",
    "    elif index == 1:\n",
    "        eye_2 = (ex, ey, ew, eh)\n",
    "\n",
    "# 눈 박스 그리기\n",
    "    cv2.rectangle(roi_color, (ex, ey), (ex+ew, ey+eh), (0,0,255), 3)\n",
    "    index += 1\n",
    "\n",
    "cv2.imshow(\"face\", img)\n",
    "cv2.waitKey(0)\n"
   ]
  },
  {
   "cell_type": "code",
   "execution_count": 23,
   "metadata": {},
   "outputs": [
    {
     "data": {
      "text/plain": [
       "-1"
      ]
     },
     "execution_count": 23,
     "metadata": {},
     "output_type": "execute_result"
    }
   ],
   "source": [
    "## 2. 감지된 눈의 중심 계산\n",
    "# 왼쪽 오른쪽 눈 기준 설정\n",
    "if eye_1[0] < eye_2[0]:\n",
    "    left_eye = eye_1\n",
    "    right_eye = eye_2\n",
    "else:\n",
    "    left_eye = eye_2\n",
    "    right_eye = eye_1\n",
    "\n",
    "# 눈 박스 중앙점 계산\n",
    "left_eye_center = (int(left_eye[0] + (left_eye[2] / 2)), int(left_eye[1] + (left_eye[3] / 2)))\n",
    "left_eye_x = left_eye_center[0]\n",
    "left_eye_y = left_eye_center[1]\n",
    "\n",
    "right_eye_center = (int(right_eye[0] + (right_eye[2] / 2)), int(right_eye[1] + (right_eye[3] / 2)))\n",
    "right_eye_x = right_eye_center[0]\n",
    "right_eye_y = right_eye_center[1]\n",
    "\n",
    "## 3. 두 눈 중앙 사이에 선 긋기\n",
    "cv2.circle(roi_color, left_eye_center, 5, (255,0,0), -1)\n",
    "cv2.circle(roi_color, right_eye_center, 5, (255,0,0), -1)\n",
    "cv2.line(roi_color, right_eye_center, left_eye_center, (0,200,200), 3)\n",
    "\n",
    "cv2.imshow(\"face\", img)\n",
    "cv2.waitKey(0)"
   ]
  },
  {
   "cell_type": "code",
   "execution_count": 8,
   "metadata": {},
   "outputs": [
    {
     "data": {
      "text/plain": [
       "-1"
      ]
     },
     "execution_count": 8,
     "metadata": {},
     "output_type": "execute_result"
    }
   ],
   "source": [
    "## 4. 두 눈 사이의 수평선 그리기\n",
    "if left_eye_y > right_eye_y:\n",
    "    A = (right_eye_x, left_eye_y)\n",
    "    # Integer -1 indicates that the image will rotate in the clockwise direction \n",
    "    direction = -1 # 시계 방향\n",
    "else:\n",
    "    A = (left_eye_x, right_eye_y)\n",
    "    direction = 1 # 반시계 방향\n",
    "\n",
    "cv2.circle(roi_color, A, 5, (255,0,0), -1)\n",
    "\n",
    "cv2.line(roi_color, right_eye_center, left_eye_center, (0,200,200),3)\n",
    "cv2.line(roi_color, left_eye_center, A, (0,200,200),3)\n",
    "cv2.line(roi_color, right_eye_center, A, (0,200,200),3)\n",
    "\n",
    "cv2.imshow(\"face\", img)\n",
    "cv2.waitKey(0)\n"
   ]
  },
  {
   "cell_type": "code",
   "execution_count": 10,
   "metadata": {},
   "outputs": [
    {
     "data": {
      "text/plain": [
       "-21.80140948635181"
      ]
     },
     "execution_count": 10,
     "metadata": {},
     "output_type": "execute_result"
    }
   ],
   "source": [
    "## 5. 삼각형의 세변의 길이 계산 및 각도 계산\n",
    "# np.arctan 함수는 라디안 단위로 각도를 반환 한다는 점에 유의.\n",
    "# 결과를 각도로 변환하려면\n",
    "# 각도 \\(\\theta(세타) \\ )에 180을 곱한 다음 \\(\\pi \\)로 나누어야 한다.\n",
    "delta_x = right_eye_x - left_eye_x\n",
    "delta_y = right_eye_y - left_eye_y\n",
    "angle = np.arctan(delta_y / delta_x)\n",
    "angle = (angle * 180) / np.pi\n",
    "angle"
   ]
  },
  {
   "cell_type": "code",
   "execution_count": 13,
   "metadata": {},
   "outputs": [
    {
     "data": {
      "text/plain": [
       "-1"
      ]
     },
     "execution_count": 13,
     "metadata": {},
     "output_type": "execute_result"
    }
   ],
   "source": [
    "## 6. 계산된 각도로 이미지 회전\n",
    "# Width and height of the image\n",
    "h, w = img.shape[:2] # img.shape = (300, 332, 3)\n",
    "\n",
    "# Calculating a center point of the image\n",
    "# Integer division \"//\"\" ensures that we receive whole number\n",
    "center = (w // 2, h// 2)\n",
    "\n",
    "# Defining a matrix M and calling\n",
    "# cv2.getRotationMatrix2D method\n",
    "M = cv2.getRotationMatrix2D(center, (angle), 1.0)\n",
    "\n",
    "# Applying the roration to our image using the\n",
    "# cv2.warpAffine method\n",
    "rotated = cv2.warpAffine(img, M, (w, h))\n",
    "cv2.imshow(\"face\", rotated)\n",
    "cv2.waitKey(0)"
   ]
  },
  {
   "cell_type": "code",
   "execution_count": null,
   "metadata": {},
   "outputs": [],
   "source": [
    "## 7. 이미지 크기 조정\n",
    "# 비율에 따라 이미지 조정"
   ]
  }
 ],
 "metadata": {
  "kernelspec": {
   "display_name": "Python 3.10.8 64-bit (microsoft store)",
   "language": "python",
   "name": "python3"
  },
  "language_info": {
   "codemirror_mode": {
    "name": "ipython",
    "version": 3
   },
   "file_extension": ".py",
   "mimetype": "text/x-python",
   "name": "python",
   "nbconvert_exporter": "python",
   "pygments_lexer": "ipython3",
   "version": "3.10.8"
  },
  "orig_nbformat": 4,
  "vscode": {
   "interpreter": {
    "hash": "7b1f2b33e866b0bf2409397e5f58ba9cdf170d3b7f64c8f359c79998e2f88ad4"
   }
  }
 },
 "nbformat": 4,
 "nbformat_minor": 2
}
