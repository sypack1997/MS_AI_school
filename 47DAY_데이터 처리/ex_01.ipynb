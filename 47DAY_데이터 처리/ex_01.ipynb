{
 "cells": [
  {
   "cell_type": "code",
   "execution_count": 3,
   "metadata": {},
   "outputs": [],
   "source": [
    "# 같은 크기의 이미지 블렌딩 실험\n",
    "import cv2\n",
    "import matplotlib.pyplot as plt\n",
    "import numpy as np"
   ]
  },
  {
   "cell_type": "code",
   "execution_count": 13,
   "metadata": {},
   "outputs": [
    {
     "name": "stdout",
     "output_type": "stream",
     "text": [
      "large_image size >>  (683, 1024, 3)\n",
      "watermark image size >>  (480, 640, 3)\n"
     ]
    },
    {
     "data": {
      "text/plain": [
       "-1"
      ]
     },
     "execution_count": 13,
     "metadata": {},
     "output_type": "execute_result"
    }
   ],
   "source": [
    "## 이미지 로드\n",
    "large_img = cv2.imread(\"./ex_image.png\")\n",
    "watermark = cv2.imread(\"./ex_image_logo.png\")\n",
    "\n",
    "print(\"large_image size >> \", large_img.shape)\n",
    "print(\"watermark image size >> \", watermark.shape)\n",
    "\n",
    "## 이미지 크기 조정\n",
    "img1 = cv2.resize(large_img, (800,600))\n",
    "img2 = cv2.resize(watermark, (800,600))\n",
    "\n",
    "# cv2.imshow(\"image large\", img1)\n",
    "# cv2.imshow(\"watermark\", img2)\n",
    "# cv2.waitKey(0)\n",
    "\n",
    "## 이미지 혼합\n",
    "blended = cv2.addWeighted(img1, 1, img2, 1, 0) # 이미지 투명도 0.5설정\n",
    "cv2. imshow(\"image show\", blended)\n",
    "cv2.waitKey(0)"
   ]
  },
  {
   "cell_type": "code",
   "execution_count": null,
   "metadata": {},
   "outputs": [],
   "source": []
  }
 ],
 "metadata": {
  "kernelspec": {
   "display_name": "Python 3.10.8 64-bit (microsoft store)",
   "language": "python",
   "name": "python3"
  },
  "language_info": {
   "codemirror_mode": {
    "name": "ipython",
    "version": 3
   },
   "file_extension": ".py",
   "mimetype": "text/x-python",
   "name": "python",
   "nbconvert_exporter": "python",
   "pygments_lexer": "ipython3",
   "version": "3.10.8"
  },
  "orig_nbformat": 4,
  "vscode": {
   "interpreter": {
    "hash": "7b1f2b33e866b0bf2409397e5f58ba9cdf170d3b7f64c8f359c79998e2f88ad4"
   }
  }
 },
 "nbformat": 4,
 "nbformat_minor": 2
}
