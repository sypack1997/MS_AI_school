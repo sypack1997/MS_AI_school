{
 "cells": [
  {
   "cell_type": "code",
   "execution_count": 1,
   "metadata": {},
   "outputs": [],
   "source": [
    "import cv2"
   ]
  },
  {
   "cell_type": "code",
   "execution_count": 16,
   "metadata": {},
   "outputs": [
    {
     "data": {
      "text/plain": [
       "-1"
      ]
     },
     "execution_count": 16,
     "metadata": {},
     "output_type": "execute_result"
    }
   ],
   "source": [
    "large_img = cv2.imread('ex_image.png')\n",
    "watermark = cv2.imread('ex_image_logo.png')\n",
    "# print(watermark)\n",
    "\n",
    "x_offset = 400\n",
    "y_offset = 170\n",
    "\n",
    "small_img = cv2.resize(watermark, (300,300))\n",
    "rows, columns, channels = small_img.shape\n",
    "roi = large_img[y_offset:470, x_offset:700]\n",
    "\n",
    "# logo image 빨간색 부분을 제외한 모든 것을 필터링 하도록 -> 회색조 이미지로 변경\n",
    "small_img_gray = cv2.cvtColor(small_img, cv2.COLOR_BGR2GRAY) # 정확히 검은색이 아닌 약간 어두운 회색 -> 바이너리 이미지를 생성하기 위해 임계값을 적용해야하는 이유\n",
    "ret, mask = cv2.threshold(small_img_gray, 120, 255, cv2.THRESH_BINARY)  # 문자를 완전한 검은색으로 만들기\n",
    "\n",
    "bg = cv2.bitwise_or(roi, roi, mask = mask)\n",
    "mask_inv = cv2.bitwise_not(mask) # 모든 검은색을 흰색으로, 흰색을 모두 검은색으로 변환\n",
    "\n",
    "fg = cv2.bitwise_and(small_img, small_img, mask = mask_inv)\n",
    "\n",
    "final_roi = cv2.add(bg, fg)\n",
    "\n",
    "large_img[y_offset : y_offset+small_img.shape[0], x_offset : x_offset+small_img.shape[1]] = final_roi\n",
    "\n",
    "cv2.imshow(\"test\", large_img)\n",
    "cv2.waitKey(0)"
   ]
  },
  {
   "cell_type": "code",
   "execution_count": null,
   "metadata": {},
   "outputs": [],
   "source": []
  }
 ],
 "metadata": {
  "kernelspec": {
   "display_name": "Python 3.10.8 64-bit (microsoft store)",
   "language": "python",
   "name": "python3"
  },
  "language_info": {
   "codemirror_mode": {
    "name": "ipython",
    "version": 3
   },
   "file_extension": ".py",
   "mimetype": "text/x-python",
   "name": "python",
   "nbconvert_exporter": "python",
   "pygments_lexer": "ipython3",
   "version": "3.10.8"
  },
  "orig_nbformat": 4,
  "vscode": {
   "interpreter": {
    "hash": "7b1f2b33e866b0bf2409397e5f58ba9cdf170d3b7f64c8f359c79998e2f88ad4"
   }
  }
 },
 "nbformat": 4,
 "nbformat_minor": 2
}
