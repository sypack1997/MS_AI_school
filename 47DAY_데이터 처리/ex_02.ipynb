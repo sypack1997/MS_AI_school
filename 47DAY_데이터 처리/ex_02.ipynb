{
 "cells": [
  {
   "cell_type": "code",
   "execution_count": 2,
   "metadata": {},
   "outputs": [],
   "source": [
    "import cv2\n",
    "import numpy as np"
   ]
  },
  {
   "cell_type": "code",
   "execution_count": 3,
   "metadata": {},
   "outputs": [
    {
     "data": {
      "text/plain": [
       "-1"
      ]
     },
     "execution_count": 3,
     "metadata": {},
     "output_type": "execute_result"
    }
   ],
   "source": [
    "# ex)1\n",
    "image_rectangle = np.ones((400,400), dtype = 'uint8')\n",
    "cv2.rectangle(image_rectangle, (50,50), (300,300), (255,255,255), -1)\n",
    "cv2.imshow(\"image show\", image_rectangle)\n",
    "cv2.waitKey(0)"
   ]
  },
  {
   "cell_type": "code",
   "execution_count": 4,
   "metadata": {},
   "outputs": [
    {
     "data": {
      "text/plain": [
       "-1"
      ]
     },
     "execution_count": 4,
     "metadata": {},
     "output_type": "execute_result"
    }
   ],
   "source": [
    "# ex)2\n",
    "image_circle = np.ones((400,400), dtype = 'uint8')\n",
    "cv2.circle(image_circle, (300,300), 70, (255,255,255), -1)\n",
    "cv2.imshow(\"image show\", image_circle)\n",
    "cv2.waitKey(0)"
   ]
  },
  {
   "cell_type": "code",
   "execution_count": 5,
   "metadata": {},
   "outputs": [
    {
     "data": {
      "text/plain": [
       "-1"
      ]
     },
     "execution_count": 5,
     "metadata": {},
     "output_type": "execute_result"
    }
   ],
   "source": [
    "# ex)3\n",
    "bitwiseAnd = cv2.bitwise_and(image_rectangle, image_circle)\n",
    "cv2.imshow(\"image bitwiseAnd\", bitwiseAnd)\n",
    "cv2.waitKey(0)\n",
    "\n",
    "bitwiseOr = cv2.bitwise_or(image_rectangle, image_circle)\n",
    "cv2.imshow(\"image bitwiseOr\", bitwiseOr)\n",
    "cv2.waitKey(0)\n",
    "\n",
    "bitwiseXor = cv2.bitwise_xor(image_rectangle, image_circle)\n",
    "cv2.imshow(\"Xor\", bitwiseXor)\n",
    "cv2.waitKey(0)\n",
    "\n",
    "rec_not = cv2.bitwise_not(image_rectangle)\n",
    "cv2.imshow(\"rectangle not \", rec_not)\n",
    "cv2.waitKey(0)\n",
    "\n",
    "\n",
    "circle_not = cv2.bitwise_not(image_circle)\n",
    "cv2.imshow(\"circle not \", circle_not)\n",
    "cv2.waitKey(0)\n"
   ]
  },
  {
   "cell_type": "code",
   "execution_count": 7,
   "metadata": {},
   "outputs": [
    {
     "data": {
      "text/plain": [
       "-1"
      ]
     },
     "execution_count": 7,
     "metadata": {},
     "output_type": "execute_result"
    }
   ],
   "source": [
    "# ex)4 마스킹 과제는 흰색대신 이미지를 넣어주시면 됩니다. (원하는 이미지 혹은 얼굴이미지)\n",
    "mask = np.zeros((683, 1024), dtype='uint8')\n",
    "cv2.rectangle(mask, (60, 50), (280, 280), (255, 255, 255), -1)\n",
    "cv2.rectangle(mask, (420, 50), (550, 230), (255, 255, 255), -1)\n",
    "cv2.rectangle(mask, (750, 50), (920, 280), (255, 255, 255), -1)\n",
    "cv2.imshow(\"...\", mask)\n",
    "cv2.waitKey(0)"
   ]
  },
  {
   "cell_type": "code",
   "execution_count": null,
   "metadata": {},
   "outputs": [],
   "source": []
  }
 ],
 "metadata": {
  "kernelspec": {
   "display_name": "Python 3.10.8 64-bit (microsoft store)",
   "language": "python",
   "name": "python3"
  },
  "language_info": {
   "codemirror_mode": {
    "name": "ipython",
    "version": 3
   },
   "file_extension": ".py",
   "mimetype": "text/x-python",
   "name": "python",
   "nbconvert_exporter": "python",
   "pygments_lexer": "ipython3",
   "version": "3.10.9"
  },
  "orig_nbformat": 4,
  "vscode": {
   "interpreter": {
    "hash": "7b1f2b33e866b0bf2409397e5f58ba9cdf170d3b7f64c8f359c79998e2f88ad4"
   }
  }
 },
 "nbformat": 4,
 "nbformat_minor": 2
}
