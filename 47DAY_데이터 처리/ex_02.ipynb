{
 "cells": [
  {
   "cell_type": "code",
   "execution_count": 1,
   "metadata": {},
   "outputs": [],
   "source": [
    "import cv2\n",
    "import numpy as np"
   ]
  },
  {
   "cell_type": "code",
   "execution_count": 3,
   "metadata": {},
   "outputs": [
    {
     "data": {
      "text/plain": [
       "-1"
      ]
     },
     "execution_count": 3,
     "metadata": {},
     "output_type": "execute_result"
    }
   ],
   "source": [
    "# ex)1\n",
    "image_rectangle = np.ones((400,400), dtype = 'uint8')\n",
    "cv2.rectangle(image_rectangle, (50,50), (300,300), (255,255,255), -1)\n",
    "cv2.imshow(\"image show\", image_rectangle)\n",
    "cv2.waitKey(0)"
   ]
  },
  {
   "cell_type": "code",
   "execution_count": 4,
   "metadata": {},
   "outputs": [
    {
     "data": {
      "text/plain": [
       "-1"
      ]
     },
     "execution_count": 4,
     "metadata": {},
     "output_type": "execute_result"
    }
   ],
   "source": [
    "# ex)2\n",
    "image_circle = np.ones((400,400), dtype = 'uint8')\n",
    "cv2.circle(image_circle, (300,300), 70, (255,255,255), -1)\n",
    "cv2.imshow(\"image show\", image_circle)\n",
    "cv2.waitKey(0)"
   ]
  },
  {
   "cell_type": "code",
   "execution_count": 6,
   "metadata": {},
   "outputs": [
    {
     "data": {
      "image/png": "[encoded data removed]",
      "text/plain": [
       "<Figure size 640x480 with 5 Axes>"
      ]
     },
     "metadata": {},
     "output_type": "display_data"
    }
   ],
   "source": [
    "# ex)3\n",
    "import matplotlib.pyplot as plt\n",
    "\n",
    "bitwiseAnd = cv2.bitwise_and(image_rectangle, image_circle)\n",
    "# cv2.imshow(\"image bitwiseAnd\", bitwiseAnd)\n",
    "cv2.waitKey(0)\n",
    "\n",
    "bitwiseOr = cv2.bitwise_or(image_rectangle, image_circle)\n",
    "# cv2.imshow(\"image bitwiseOr\", bitwiseOr)\n",
    "cv2.waitKey(0)\n",
    "\n",
    "bitwiseXor = cv2.bitwise_xor(image_rectangle, image_circle)\n",
    "# cv2.imshow(\"Xor\", bitwiseXor)\n",
    "cv2.waitKey(0)\n",
    "\n",
    "rec_not = cv2.bitwise_not(image_rectangle)\n",
    "# cv2.imshow(\"rectangle not \", rec_not)\n",
    "cv2.waitKey(0)\n",
    "\n",
    "\n",
    "circle_not = cv2.bitwise_not(image_circle)\n",
    "# cv2.imshow(\"circle not \", circle_not)\n",
    "cv2.waitKey(0)\n",
    "\n",
    "titles = ['bitwiseAnd', 'bitwiseOr', 'bitwiseXor','rec_not', 'circle_not']\n",
    "images = [bitwiseAnd, bitwiseOr, bitwiseXor, rec_not, circle_not]\n",
    "\n",
    "for i in range(5):\n",
    "    plt.subplot(1, 5, i+1)\n",
    "    plt.imshow(images[i], 'gray')\n",
    "    plt.title(titles[i])\n",
    "    plt.xticks([])\n",
    "    plt.yticks([])\n",
    "plt.show()"
   ]
  },
  {
   "cell_type": "code",
   "execution_count": 7,
   "metadata": {},
   "outputs": [
    {
     "data": {
      "text/plain": [
       "-1"
      ]
     },
     "execution_count": 7,
     "metadata": {},
     "output_type": "execute_result"
    }
   ],
   "source": [
    "# ex)4 마스킹 과제는 흰색대신 이미지를 넣어주시면 됩니다. (원하는 이미지 혹은 얼굴이미지)\n",
    "face_cascade = cv2.CascadeClassifier(\"haarcascade_frontalface_default.xml\")\n",
    "\n",
    "img = cv2.imread('face_picture.png') # 이미지 불러오기\n",
    "\n",
    "gray = cv2.cvtColor(img, cv2.COLOR_BGR2GRAY) # gray scale로 변환\n",
    "\n",
    "faces = face_cascade.detectMultiScale(gray, 1.1, 4) # 좌표탐지\n",
    "\n",
    "img_faces = []\n",
    "for (x, y, w, h) in faces:\n",
    "    img_faces.append(img[y:(y+h), x:(x+w)]) # 리스트에 각 얼굴 이미지 넣기\n",
    "    cv2.rectangle(img, (x,y), (x+w, y+h), (0,255,0), 3)\n",
    "# cv2.imshow('show', img)\n",
    "# cv2.waitKey(0)\n",
    "\n",
    "mask = np.zeros((683, 1024, 3), dtype='uint8')\n",
    "cv2.rectangle(mask, (60, 50), (280, 280), (255, 255, 255), -1)\n",
    "cv2.rectangle(mask, (420, 50), (550, 230), (255, 255, 255), -1)\n",
    "cv2.rectangle(mask, (750, 50), (920, 280), (255, 255, 255), -1)\n",
    "# cv2.imshow(\"...\", mask)\n",
    "# cv2.waitKey(0)\n",
    "\n",
    "x_offset = [60, 420, 750] # mask 내 상자 위치 = mask 내 얼굴 이미지의 위치\n",
    "y_offset = [50, 50, 50] # resize 하기 전이라서 사진과 mask 내 상자 크기와 일치하지 않는다.\n",
    "\n",
    "x_end = [280, 550, 920]\n",
    "y_end = [280, 230, 280]\n",
    "\n",
    "resize_img_faces = []\n",
    "for i in range(len(img_faces)):\n",
    "    resize_img_faces.append(cv2.resize(img_faces[i], (x_end[i]-x_offset[i], y_end[i] - y_offset[i]))) # 얼굴 이미지 mask 내 상자 크기에 맞게 resize\n",
    "    mask[y_offset[i]:y_end[i], x_offset[i]:x_end[i]] = resize_img_faces[i]\n",
    "cv2.imshow(\"final\", mask)\n",
    "cv2.waitKey(0)"
   ]
  },
  {
   "cell_type": "code",
   "execution_count": null,
   "metadata": {},
   "outputs": [],
   "source": []
  }
 ],
 "metadata": {
  "kernelspec": {
   "display_name": "Python 3.10.8 64-bit (microsoft store)",
   "language": "python",
   "name": "python3"
  },
  "language_info": {
   "codemirror_mode": {
    "name": "ipython",
    "version": 3
   },
   "file_extension": ".py",
   "mimetype": "text/x-python",
   "name": "python",
   "nbconvert_exporter": "python",
   "pygments_lexer": "ipython3",
   "version": "3.10.9"
  },
  "orig_nbformat": 4,
  "vscode": {
   "interpreter": {
    "hash": "7b1f2b33e866b0bf2409397e5f58ba9cdf170d3b7f64c8f359c79998e2f88ad4"
   }
  }
 },
 "nbformat": 4,
 "nbformat_minor": 2
}
