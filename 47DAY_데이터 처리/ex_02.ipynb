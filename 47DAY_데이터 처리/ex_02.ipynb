{
 "cells": [
  {
   "cell_type": "code",
   "execution_count": 1,
   "metadata": {},
   "outputs": [],
   "source": [
    "import cv2\n",
    "import numpy as np"
   ]
  },
  {
   "cell_type": "code",
   "execution_count": 2,
   "metadata": {},
   "outputs": [
    {
     "data": {
      "text/plain": [
       "-1"
      ]
     },
     "execution_count": 2,
     "metadata": {},
     "output_type": "execute_result"
    }
   ],
   "source": [
    "# ex)1\n",
    "image_rectangle = np.ones((400,400), dtype = 'uint8')\n",
    "cv2.rectangle(image_rectangle, (50,50), (300,300), (255,255,255), -1)\n",
    "cv2.imshow(\"image show\", image_rectangle)\n",
    "cv2.waitKey(0)"
   ]
  },
  {
   "cell_type": "code",
   "execution_count": 3,
   "metadata": {},
   "outputs": [
    {
     "data": {
      "text/plain": [
       "-1"
      ]
     },
     "execution_count": 3,
     "metadata": {},
     "output_type": "execute_result"
    }
   ],
   "source": [
    "# ex)2\n",
    "image_circle = np.ones((400,400), dtype = 'uint8')\n",
    "cv2.circle(image_circle, (300,300), 70, (255,255,255), -1)\n",
    "cv2.imshow(\"image show\", image_circle)\n",
    "cv2.waitKey(0)"
   ]
  },
  {
   "cell_type": "code",
   "execution_count": 4,
   "metadata": {},
   "outputs": [
    {
     "data": {
      "text/plain": [
       "-1"
      ]
     },
     "execution_count": 4,
     "metadata": {},
     "output_type": "execute_result"
    }
   ],
   "source": [
    "# ex)3\n",
    "bitwiseAnd = cv2.bitwise_and(image_rectangle, image_circle)\n",
    "cv2.imshow(\"image bitwiseAnd\", bitwiseAnd)\n",
    "cv2.waitKey(0)\n",
    "\n",
    "bitwiseOr = cv2.bitwise_or(image_rectangle, image_circle)\n",
    "cv2.imshow(\"image bitwiseOr\", bitwiseOr)\n",
    "cv2.waitKey(0)\n",
    "\n",
    "bitwiseXor = cv2.bitwise_xor(image_rectangle, image_circle)\n",
    "cv2.imshow(\"Xor\", bitwiseXor)\n",
    "cv2.waitKey(0)\n",
    "\n",
    "rec_not = cv2.bitwise_not(image_rectangle)\n",
    "cv2.imshow(\"rectangle not \", rec_not)\n",
    "cv2.waitKey(0)\n",
    "\n",
    "\n",
    "circle_not = cv2.bitwise_not(image_circle)\n",
    "cv2.imshow(\"circle not \", circle_not)\n",
    "cv2.waitKey(0)\n"
   ]
  },
  {
   "cell_type": "code",
   "execution_count": 9,
   "metadata": {},
   "outputs": [
    {
     "ename": "ValueError",
     "evalue": "shape mismatch: value array of shape (159,159,3) could not be broadcast to indexing result of shape (2,)",
     "output_type": "error",
     "traceback": [
      "\u001b[1;31m---------------------------------------------------------------------------\u001b[0m",
      "\u001b[1;31mValueError\u001b[0m                                Traceback (most recent call last)",
      "Cell \u001b[1;32mIn [9], line 18\u001b[0m\n\u001b[0;32m     14\u001b[0m \u001b[39m# cv2.imshow('show', img)\u001b[39;00m\n\u001b[0;32m     15\u001b[0m \u001b[39m# cv2.waitKey(0)\u001b[39;00m\n\u001b[0;32m     16\u001b[0m mask \u001b[39m=\u001b[39m np\u001b[39m.\u001b[39mzeros((\u001b[39m683\u001b[39m, \u001b[39m1024\u001b[39m), dtype\u001b[39m=\u001b[39m\u001b[39m'\u001b[39m\u001b[39muint8\u001b[39m\u001b[39m'\u001b[39m)\n\u001b[1;32m---> 18\u001b[0m mask[(\u001b[39m60\u001b[39m, \u001b[39m50\u001b[39m), (\u001b[39m280\u001b[39m, \u001b[39m280\u001b[39m)] \u001b[39m=\u001b[39m img_faces[\u001b[39m0\u001b[39m]\n\u001b[0;32m     19\u001b[0m mask[(\u001b[39m420\u001b[39m, \u001b[39m50\u001b[39m), (\u001b[39m550\u001b[39m, \u001b[39m230\u001b[39m)] \u001b[39m=\u001b[39m img_faces[\u001b[39m0\u001b[39m]\n\u001b[0;32m     20\u001b[0m mask[(\u001b[39m750\u001b[39m, \u001b[39m50\u001b[39m), (\u001b[39m920\u001b[39m, \u001b[39m280\u001b[39m)] \u001b[39m=\u001b[39m img_faces[\u001b[39m0\u001b[39m]\n",
      "\u001b[1;31mValueError\u001b[0m: shape mismatch: value array of shape (159,159,3) could not be broadcast to indexing result of shape (2,)"
     ]
    },
    {
     "ename": "",
     "evalue": "",
     "output_type": "error",
     "traceback": [
      "\u001b[1;31m현재 셀 또는 이전 셀에서 코드를 실행하는 동안 Kernel이 충돌했습니다. 셀의 코드를 검토하여 오류의 가능한 원인을 식별하세요. 자세한 내용을 보려면 <a href='https://aka.ms/vscodeJupyterKernelCrash'> 여기 </a> 를 클릭하세요. 자세한 내용은 Jupyter <a href='command:jupyter.viewOutput'>로그</a>를 참조하세요."
     ]
    }
   ],
   "source": [
    "# ex)4 마스킹 과제는 흰색대신 이미지를 넣어주시면 됩니다. (원하는 이미지 혹은 얼굴이미지)\n",
    "face_cascade = cv2.CascadeClassifier(\"haarcascade_frontalface_default.xml\")\n",
    "\n",
    "img = cv2.imread('face_picture.png')\n",
    "\n",
    "gray = cv2.cvtColor(img, cv2.COLOR_BGR2GRAY)\n",
    "\n",
    "faces = face_cascade.detectMultiScale(gray, 1.1, 4)\n",
    "\n",
    "img_faces = []\n",
    "for (x, y, w, h) in faces:\n",
    "    img_faces.append(img[y:(y+h), x:(x+w)])\n",
    "    cv2.rectangle(img, (x,y), (x+w, y+h), (0,255,0), 3)\n",
    "# cv2.imshow('show', img)\n",
    "# cv2.waitKey(0)\n",
    "\n",
    "x_offset = [60, 420, 750]\n",
    "y_offset = [50, 50, 50]\n",
    "\n",
    "x_end = [280, 550, 920]\n",
    "y_end = [280, 230, 280]\n",
    "\n",
    "\n",
    "mask = np.zeros((683, 1024), dtype='uint8')\n",
    "cv2.rectangle(mask, (60, 50), (280, 280), (255, 255, 255), -1)\n",
    "cv2.rectangle(mask, (420, 50), (550, 230), (255, 255, 255), -1)\n",
    "cv2.rectangle(mask, (750, 50), (920, 280), (255, 255, 255), -1)\n",
    "cv2.imshow(\"...\", mask)\n",
    "cv2.waitKey(0)"
   ]
  },
  {
   "cell_type": "code",
   "execution_count": null,
   "metadata": {},
   "outputs": [],
   "source": [
    "img1 = cv2.resize(large_img, (800,600))"
   ]
  }
 ],
 "metadata": {
  "kernelspec": {
   "display_name": "Python 3.10.8 64-bit (microsoft store)",
   "language": "python",
   "name": "python3"
  },
  "language_info": {
   "codemirror_mode": {
    "name": "ipython",
    "version": 3
   },
   "file_extension": ".py",
   "mimetype": "text/x-python",
   "name": "python",
   "nbconvert_exporter": "python",
   "pygments_lexer": "ipython3",
   "version": "3.10.9"
  },
  "orig_nbformat": 4,
  "vscode": {
   "interpreter": {
    "hash": "7b1f2b33e866b0bf2409397e5f58ba9cdf170d3b7f64c8f359c79998e2f88ad4"
   }
  }
 },
 "nbformat": 4,
 "nbformat_minor": 2
}
