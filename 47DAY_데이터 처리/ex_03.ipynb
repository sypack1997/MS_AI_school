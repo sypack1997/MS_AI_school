{
 "cells": [
  {
   "cell_type": "code",
   "execution_count": 2,
   "metadata": {},
   "outputs": [],
   "source": [
    "import cv2"
   ]
  },
  {
   "cell_type": "code",
   "execution_count": 3,
   "metadata": {},
   "outputs": [
    {
     "data": {
      "text/plain": [
       "-1"
      ]
     },
     "execution_count": 3,
     "metadata": {},
     "output_type": "execute_result"
    }
   ],
   "source": [
    "large_img = cv2.imread('ex_image.png')\n",
    "watermark = cv2.imread('ex_image_logo.png')\n",
    "\n",
    "small_img = cv2.resize(watermark, (300,300))\n",
    "\n",
    "# watermark 위치 조정\n",
    "x_offset = 30\n",
    "y_offset = 170\n",
    "\n",
    "x_end = x_offset + small_img.shape[0]\n",
    "y_end = y_offset + small_img.shape[1]\n",
    "\n",
    "# crop = large_img[y_offset:y_end, x_offset:x_end]\n",
    "large_img[y_offset:y_end, x_offset:x_end] = small_img\n",
    "cv2.imshow(\"test\", large_img)\n",
    "cv2.waitKey(0)"
   ]
  },
  {
   "cell_type": "code",
   "execution_count": null,
   "metadata": {},
   "outputs": [],
   "source": []
  }
 ],
 "metadata": {
  "kernelspec": {
   "display_name": "Python 3.10.8 64-bit (microsoft store)",
   "language": "python",
   "name": "python3"
  },
  "language_info": {
   "codemirror_mode": {
    "name": "ipython",
    "version": 3
   },
   "file_extension": ".py",
   "mimetype": "text/x-python",
   "name": "python",
   "nbconvert_exporter": "python",
   "pygments_lexer": "ipython3",
   "version": "3.10.8"
  },
  "orig_nbformat": 4,
  "vscode": {
   "interpreter": {
    "hash": "7b1f2b33e866b0bf2409397e5f58ba9cdf170d3b7f64c8f359c79998e2f88ad4"
   }
  }
 },
 "nbformat": 4,
 "nbformat_minor": 2
}
