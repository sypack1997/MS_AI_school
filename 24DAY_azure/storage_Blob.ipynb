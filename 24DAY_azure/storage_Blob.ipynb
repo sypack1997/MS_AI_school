{
 "cells": [
  {
   "cell_type": "code",
   "execution_count": 1,
   "metadata": {},
   "outputs": [
    {
     "name": "stdout",
     "output_type": "stream",
     "text": [
      "Collecting azure-storage-blob\n",
      "  Downloading azure_storage_blob-12.14.1-py3-none-any.whl (383 kB)\n",
      "     -------------------------------------- 383.2/383.2 kB 4.8 MB/s eta 0:00:00\n",
      "Requirement already satisfied: msrest>=0.7.1 in c:\\users\\user\\appdata\\local\\packages\\pythonsoftwarefoundation.python.3.10_qbz5n2kfra8p0\\localcache\\local-packages\\python310\\site-packages (from azure-storage-blob) (0.7.1)\n",
      "Collecting cryptography>=2.1.4\n",
      "  Downloading cryptography-38.0.3-cp36-abi3-win_amd64.whl (2.4 MB)\n",
      "     ---------------------------------------- 2.4/2.4 MB 4.7 MB/s eta 0:00:00\n",
      "Requirement already satisfied: azure-core<2.0.0,>=1.24.2 in c:\\users\\user\\appdata\\local\\packages\\pythonsoftwarefoundation.python.3.10_qbz5n2kfra8p0\\localcache\\local-packages\\python310\\site-packages (from azure-storage-blob) (1.26.0)\n",
      "Requirement already satisfied: six>=1.11.0 in c:\\users\\user\\appdata\\local\\packages\\pythonsoftwarefoundation.python.3.10_qbz5n2kfra8p0\\localcache\\local-packages\\python310\\site-packages (from azure-core<2.0.0,>=1.24.2->azure-storage-blob) (1.16.0)\n",
      "Requirement already satisfied: requests>=2.18.4 in c:\\users\\user\\appdata\\local\\packages\\pythonsoftwarefoundation.python.3.10_qbz5n2kfra8p0\\localcache\\local-packages\\python310\\site-packages (from azure-core<2.0.0,>=1.24.2->azure-storage-blob) (2.28.1)\n",
      "Requirement already satisfied: typing-extensions>=4.0.1 in c:\\users\\user\\appdata\\local\\packages\\pythonsoftwarefoundation.python.3.10_qbz5n2kfra8p0\\localcache\\local-packages\\python310\\site-packages (from azure-core<2.0.0,>=1.24.2->azure-storage-blob) (4.4.0)\n",
      "Requirement already satisfied: cffi>=1.12 in c:\\users\\user\\appdata\\local\\packages\\pythonsoftwarefoundation.python.3.10_qbz5n2kfra8p0\\localcache\\local-packages\\python310\\site-packages (from cryptography>=2.1.4->azure-storage-blob) (1.15.1)\n",
      "Requirement already satisfied: certifi>=2017.4.17 in c:\\users\\user\\appdata\\local\\packages\\pythonsoftwarefoundation.python.3.10_qbz5n2kfra8p0\\localcache\\local-packages\\python310\\site-packages (from msrest>=0.7.1->azure-storage-blob) (2022.9.24)\n",
      "Requirement already satisfied: isodate>=0.6.0 in c:\\users\\user\\appdata\\local\\packages\\pythonsoftwarefoundation.python.3.10_qbz5n2kfra8p0\\localcache\\local-packages\\python310\\site-packages (from msrest>=0.7.1->azure-storage-blob) (0.6.1)\n",
      "Requirement already satisfied: requests-oauthlib>=0.5.0 in c:\\users\\user\\appdata\\local\\packages\\pythonsoftwarefoundation.python.3.10_qbz5n2kfra8p0\\localcache\\local-packages\\python310\\site-packages (from msrest>=0.7.1->azure-storage-blob) (1.3.1)\n",
      "Requirement already satisfied: pycparser in c:\\users\\user\\appdata\\local\\packages\\pythonsoftwarefoundation.python.3.10_qbz5n2kfra8p0\\localcache\\local-packages\\python310\\site-packages (from cffi>=1.12->cryptography>=2.1.4->azure-storage-blob) (2.21)\n",
      "Requirement already satisfied: charset-normalizer<3,>=2 in c:\\users\\user\\appdata\\local\\packages\\pythonsoftwarefoundation.python.3.10_qbz5n2kfra8p0\\localcache\\local-packages\\python310\\site-packages (from requests>=2.18.4->azure-core<2.0.0,>=1.24.2->azure-storage-blob) (2.1.1)\n",
      "Requirement already satisfied: idna<4,>=2.5 in c:\\users\\user\\appdata\\local\\packages\\pythonsoftwarefoundation.python.3.10_qbz5n2kfra8p0\\localcache\\local-packages\\python310\\site-packages (from requests>=2.18.4->azure-core<2.0.0,>=1.24.2->azure-storage-blob) (3.4)\n",
      "Requirement already satisfied: urllib3<1.27,>=1.21.1 in c:\\users\\user\\appdata\\local\\packages\\pythonsoftwarefoundation.python.3.10_qbz5n2kfra8p0\\localcache\\local-packages\\python310\\site-packages (from requests>=2.18.4->azure-core<2.0.0,>=1.24.2->azure-storage-blob) (1.26.12)\n",
      "Requirement already satisfied: oauthlib>=3.0.0 in c:\\users\\user\\appdata\\local\\packages\\pythonsoftwarefoundation.python.3.10_qbz5n2kfra8p0\\localcache\\local-packages\\python310\\site-packages (from requests-oauthlib>=0.5.0->msrest>=0.7.1->azure-storage-blob) (3.2.1)\n",
      "Installing collected packages: cryptography, azure-storage-blob\n",
      "Successfully installed azure-storage-blob-12.14.1 cryptography-38.0.3\n",
      "Note: you may need to restart the kernel to use updated packages.\n"
     ]
    }
   ],
   "source": [
    "%pip install azure-storage-blob"
   ]
  },
  {
   "cell_type": "code",
   "execution_count": 3,
   "metadata": {},
   "outputs": [],
   "source": [
    "# 필요한 패키지를 불러온다\n",
    "import os, uuid\n",
    "from azure.storage.blob import BlobServiceClient, BlobClient, ContainerClient"
   ]
  },
  {
   "cell_type": "code",
   "execution_count": 5,
   "metadata": {},
   "outputs": [],
   "source": [
    "# blob 서비스에 연결한다.\n",
    "connect_string = '스토리지 계정 - 엑세스 키 - 연결문자열'\n",
    "\n",
    "blob_service_client = BlobServiceClient.from_connection_string(connect_string)"
   ]
  },
  {
   "cell_type": "code",
   "execution_count": 6,
   "metadata": {},
   "outputs": [
    {
     "name": "stdout",
     "output_type": "stream",
     "text": [
      "1a04d296-1d7f-441a-a6b4-071ab5b5d7af\n"
     ]
    }
   ],
   "source": [
    "# Container 생성\n",
    "container_name = str(uuid.uuid4())\n",
    "print(container_name)\n",
    "\n",
    "container_client = blob_service_client.create_container(container_name)"
   ]
  },
  {
   "cell_type": "code",
   "execution_count": 7,
   "metadata": {},
   "outputs": [],
   "source": [
    "# 데이터를 업로드 한다.\n",
    "\n",
    "local_path = './data'\n",
    "os.mkdir(local_path)\n",
    "\n",
    "local_file_name = str(uuid.uuid4()) + '.txt'\n",
    "upload_file_path = os.path.join(local_path, local_file_name)"
   ]
  },
  {
   "cell_type": "code",
   "execution_count": 8,
   "metadata": {},
   "outputs": [],
   "source": [
    "# 업로드 할 파일을 준비한다.\n",
    "file = open(file = upload_file_path, mode = 'w')\n",
    "file.write('Hello Azure Storage')\n",
    "file.close()\n",
    "\n",
    "blob_client = blob_service_client.get_blob_client(container = container_name, blob = local_file_name)\n",
    "\n",
    "\n",
    "# 파일 업로드\n",
    "with open(file = upload_file_path, mode = 'rb') as data:\n",
    "    blob_client.upload_blob(data)"
   ]
  },
  {
   "cell_type": "code",
   "execution_count": 11,
   "metadata": {},
   "outputs": [
    {
     "name": "stdout",
     "output_type": "stream",
     "text": [
      "\ta0145fdd-97b3-40f1-91e9-8d3c2f79b9a2.txt\n"
     ]
    }
   ],
   "source": [
    "# 파일의 목록의 확인\n",
    "blob_list = container_client.list_blobs()\n",
    "for blob in blob_list:\n",
    "    print('\\t' + blob.name)"
   ]
  },
  {
   "cell_type": "code",
   "execution_count": 14,
   "metadata": {},
   "outputs": [],
   "source": [
    "# 업로드된 파일의 다운로드\n",
    "\n",
    "download_file_path = os.path.join(local_path, str.replace(local_file_name, '.txt', 'DOWNLOAD.txt'))\n",
    "\n",
    "container_client = blob_service_client.get_container_client(container = container_name)\n",
    "\n",
    "with open(file = download_file_path, mode = 'wb') as download_file:\n",
    "    download_file.write(container_client.download_blob(blob.name).readall())"
   ]
  },
  {
   "cell_type": "code",
   "execution_count": 16,
   "metadata": {},
   "outputs": [
    {
     "name": "stdout",
     "output_type": "stream",
     "text": [
      "Press the Enter Key to begin clean up\n",
      "Deleting blob container...\n",
      "Deleting the local source and downloaded files...\n",
      "Done\n"
     ]
    }
   ],
   "source": [
    "# 실습한 자원의 정리\n",
    "print('Press the Enter Key to begin clean up')\n",
    "input()\n",
    "\n",
    "print('Deleting blob container...')\n",
    "container_client.delete_container()\n",
    "\n",
    "print('Deleting the local source and downloaded files...')\n",
    "os.remove(upload_file_path)\n",
    "os.remove(download_file_path)\n",
    "os.rmdir(local_path)\n",
    "\n",
    "print('Done')"
   ]
  },
  {
   "cell_type": "code",
   "execution_count": null,
   "metadata": {},
   "outputs": [],
   "source": []
  }
 ],
 "metadata": {
  "kernelspec": {
   "display_name": "Python 3.10.8 64-bit (microsoft store)",
   "language": "python",
   "name": "python3"
  },
  "language_info": {
   "codemirror_mode": {
    "name": "ipython",
    "version": 3
   },
   "file_extension": ".py",
   "mimetype": "text/x-python",
   "name": "python",
   "nbconvert_exporter": "python",
   "pygments_lexer": "ipython3",
   "version": "3.10.8"
  },
  "orig_nbformat": 4,
  "vscode": {
   "interpreter": {
    "hash": "7b1f2b33e866b0bf2409397e5f58ba9cdf170d3b7f64c8f359c79998e2f88ad4"
   }
  }
 },
 "nbformat": 4,
 "nbformat_minor": 2
}
