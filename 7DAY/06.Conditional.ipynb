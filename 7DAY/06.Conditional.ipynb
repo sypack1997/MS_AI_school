{
 "cells": [
  {
   "cell_type": "code",
   "execution_count": 7,
   "id": "2eb4a5be",
   "metadata": {},
   "outputs": [
    {
     "name": "stdout",
     "output_type": "stream",
     "text": [
      "a와 b의 값이 같습니다.\n"
     ]
    }
   ],
   "source": [
    "a = 1\n",
    "b = 1\n",
    "\n",
    "if a == b:\n",
    "    print(\"a와 b의 값이 같습니다.\")\n",
    "    \n",
    "if a!=b:\n",
    "    print(\"a와 b의 값이 다릅니다.\")"
   ]
  },
  {
   "cell_type": "code",
   "execution_count": 8,
   "id": "788e652f",
   "metadata": {},
   "outputs": [
    {
     "name": "stdout",
     "output_type": "stream",
     "text": [
      "a와 b의 값이 같습니다.\n"
     ]
    }
   ],
   "source": [
    "a = 1\n",
    "b = 1\n",
    "\n",
    "if a == b:\n",
    "    print(\"a와 b의 값이 같습니다.\")\n",
    "else:\n",
    "    print(\"a와 b의 값이 다릅니다.\")"
   ]
  },
  {
   "cell_type": "code",
   "execution_count": 10,
   "id": "4f279e3f",
   "metadata": {},
   "outputs": [
    {
     "name": "stdout",
     "output_type": "stream",
     "text": [
      "a는 b보다 작습니다.\n"
     ]
    }
   ],
   "source": [
    "a = 1\n",
    "b = 2\n",
    "\n",
    "if a == b:\n",
    "    print(\"a와 b의 값이 같습니다.\")\n",
    "elif a < b:\n",
    "    print(\"a는 b보다 작습니다.\")\n",
    "else:\n",
    "    print(\"a는 b보다 큽니다.\")"
   ]
  },
  {
   "cell_type": "code",
   "execution_count": null,
   "id": "bb426f30",
   "metadata": {},
   "outputs": [],
   "source": []
  }
 ],
 "metadata": {
  "kernelspec": {
   "display_name": "Python 3 (ipykernel)",
   "language": "python",
   "name": "python3"
  },
  "language_info": {
   "codemirror_mode": {
    "name": "ipython",
    "version": 3
   },
   "file_extension": ".py",
   "mimetype": "text/x-python",
   "name": "python",
   "nbconvert_exporter": "python",
   "pygments_lexer": "ipython3",
   "version": "3.9.12"
  }
 },
 "nbformat": 4,
 "nbformat_minor": 5
}
