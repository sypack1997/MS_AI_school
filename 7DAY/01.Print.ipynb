{
 "cells": [
  {
   "cell_type": "code",
   "execution_count": 1,
   "id": "0e49d029",
   "metadata": {},
   "outputs": [
    {
     "name": "stdout",
     "output_type": "stream",
     "text": [
      "Hello World\n"
     ]
    }
   ],
   "source": [
    "print('Hello World')"
   ]
  },
  {
   "cell_type": "code",
   "execution_count": 2,
   "id": "f83692ce",
   "metadata": {},
   "outputs": [
    {
     "name": "stdout",
     "output_type": "stream",
     "text": [
      "Hello \"안녕하세요\"\n"
     ]
    }
   ],
   "source": [
    "print('Hello \"안녕하세요\"')"
   ]
  },
  {
   "cell_type": "code",
   "execution_count": 3,
   "id": "e9def823",
   "metadata": {},
   "outputs": [
    {
     "name": "stdout",
     "output_type": "stream",
     "text": [
      "Hello '안녕하세요'\n"
     ]
    }
   ],
   "source": [
    "print(\"Hello '안녕하세요'\")"
   ]
  },
  {
   "cell_type": "code",
   "execution_count": 4,
   "id": "7660bf5a",
   "metadata": {},
   "outputs": [
    {
     "name": "stdout",
     "output_type": "stream",
     "text": [
      "안녕 하세요 반갑습니다.\n"
     ]
    }
   ],
   "source": [
    "print('안녕','하세요','반갑습니다.')"
   ]
  },
  {
   "cell_type": "code",
   "execution_count": 5,
   "id": "44c32f29",
   "metadata": {},
   "outputs": [
    {
     "name": "stdout",
     "output_type": "stream",
     "text": [
      "안녕하세요반갑습니다.\n"
     ]
    }
   ],
   "source": [
    "print('안녕' + '하세요' + '반갑습니다.')"
   ]
  },
  {
   "cell_type": "code",
   "execution_count": 6,
   "id": "119b9fc0",
   "metadata": {},
   "outputs": [
    {
     "name": "stdout",
     "output_type": "stream",
     "text": [
      "\n",
      "태양을 향해서라\n",
      "그리하면 너는 그림자를 볼 수 없을 것이다.\n",
      "\n",
      "-헬렌켈러\n",
      "\n",
      "\n"
     ]
    }
   ],
   "source": [
    "print(\"\"\"\n",
    "태양을 향해서라\n",
    "그리하면 너는 그림자를 볼 수 없을 것이다.\n",
    "\n",
    "-헬렌켈러\n",
    "\n",
    "\"\"\")"
   ]
  },
  {
   "cell_type": "code",
   "execution_count": 7,
   "id": "757e196d",
   "metadata": {},
   "outputs": [
    {
     "name": "stdout",
     "output_type": "stream",
     "text": [
      "Hello \n",
      " nice to meet you ^^\n"
     ]
    }
   ],
   "source": [
    "print('Hello \\n nice to meet you ^^')"
   ]
  },
  {
   "cell_type": "code",
   "execution_count": 8,
   "id": "98b51d4c",
   "metadata": {},
   "outputs": [
    {
     "name": "stdout",
     "output_type": "stream",
     "text": [
      "a = 123 b = 안녕하세요\n"
     ]
    }
   ],
   "source": [
    "a = 123\n",
    "b = '안녕하세요'\n",
    "\n",
    "print('a = {} b = {}'.format(a,b))"
   ]
  },
  {
   "cell_type": "code",
   "execution_count": 9,
   "id": "23c3a365",
   "metadata": {},
   "outputs": [
    {
     "name": "stdout",
     "output_type": "stream",
     "text": [
      "a = 123 b = 안녕하세요\n"
     ]
    }
   ],
   "source": [
    "a = 123\n",
    "b = '안녕하세요'\n",
    "\n",
    "print(f'a = {a} b = {b}')"
   ]
  },
  {
   "cell_type": "code",
   "execution_count": null,
   "id": "40d67ea1",
   "metadata": {},
   "outputs": [],
   "source": []
  }
 ],
 "metadata": {
  "kernelspec": {
   "display_name": "Python 3 (ipykernel)",
   "language": "python",
   "name": "python3"
  },
  "language_info": {
   "codemirror_mode": {
    "name": "ipython",
    "version": 3
   },
   "file_extension": ".py",
   "mimetype": "text/x-python",
   "name": "python",
   "nbconvert_exporter": "python",
   "pygments_lexer": "ipython3",
   "version": "3.9.12"
  }
 },
 "nbformat": 4,
 "nbformat_minor": 5
}
