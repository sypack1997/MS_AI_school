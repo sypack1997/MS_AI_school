{
 "cells": [
  {
   "cell_type": "code",
   "execution_count": 1,
   "id": "9908083a",
   "metadata": {},
   "outputs": [],
   "source": [
    "class MyClass:\n",
    "    pass"
   ]
  },
  {
   "cell_type": "code",
   "execution_count": 2,
   "id": "af61b720",
   "metadata": {},
   "outputs": [
    {
     "data": {
      "text/plain": [
       "__main__.MyClass"
      ]
     },
     "execution_count": 2,
     "metadata": {},
     "output_type": "execute_result"
    }
   ],
   "source": [
    "MyClass"
   ]
  },
  {
   "cell_type": "code",
   "execution_count": 3,
   "id": "c17c95e7",
   "metadata": {},
   "outputs": [
    {
     "data": {
      "text/plain": [
       "type"
      ]
     },
     "execution_count": 3,
     "metadata": {},
     "output_type": "execute_result"
    }
   ],
   "source": [
    "type(MyClass)"
   ]
  },
  {
   "cell_type": "code",
   "execution_count": 4,
   "id": "a0fca239",
   "metadata": {},
   "outputs": [],
   "source": [
    "class Person:\n",
    "    Name = 'Default Name' # Property\n",
    "    \n",
    "    def Print(self):\n",
    "        print(\"My name is {0}\".format(self.Name))"
   ]
  },
  {
   "cell_type": "code",
   "execution_count": 5,
   "id": "91de1c80",
   "metadata": {},
   "outputs": [],
   "source": [
    "son = Person()"
   ]
  },
  {
   "cell_type": "code",
   "execution_count": 7,
   "id": "22b0c028",
   "metadata": {},
   "outputs": [
    {
     "name": "stdout",
     "output_type": "stream",
     "text": [
      "My name is 손흥민\n"
     ]
    }
   ],
   "source": [
    "son.Name = '손흥민'\n",
    "son.Print()"
   ]
  },
  {
   "cell_type": "code",
   "execution_count": 8,
   "id": "85807387",
   "metadata": {},
   "outputs": [],
   "source": [
    "p1 = Person()\n",
    "p2 = Person()"
   ]
  },
  {
   "cell_type": "code",
   "execution_count": 9,
   "id": "4ed677b5",
   "metadata": {},
   "outputs": [],
   "source": [
    "p1.Name = '박보검'\n",
    "p2.Name = '민아'"
   ]
  },
  {
   "cell_type": "code",
   "execution_count": 11,
   "id": "841888f6",
   "metadata": {},
   "outputs": [
    {
     "name": "stdout",
     "output_type": "stream",
     "text": [
      "My name is 박보검\n",
      "My name is 민아\n"
     ]
    }
   ],
   "source": [
    "p1.Print()\n",
    "p2.Print()"
   ]
  },
  {
   "cell_type": "code",
   "execution_count": 12,
   "id": "ea333c57",
   "metadata": {},
   "outputs": [],
   "source": [
    "# instance\n",
    "\n",
    "Person.title = 'New title'"
   ]
  },
  {
   "cell_type": "code",
   "execution_count": 13,
   "id": "7b3f4311",
   "metadata": {},
   "outputs": [
    {
     "data": {
      "text/plain": [
       "'New title'"
      ]
     },
     "execution_count": 13,
     "metadata": {},
     "output_type": "execute_result"
    }
   ],
   "source": [
    "p1.title"
   ]
  },
  {
   "cell_type": "code",
   "execution_count": 14,
   "id": "05e219cc",
   "metadata": {},
   "outputs": [],
   "source": [
    "p1.age = 20"
   ]
  },
  {
   "cell_type": "code",
   "execution_count": 15,
   "id": "06324ebe",
   "metadata": {},
   "outputs": [
    {
     "data": {
      "text/plain": [
       "20"
      ]
     },
     "execution_count": 15,
     "metadata": {},
     "output_type": "execute_result"
    }
   ],
   "source": [
    "p1.age"
   ]
  },
  {
   "cell_type": "code",
   "execution_count": 16,
   "id": "aa39c8e7",
   "metadata": {},
   "outputs": [
    {
     "ename": "AttributeError",
     "evalue": "type object 'Person' has no attribute 'age'",
     "output_type": "error",
     "traceback": [
      "\u001b[1;31m---------------------------------------------------------------------------\u001b[0m",
      "\u001b[1;31mAttributeError\u001b[0m                            Traceback (most recent call last)",
      "Input \u001b[1;32mIn [16]\u001b[0m, in \u001b[0;36m<cell line: 1>\u001b[1;34m()\u001b[0m\n\u001b[1;32m----> 1\u001b[0m \u001b[43mPerson\u001b[49m\u001b[38;5;241;43m.\u001b[39;49m\u001b[43mage\u001b[49m\n",
      "\u001b[1;31mAttributeError\u001b[0m: type object 'Person' has no attribute 'age'"
     ]
    }
   ],
   "source": [
    "Person.age"
   ]
  },
  {
   "cell_type": "code",
   "execution_count": 17,
   "id": "fbcf43f3",
   "metadata": {},
   "outputs": [
    {
     "ename": "AttributeError",
     "evalue": "'Person' object has no attribute 'age'",
     "output_type": "error",
     "traceback": [
      "\u001b[1;31m---------------------------------------------------------------------------\u001b[0m",
      "\u001b[1;31mAttributeError\u001b[0m                            Traceback (most recent call last)",
      "Input \u001b[1;32mIn [17]\u001b[0m, in \u001b[0;36m<cell line: 1>\u001b[1;34m()\u001b[0m\n\u001b[1;32m----> 1\u001b[0m \u001b[43mp2\u001b[49m\u001b[38;5;241;43m.\u001b[39;49m\u001b[43mage\u001b[49m\n",
      "\u001b[1;31mAttributeError\u001b[0m: 'Person' object has no attribute 'age'"
     ]
    }
   ],
   "source": [
    "p2.age"
   ]
  },
  {
   "cell_type": "code",
   "execution_count": 18,
   "id": "b70895cf",
   "metadata": {},
   "outputs": [],
   "source": [
    "# 클래스의 상속\n",
    "\n",
    "class Person:\n",
    "    pass"
   ]
  },
  {
   "cell_type": "code",
   "execution_count": 19,
   "id": "7fa4bb02",
   "metadata": {},
   "outputs": [],
   "source": [
    "class Bird:\n",
    "    pass"
   ]
  },
  {
   "cell_type": "code",
   "execution_count": 20,
   "id": "2eb2f815",
   "metadata": {},
   "outputs": [],
   "source": [
    "class Student(Person):\n",
    "    pass"
   ]
  },
  {
   "cell_type": "code",
   "execution_count": 21,
   "id": "d47b871c",
   "metadata": {},
   "outputs": [],
   "source": [
    "p = Person()\n",
    "s = Student()"
   ]
  },
  {
   "cell_type": "code",
   "execution_count": 23,
   "id": "f2b1f88e",
   "metadata": {},
   "outputs": [
    {
     "data": {
      "text/plain": [
       "True"
      ]
     },
     "execution_count": 23,
     "metadata": {},
     "output_type": "execute_result"
    }
   ],
   "source": [
    "isinstance(p,Person)"
   ]
  },
  {
   "cell_type": "code",
   "execution_count": 25,
   "id": "113ce596",
   "metadata": {},
   "outputs": [
    {
     "data": {
      "text/plain": [
       "True"
      ]
     },
     "execution_count": 25,
     "metadata": {},
     "output_type": "execute_result"
    }
   ],
   "source": [
    "isinstance(s,Person)"
   ]
  },
  {
   "cell_type": "code",
   "execution_count": 26,
   "id": "acfb37fc",
   "metadata": {},
   "outputs": [
    {
     "data": {
      "text/plain": [
       "True"
      ]
     },
     "execution_count": 26,
     "metadata": {},
     "output_type": "execute_result"
    }
   ],
   "source": [
    "isinstance(s, object)"
   ]
  },
  {
   "cell_type": "code",
   "execution_count": 29,
   "id": "8cf6acbd",
   "metadata": {},
   "outputs": [
    {
     "data": {
      "text/plain": [
       "False"
      ]
     },
     "execution_count": 29,
     "metadata": {},
     "output_type": "execute_result"
    }
   ],
   "source": [
    "isinstance(p, Bird)"
   ]
  },
  {
   "cell_type": "code",
   "execution_count": 32,
   "id": "7d590ffc",
   "metadata": {},
   "outputs": [],
   "source": [
    "# 생성자, 소멸자\n",
    "\n",
    "class MyClass:\n",
    "    #생성자\n",
    "    def __init__(self,value):\n",
    "        self.Value = value\n",
    "        print(\"Class is created! Value = \", value)\n",
    "        \n",
    "    def __del__(self):\n",
    "        print(\"Class is deleted\")"
   ]
  },
  {
   "cell_type": "code",
   "execution_count": 35,
   "id": "62edeb94",
   "metadata": {},
   "outputs": [
    {
     "name": "stdout",
     "output_type": "stream",
     "text": [
      "Class is created! Value =  10\n"
     ]
    }
   ],
   "source": [
    "m = MyClass(10)"
   ]
  },
  {
   "cell_type": "code",
   "execution_count": 36,
   "id": "cb164a8d",
   "metadata": {},
   "outputs": [
    {
     "name": "stdout",
     "output_type": "stream",
     "text": [
      "Class is deleted\n"
     ]
    }
   ],
   "source": [
    "del m"
   ]
  },
  {
   "cell_type": "code",
   "execution_count": 41,
   "id": "404b9a16",
   "metadata": {},
   "outputs": [],
   "source": [
    "# 정적 메소드\n",
    "\n",
    "class CounterManager:\n",
    "    insCount = 0\n",
    "    \n",
    "    def __init__(self):\n",
    "        CounterManager.insCount +=1\n",
    "        \n",
    "    def printInstanceCount():\n",
    "        print('Instance Count:', CounterManager.insCount)"
   ]
  },
  {
   "cell_type": "code",
   "execution_count": 45,
   "id": "d31aed4c",
   "metadata": {},
   "outputs": [],
   "source": [
    "a,b,c = CounterManager(), CounterManager(), CounterManager()"
   ]
  },
  {
   "cell_type": "code",
   "execution_count": 47,
   "id": "45823a6b",
   "metadata": {},
   "outputs": [
    {
     "name": "stdout",
     "output_type": "stream",
     "text": [
      "Instance Count: 9\n"
     ]
    }
   ],
   "source": [
    "CounterManager.printInstanceCount()"
   ]
  },
  {
   "cell_type": "code",
   "execution_count": 48,
   "id": "9f7125a1",
   "metadata": {},
   "outputs": [],
   "source": [
    "# 상속의 확장\n",
    "\n",
    "class Person:\n",
    "    def __init__(self, name, phone):\n",
    "        self.Name = name\n",
    "        self.Phone = phone\n",
    "        \n",
    "    def PrintInfo(self):\n",
    "        print('Info(Name:{0}, Phone {1})'.format(self.Name, self.Phone))\n",
    "        \n",
    "    def PrintPersonData(self):\n",
    "        print('Person(Name:{0}, Phone {1})'.format(self.Name, self.Phone))"
   ]
  },
  {
   "cell_type": "code",
   "execution_count": 64,
   "id": "a9cde4b9",
   "metadata": {},
   "outputs": [],
   "source": [
    "class Student(Person):\n",
    "    \n",
    "    def __init__(self, name, phone, subject, studentID):\n",
    "        self.Name = name\n",
    "        self.Phone = phone\n",
    "        self.Subject = subject\n",
    "        self.StudentID = studentID\n",
    "        \n",
    "    def PrintStudentID(self):\n",
    "        print(self.StudenetID)"
   ]
  },
  {
   "cell_type": "code",
   "execution_count": 65,
   "id": "61d2a195",
   "metadata": {},
   "outputs": [],
   "source": [
    "p = Person('IU','010-0000-0000')\n",
    "s = Student('MinA','010-111-1111', 'Computer Science', '00000')"
   ]
  },
  {
   "cell_type": "code",
   "execution_count": 66,
   "id": "4ec18c5c",
   "metadata": {},
   "outputs": [
    {
     "data": {
      "text/plain": [
       "{'Name': 'IU', 'Phone': '010-0000-0000'}"
      ]
     },
     "execution_count": 66,
     "metadata": {},
     "output_type": "execute_result"
    }
   ],
   "source": [
    "p.__dict__"
   ]
  },
  {
   "cell_type": "code",
   "execution_count": 67,
   "id": "f2cbce78",
   "metadata": {},
   "outputs": [
    {
     "data": {
      "text/plain": [
       "{'Name': 'MinA',\n",
       " 'Phone': '010-111-1111',\n",
       " 'Subject': 'Computer Science',\n",
       " 'StudentID': '00000'}"
      ]
     },
     "execution_count": 67,
     "metadata": {},
     "output_type": "execute_result"
    }
   ],
   "source": [
    "s.__dict__"
   ]
  },
  {
   "cell_type": "code",
   "execution_count": 68,
   "id": "5bb6abf6",
   "metadata": {},
   "outputs": [
    {
     "name": "stdout",
     "output_type": "stream",
     "text": [
      "Info(Name:IU, Phone 010-0000-0000)\n"
     ]
    }
   ],
   "source": [
    "p.PrintInfo()"
   ]
  },
  {
   "cell_type": "code",
   "execution_count": 69,
   "id": "ab8d423e",
   "metadata": {},
   "outputs": [
    {
     "name": "stdout",
     "output_type": "stream",
     "text": [
      "Person(Name:IU, Phone 010-0000-0000)\n"
     ]
    }
   ],
   "source": [
    "p.PrintPersonData()"
   ]
  },
  {
   "cell_type": "code",
   "execution_count": 63,
   "id": "57f453ec",
   "metadata": {},
   "outputs": [
    {
     "name": "stdout",
     "output_type": "stream",
     "text": [
      "Info(Name:MinA, Phone 010-111-1111)\n"
     ]
    }
   ],
   "source": [
    "s.PrintInfo()"
   ]
  },
  {
   "cell_type": "code",
   "execution_count": null,
   "id": "df8a660d",
   "metadata": {},
   "outputs": [],
   "source": []
  }
 ],
 "metadata": {
  "kernelspec": {
   "display_name": "Python 3 (ipykernel)",
   "language": "python",
   "name": "python3"
  },
  "language_info": {
   "codemirror_mode": {
    "name": "ipython",
    "version": 3
   },
   "file_extension": ".py",
   "mimetype": "text/x-python",
   "name": "python",
   "nbconvert_exporter": "python",
   "pygments_lexer": "ipython3",
   "version": "3.9.12"
  }
 },
 "nbformat": 4,
 "nbformat_minor": 5
}
