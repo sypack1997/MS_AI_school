{
 "cells": [
  {
   "cell_type": "code",
   "execution_count": 1,
   "id": "1ea1cf5f",
   "metadata": {},
   "outputs": [
    {
     "name": "stdout",
     "output_type": "stream",
     "text": [
      "Hello World\n"
     ]
    }
   ],
   "source": [
    "print(\"Hello World\")"
   ]
  },
  {
   "cell_type": "code",
   "execution_count": 2,
   "id": "f2cc8d2a",
   "metadata": {},
   "outputs": [],
   "source": [
    "import sys"
   ]
  },
  {
   "cell_type": "code",
   "execution_count": 6,
   "id": "5fe27739",
   "metadata": {},
   "outputs": [
    {
     "name": "stderr",
     "output_type": "stream",
     "text": [
      "Welcome to  Python\n"
     ]
    }
   ],
   "source": [
    "print('Welcome to',' Python', file=sys.stderr)"
   ]
  },
  {
   "cell_type": "code",
   "execution_count": 8,
   "id": "9c916228",
   "metadata": {},
   "outputs": [],
   "source": [
    "f = open('test.txt','w')"
   ]
  },
  {
   "cell_type": "code",
   "execution_count": 9,
   "id": "bc9de2b0",
   "metadata": {},
   "outputs": [],
   "source": [
    "print('file write', file=f)\n",
    "f.close()"
   ]
  },
  {
   "cell_type": "markdown",
   "id": "1832a967",
   "metadata": {},
   "source": [
    "## File IO\n",
    "file 입출력을 다루다 보면 print를 사용 할 수도 있지만 open을 사용하는게 좋다."
   ]
  },
  {
   "cell_type": "code",
   "execution_count": 11,
   "id": "0f233de5",
   "metadata": {},
   "outputs": [],
   "source": [
    "f = open('test.txt', 'w')\n",
    "f.write('plow deep\\nwhile sluggards sleep')\n",
    "f.close()"
   ]
  },
  {
   "cell_type": "code",
   "execution_count": 14,
   "id": "97cc31f7",
   "metadata": {},
   "outputs": [],
   "source": [
    "f = open('test.txt', 'r')\n",
    "f.read()\n",
    "f.close()"
   ]
  },
  {
   "cell_type": "code",
   "execution_count": null,
   "id": "9498a8d5",
   "metadata": {},
   "outputs": [],
   "source": []
  }
 ],
 "metadata": {
  "kernelspec": {
   "display_name": "Python 3 (ipykernel)",
   "language": "python",
   "name": "python3"
  },
  "language_info": {
   "codemirror_mode": {
    "name": "ipython",
    "version": 3
   },
   "file_extension": ".py",
   "mimetype": "text/x-python",
   "name": "python",
   "nbconvert_exporter": "python",
   "pygments_lexer": "ipython3",
   "version": "3.9.12"
  }
 },
 "nbformat": 4,
 "nbformat_minor": 5
}
