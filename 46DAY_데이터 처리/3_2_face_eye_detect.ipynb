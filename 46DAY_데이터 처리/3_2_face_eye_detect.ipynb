{
 "cells": [
  {
   "cell_type": "code",
   "execution_count": 1,
   "metadata": {},
   "outputs": [
    {
     "data": {
      "text/plain": [
       "'\\n1. 이미지에서 얼굴과 눈 감지\\n2. 감지된 눈의 중심 계산\\n3. 두 눈 중앙 사이에 선을 긋기\\n4. 두 눈 사이의 수평선 그리기\\n5. 삼각형의 세 변의 길이 계산\\n6. 각도 계산\\n7. 계산된 각도로 이미지 회전\\n8. 이미지 크기 조정\\n'"
      ]
     },
     "execution_count": 1,
     "metadata": {},
     "output_type": "execute_result"
    }
   ],
   "source": [
    "# Open CV에서 얼굴 정렬하는 방법\n",
    "'''\n",
    "1. 이미지에서 얼굴과 눈 감지\n",
    "2. 감지된 눈의 중심 계산\n",
    "3. 두 눈 중앙 사이에 선을 긋기\n",
    "4. 두 눈 사이의 수평선 그리기\n",
    "5. 삼각형의 세 변의 길이 계산\n",
    "6. 각도 계산\n",
    "7. 계산된 각도로 이미지 회전\n",
    "8. 이미지 크기 조정\n",
    "'''"
   ]
  },
  {
   "cell_type": "code",
   "execution_count": 2,
   "metadata": {},
   "outputs": [
    {
     "data": {
      "text/plain": [
       "-1"
      ]
     },
     "execution_count": 2,
     "metadata": {},
     "output_type": "execute_result"
    }
   ],
   "source": [
    "## 1. 이미지에서 얼굴과 눈 감지\n",
    "import cv2\n",
    "import numpy as np\n",
    "\n",
    "face_cascade = cv2.CascadeClassifier(\"haarcascade_frontalface_default.xml\")\n",
    "eye_cascade = cv2.CascadeClassifier(\"haarcascade_eye.xml\")\n",
    "\n",
    "## 1-1. 얼굴 이미지 데이터 읽기\n",
    "img = cv2.imread('face.png')\n",
    "cv2.imshow(\"image show\", img)\n",
    "cv2.waitKey(0)"
   ]
  },
  {
   "cell_type": "code",
   "execution_count": 3,
   "metadata": {},
   "outputs": [
    {
     "data": {
      "text/plain": [
       "-1"
      ]
     },
     "execution_count": 3,
     "metadata": {},
     "output_type": "execute_result"
    }
   ],
   "source": [
    "## 1-2. 얼굴 이미지 바운딩 박스\n",
    "# Converting into grayscale\n",
    "gray = cv2.cvtColor(img, cv2.COLOR_BGR2GRAY)\n",
    "\n",
    "# Creating variable faces\n",
    "faces = face_cascade.detectMultiScale(gray, 1.1, 4)\n",
    "\n",
    "# Defining and drawing the rectangle around the face\n",
    "for (x, y, w, h) in faces:\n",
    "    cv2.rectangle(img, (x,y), (x+w, y+h), (0,255,0), 3)\n",
    "cv2.imshow(\"face\", img)\n",
    "cv2.waitKey(0)"
   ]
  },
  {
   "cell_type": "code",
   "execution_count": null,
   "metadata": {},
   "outputs": [],
   "source": [
    "## 1-3. 눈 감지\n",
    "# Creating two regions of interest\n",
    "roi_gray = gray[y:(y+h), x:(x+w)]\n",
    "roi_color = img[y:(y+h), x:(x+w)]\n",
    "\n",
    "# Creating cariable eyes\n",
    "eyes = eye_cascade.detectMultiScale(roi_gray, 1.1, 4)\n",
    "index = 0\n"
   ]
  }
 ],
 "metadata": {
  "kernelspec": {
   "display_name": "Python 3.10.8 64-bit (microsoft store)",
   "language": "python",
   "name": "python3"
  },
  "language_info": {
   "codemirror_mode": {
    "name": "ipython",
    "version": 3
   },
   "file_extension": ".py",
   "mimetype": "text/x-python",
   "name": "python",
   "nbconvert_exporter": "python",
   "pygments_lexer": "ipython3",
   "version": "3.10.8"
  },
  "orig_nbformat": 4,
  "vscode": {
   "interpreter": {
    "hash": "7b1f2b33e866b0bf2409397e5f58ba9cdf170d3b7f64c8f359c79998e2f88ad4"
   }
  }
 },
 "nbformat": 4,
 "nbformat_minor": 2
}
