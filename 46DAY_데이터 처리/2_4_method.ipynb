{
 "cells": [
  {
   "cell_type": "code",
   "execution_count": 1,
   "metadata": {},
   "outputs": [],
   "source": [
    "'''\n",
    "Gradient : detect edge (dilation - erosion)\n",
    "Tophat : original - opening\n",
    "Blackhat : Closing - original\n",
    "opening : dilation @ erosion\n",
    "closing : erosion @ dilation\n",
    "'''\n",
    "\n",
    "import numpy as np\n",
    "import cv2\n",
    "import matplotlib.pyplot as plt"
   ]
  },
  {
   "cell_type": "code",
   "execution_count": 2,
   "metadata": {},
   "outputs": [],
   "source": [
    "img = cv2.imread('./Billiards.png', cv2.IMREAD_GRAYSCALE)\n",
    "\n",
    "_, mask = cv2.threshold(img, 230, 255, cv2.THRESH_BINARY_INV)\n",
    "\n",
    "op_idx = {\n",
    "    'gradient': cv2.MORPH_GRADIENT,\n",
    "    'tophat': cv2.MORPH_TOPHAT,\n",
    "    'blackhat': cv2.MORPH_BLACKHAT\n",
    "}\n"
   ]
  },
  {
   "cell_type": "code",
   "execution_count": 3,
   "metadata": {},
   "outputs": [],
   "source": [
    "def onChange(k, op_name):\n",
    "    if k == 0:\n",
    "        cv2.imshow(op_name, mask)\n",
    "    kernel = cv2.getStructuringElement(cv2.MORPH_RECT, (k, k))\n",
    "    dst = cv2.morphologyEx(mask, op_idx[op_name], kernel)\n",
    "    cv2.imshow(op_name, dst)"
   ]
  },
  {
   "cell_type": "code",
   "execution_count": 6,
   "metadata": {},
   "outputs": [],
   "source": [
    "# cv2.imshow('origin', img)\n",
    "# cv2.imshow('gradient', mask)\n",
    "# cv2.imshow('tophat', mask)\n",
    "cv2.imshow('blackhat', mask)\n",
    "#\n",
    "# cv2.createTrackbar('k', 'gradient', 0, 300, lambda x: onChange(k=x, op_name='gradient'))\n",
    "# cv2.createTrackbar('k', 'tophat', 0, 300, lambda x: onChange(k=x, op_name='tophat'))\n",
    "cv2.createTrackbar('k', 'blackhat', 0, 300, lambda x: onChange(k=x, op_name='blackhat'))\n",
    "\n",
    "cv2.waitKey(0)\n",
    "cv2.destroyAllWindows()\n"
   ]
  },
  {
   "cell_type": "code",
   "execution_count": null,
   "metadata": {},
   "outputs": [],
   "source": []
  }
 ],
 "metadata": {
  "kernelspec": {
   "display_name": "Python 3.10.8 64-bit (microsoft store)",
   "language": "python",
   "name": "python3"
  },
  "language_info": {
   "codemirror_mode": {
    "name": "ipython",
    "version": 3
   },
   "file_extension": ".py",
   "mimetype": "text/x-python",
   "name": "python",
   "nbconvert_exporter": "python",
   "pygments_lexer": "ipython3",
   "version": "3.10.8"
  },
  "orig_nbformat": 4,
  "vscode": {
   "interpreter": {
    "hash": "7b1f2b33e866b0bf2409397e5f58ba9cdf170d3b7f64c8f359c79998e2f88ad4"
   }
  }
 },
 "nbformat": 4,
 "nbformat_minor": 2
}
