{
 "cells": [
  {
   "cell_type": "code",
   "execution_count": 95,
   "metadata": {},
   "outputs": [],
   "source": [
    "import requests\n",
    "import selenium\n",
    "from bs4 import BeautifulSoup\n",
    "from selenium import webdriver"
   ]
  },
  {
   "cell_type": "code",
   "execution_count": 96,
   "metadata": {},
   "outputs": [
    {
     "data": {
      "text/plain": [
       "'<!DOCTYPE html>\\n<html lang=\"ko\">\\n<head>\\n  <meta charset=\"utf-8\" />\\n  <meta name=\"viewport\" content=\"width=device-width,initial-scale=1,maximum-scale=1,minimum-scale=1,user-scalable=no\">\\n\\n  <meta property=\"og:title\" content=\"네이버 증권\" />\\n  <meta property=\"og:type\" content=\"article\" />\\n  <meta property=\"og:url\" content=\"https://m.stock.naver.com/domestic/capitalization/KOSPI\" />\\n  <meta property=\"og:description\" content=\"관심종목의 실시간 주가를 가장 빠르게 확인하는 곳\"/>\\n  <meta property=\"og:image\" content=\"https://ssl.pstatic.net/static/m/stock/im/2016/08/og_stock-200.png\"/>\\n  <meta property=\"og:article:author\" content=\"네이버증권\"/>\\n  <meta property=\"og:article:author:url\" content=\"https://m.stock.naver.com\"/>\\n  <meta property=\"og:article:thumbnailUrl\" content=\"https://ssl.pstatic.net/static/m/stock/im/2016/08/og_stock-200.png\"/>\\n\\n  <title>네이버 증권</title>\\n  <link rel=\"shortcut icon\" href=\"https://ssl.pstatic.net/imgstock/favi/favicon.ico\">\\n  <meta name=\"apple-mobile-web-app-title\" content=\"네이버 증권\" />\\n  <link rel=\"apple-touch-icon-precomposed\" href=\"https://ssl.pstatic.net/imgstock/favi/favicon-96x96.png\"/>\\n  <link rel=\"apple-touch-icon-precomposed\" sizes=\"180x180\" href=\"https://ssl.pstatic.net/imgstock/favi/favicon-180x180.png\"/>\\n  <link rel=\"apple-touch-icon-precomposed\" sizes=\"192x192\" href=\"https://ssl.pstatic.net/imgstock/favi/favicon-192x192.png\"/>\\n  <link rel=\"icon\" type=\"image/png\" sizes=\"16x16\" href=\"https://ssl.pstatic.net/imgstock/favi/favicon-16x16.png\"/>\\n  <link rel=\"icon\" type=\"image/png\" sizes=\"32x32\" href=\"https://ssl.pstatic.net/imgstock/favi/favicon-32x32.png\"/>\\n  <link rel=\"icon\" type=\"image/png\" sizes=\"96x96\" href=\"https://ssl.pstatic.net/imgstock/favi/favicon-96x96.png\"/>\\n  <link rel=\"icon\" type=\"image/png\" sizes=\"192x192\" href=\"https://ssl.pstatic.net/imgstock/favi/favicon-192x192.png\"/>\\n\\n  <link href=\"https://ssl.pstatic.net/imgstock/stock/build/prod/mobile/20221019172010/static/css/main.28b0ec7c.chunk.css\" rel=\"stylesheet\">\\n  <script type=\"text/javascript\" src=\"https://ssl.pstatic.net/imgstock/stock/build/prod/mobile/20221019172010/header.js?20221019172010\"></script>\\n<script type=\"text/javascript\" src=\"https://ssl.pstatic.net/tveta/libs/glad/prod/gfp-core.js\"></script>\\n</head>\\n<body class=\"international\">\\n <div id=\"root\"></div>\\n <script>!function(e){function t(t){for(var n,o,f=t[0],u=t[1],i=t[2],d=0,s=[];d<f.length;d++)o=f[d],Object.prototype.hasOwnProperty.call(a,o)&&a[o]&&s.push(a[o][0]),a[o]=0;for(n in u)Object.prototype.hasOwnProperty.call(u,n)&&(e[n]=u[n]);for(l&&l(t);s.length;)s.shift()();return c.push.apply(c,i||[]),r()}function r(){for(var e,t=0;t<c.length;t++){for(var r=c[t],n=!0,o=1;o<r.length;o++){var u=r[o];0!==a[u]&&(n=!1)}n&&(c.splice(t--,1),e=f(f.s=r[0]))}return e}var n={},o={7:0},a={7:0},c=[];function f(t){if(n[t])return n[t].exports;var r=n[t]={i:t,l:!1,exports:{}};return e[t].call(r.exports,r,r.exports,f),r.l=!0,r.exports}f.e=function(e){var t=[];o[e]?t.push(o[e]):0!==o[e]&&{1:1,2:1,4:1,9:1,10:1,11:1,12:1,13:1,14:1,15:1,16:1,17:1,19:1,20:1,21:1,22:1}[e]&&t.push(o[e]=new Promise((function(t,r){for(var n=\"static/css/\"+({}[e]||e)+\".\"+{0:\"31d6cfe0\",1:\"a08c3646\",2:\"5a7a458b\",3:\"31d6cfe0\",4:\"4d32f51f\",5:\"31d6cfe0\",9:\"ae70ff90\",10:\"14e1228e\",11:\"348c0532\",12:\"eb97e572\",13:\"9ba730c7\",14:\"2642f3ad\",15:\"41bd9c15\",16:\"fcfbf4e3\",17:\"724a9bd0\",18:\"31d6cfe0\",19:\"eb024f93\",20:\"81a24549\",21:\"44d051f8\",22:\"0162d134\",23:\"31d6cfe0\",24:\"31d6cfe0\"}[e]+\".chunk.css\",a=f.p+n,c=document.getElementsByTagName(\"link\"),u=0;u<c.length;u++){var i=(l=c[u]).getAttribute(\"data-href\")||l.getAttribute(\"href\");if(\"stylesheet\"===l.rel&&(i===n||i===a))return t()}var d=document.getElementsByTagName(\"style\");for(u=0;u<d.length;u++){var l;if((i=(l=d[u]).getAttribute(\"data-href\"))===n||i===a)return t()}var s=document.createElement(\"link\");s.rel=\"stylesheet\",s.type=\"text/css\",s.onload=t,s.onerror=function(t){var n=t&&t.target&&t.target.src||a,c=new Error(\"Loading CSS chunk \"+e+\" failed.\\\\n(\"+n+\")\");c.code=\"CSS_CHUNK_LOAD_FAILED\",c.request=n,delete o[e],s.parentNode.removeChild(s),r(c)},s.href=a,document.getElementsByTagName(\"head\")[0].appendChild(s)})).then((function(){o[e]=0})));var r=a[e];if(0!==r)if(r)t.push(r[2]);else{var n=new Promise((function(t,n){r=a[e]=[t,n]}));t.push(r[2]=n);var c,u=document.createElement(\"script\");u.charset=\"utf-8\",u.timeout=120,f.nc&&u.setAttribute(\"nonce\",f.nc),u.src=function(e){return f.p+\"static/js/\"+({}[e]||e)+\".\"+{0:\"086080dd\",1:\"755c628b\",2:\"9247503e\",3:\"db10b1a6\",4:\"8aaeb7dc\",5:\"91e039d1\",9:\"499e9e63\",10:\"781a472b\",11:\"e12a8b8a\",12:\"3e0a5bb6\",13:\"1d58712f\",14:\"2f827121\",15:\"fb1621b0\",16:\"c94c69fc\",17:\"5eb7e308\",18:\"dd5a1cdb\",19:\"68687fbb\",20:\"ed05206e\",21:\"b81baf58\",22:\"d2e2efb1\",23:\"b938328a\",24:\"8e6dc889\"}[e]+\".chunk.js\"}(e);var i=new Error;c=function(t){u.onerror=u.onload=null,clearTimeout(d);var r=a[e];if(0!==r){if(r){var n=t&&(\"load\"===t.type?\"missing\":t.type),o=t&&t.target&&t.target.src;i.message=\"Loading chunk \"+e+\" failed.\\\\n(\"+n+\": \"+o+\")\",i.name=\"ChunkLoadError\",i.type=n,i.request=o,r[1](i)}a[e]=void 0}};var d=setTimeout((function(){c({type:\"timeout\",target:u})}),12e4);u.onerror=u.onload=c,document.head.appendChild(u)}return Promise.all(t)},f.m=e,f.c=n,f.d=function(e,t,r){f.o(e,t)||Object.defineProperty(e,t,{enumerable:!0,get:r})},f.r=function(e){\"undefined\"!=typeof Symbol&&Symbol.toStringTag&&Object.defineProperty(e,Symbol.toStringTag,{value:\"Module\"}),Object.defineProperty(e,\"__esModule\",{value:!0})},f.t=function(e,t){if(1&t&&(e=f(e)),8&t)return e;if(4&t&&\"object\"==typeof e&&e&&e.__esModule)return e;var r=Object.create(null);if(f.r(r),Object.defineProperty(r,\"default\",{enumerable:!0,value:e}),2&t&&\"string\"!=typeof e)for(var n in e)f.d(r,n,function(t){return e[t]}.bind(null,n));return r},f.n=function(e){var t=e&&e.__esModule?function(){return e.default}:function(){return e};return f.d(t,\"a\",t),t},f.o=function(e,t){return Object.prototype.hasOwnProperty.call(e,t)},f.p=\"https://ssl.pstatic.net/imgstock/stock/build/prod/mobile/20221019172010/\",f.oe=function(e){throw console.error(e),e};var u=this[\"webpackJsonpweb-mobile-frontend\"]=this[\"webpackJsonpweb-mobile-frontend\"]||[],i=u.push.bind(u);u.push=t,u=u.slice();for(var d=0;d<u.length;d++)t(u[d]);var l=i;r()}([])</script>\\n <script src=\"https://ssl.pstatic.net/imgstock/stock/build/prod/mobile/20221019172010/static/js/8.d3999b2d.chunk.js\"></script>\\n <script src=\"https://ssl.pstatic.net/imgstock/stock/build/prod/mobile/20221019172010/static/js/main.87083a85.chunk.js\"></script>\\n</body>\\n</html>\\n'"
      ]
     },
     "execution_count": 96,
     "metadata": {},
     "output_type": "execute_result"
    }
   ],
   "source": [
    "url = 'https://m.stock.naver.com/domestic/capitalization/KOSPI'\n",
    "result = requests.get(url).text\n",
    "result"
   ]
  },
  {
   "cell_type": "code",
   "execution_count": 97,
   "metadata": {},
   "outputs": [
    {
     "name": "stderr",
     "output_type": "stream",
     "text": [
      "C:\\Users\\user\\AppData\\Local\\Temp\\ipykernel_16432\\3417785650.py:1: DeprecationWarning: executable_path has been deprecated, please pass in a Service object\n",
      "  driver = webdriver.Chrome('/Users/user/Appdata/Local/Microsoft/WindowsApps/PythonSoftwareFoundation.Python.3.10_qbz5n2kfra8p0/chromedriver')\n"
     ]
    }
   ],
   "source": [
    "driver = webdriver.Chrome('/Users/user/Appdata/Local/Microsoft/WindowsApps/PythonSoftwareFoundation.Python.3.10_qbz5n2kfra8p0/chromedriver')\n",
    "driver.implicitly_wait(3)"
   ]
  },
  {
   "cell_type": "code",
   "execution_count": 98,
   "metadata": {},
   "outputs": [],
   "source": [
    "driver.get('https://m.stock.naver.com/domestic/capitalization/KOSPI')"
   ]
  },
  {
   "cell_type": "code",
   "execution_count": 99,
   "metadata": {},
   "outputs": [],
   "source": [
    "html = driver.page_source"
   ]
  },
  {
   "cell_type": "code",
   "execution_count": 100,
   "metadata": {},
   "outputs": [],
   "source": [
    "soup = BeautifulSoup(html, 'html.parser')"
   ]
  },
  {
   "cell_type": "code",
   "execution_count": 101,
   "metadata": {},
   "outputs": [],
   "source": [
    "notices = soup.select('CommTable_td__3pFuL')"
   ]
  },
  {
   "cell_type": "code",
   "execution_count": 105,
   "metadata": {},
   "outputs": [],
   "source": [
    "for n in notices:\n",
    "    name = n.find('span',{'class':'CommTable_name__1LjLZ'}).text.strip()\n",
    "    print(name)"
   ]
  },
  {
   "cell_type": "code",
   "execution_count": null,
   "metadata": {},
   "outputs": [],
   "source": []
  }
 ],
 "metadata": {
  "kernelspec": {
   "display_name": "Python 3.10.8 64-bit (microsoft store)",
   "language": "python",
   "name": "python3"
  },
  "language_info": {
   "codemirror_mode": {
    "name": "ipython",
    "version": 3
   },
   "file_extension": ".py",
   "mimetype": "text/x-python",
   "name": "python",
   "nbconvert_exporter": "python",
   "pygments_lexer": "ipython3",
   "version": "3.10.8"
  },
  "orig_nbformat": 4,
  "vscode": {
   "interpreter": {
    "hash": "7b1f2b33e866b0bf2409397e5f58ba9cdf170d3b7f64c8f359c79998e2f88ad4"
   }
  }
 },
 "nbformat": 4,
 "nbformat_minor": 2
}
