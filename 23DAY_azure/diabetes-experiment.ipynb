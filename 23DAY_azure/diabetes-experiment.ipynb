{
  "cells": [
    {
      "cell_type": "code",
      "source": [
        " from azureml.core import Workspace\r\n",
        " ws = Workspace.from_config()\r\n",
        " print('Workspace name:' + ws.name,\r\n",
        "    'Azrue region:' + ws.location,\r\n",
        "    'Subscription ID:' + ws.subscription_id,\r\n",
        "    'Resource Group:' + ws.resource_group)"
      ],
      "outputs": [
        {
          "output_type": "stream",
          "name": "stdout",
          "text": "Workspace name:labuser45ml2 Azrue region:canadacentral Subscription ID:7ae06d59-97e1-4a36-bbfe-efb081b9b03b Resource Group:rg45\n"
        }
      ],
      "execution_count": 6,
      "metadata": {
        "gather": {
          "logged": 1667528280837
        }
      }
    },
    {
      "cell_type": "code",
      "source": [
        "# 실험공간의 생성\r\n",
        "from azureml.core import Experiment\r\n",
        "experiment = Experiment(workspace=ws, name='diabetes-experiment')"
      ],
      "outputs": [],
      "execution_count": 8,
      "metadata": {
        "jupyter": {
          "source_hidden": false,
          "outputs_hidden": false
        },
        "nteract": {
          "transient": {
            "deleting": false
          }
        },
        "gather": {
          "logged": 1667528366670
        }
      }
    },
    {
      "cell_type": "code",
      "source": [
        "from azureml.opendatasets import Diabetes\r\n",
        "from sklearn.model_selection import train_test_split\r\n",
        "\r\n",
        "x_df = Diabetes.get_tabular_dataset().to_pandas_dataframe().dropna()\r\n",
        "y_df = x_df.pop('Y')\r\n",
        "\r\n",
        "X_train, X_test, y_train, y_test = train_test_split(x_df, y_df, test_size = 0.2, random_state=66)\r\n",
        "print(X_train)"
      ],
      "outputs": [
        {
          "output_type": "stream",
          "name": "stdout",
          "text": "     AGE  SEX   BMI     BP   S1     S2    S3    S4      S5   S6\n440   36    1  30.0   95.0  201  125.2  42.0  4.79  5.1299   85\n389   47    2  26.5   70.0  181  104.8  63.0  3.00  4.1897   70\n5     23    1  22.6   89.0  139   64.8  61.0  2.00  4.1897   68\n289   28    2  31.5   83.0  228  149.4  38.0  6.00  5.3132   83\n101   53    2  22.2  113.0  197  115.2  67.0  3.00  4.3041  100\n..   ...  ...   ...    ...  ...    ...   ...   ...     ...  ...\n122   62    2  33.9  101.0  221  156.4  35.0  6.00  4.9972  103\n51    65    2  27.9  103.0  159   96.8  42.0  4.00  4.6151   86\n119   53    1  22.0   94.0  175   88.0  59.0  3.00  4.9416   98\n316   53    2  27.7   95.0  190  101.8  41.0  5.00  5.4638  101\n20    35    1  21.1   82.0  156   87.8  50.0  3.00  4.5109   95\n\n[353 rows x 10 columns]\n"
        }
      ],
      "execution_count": 12,
      "metadata": {
        "jupyter": {
          "source_hidden": false,
          "outputs_hidden": false
        },
        "nteract": {
          "transient": {
            "deleting": false
          }
        },
        "gather": {
          "logged": 1667528813019
        }
      }
    },
    {
      "cell_type": "code",
      "source": [
        "from sklearn.linear_model import Ridge\r\n",
        "from sklearn.metrics import mean_squared_error\r\n",
        "from sklearn.externals import joblib\r\n",
        "import math\r\n",
        "\r\n",
        "alphas = [0.1, 0.2, 0.3, 0.4, 0.5, 0.6, 0.7, 0.8, 0.9, 1]\r\n",
        "\r\n",
        "for alpha in alphas:\r\n",
        "    run = experiment.start_logging()\r\n",
        "    run.log('alpha_value', alpha)\r\n",
        "\r\n",
        "    model = Ridge(alpha=alpha)\r\n",
        "    model.fit(X_train, y_train)\r\n",
        "\r\n",
        "    y_pred = model.predict(X_test)\r\n",
        "    rmse = math.sqrt(mean_squared_error(y_test, y_pred))\r\n",
        "    run.log('rmse',rmse)\r\n",
        "\r\n",
        "    model_name = 'model_alpha_' + str(alpha) + '.pkl'\r\n",
        "    filename = 'outputs/' + model_name\r\n",
        "\r\n",
        "    joblib.dump(value = model, filename = filename)\r\n",
        "    run.upload_file(name=model_name, path_or_stream=filename)\r\n",
        "    run.complete()\r\n",
        "\r\n",
        "    print(f'{alpha} exp completed')"
      ],
      "outputs": [
        {
          "output_type": "stream",
          "name": "stderr",
          "text": "/anaconda/envs/azureml_py38/lib/python3.8/site-packages/sklearn/externals/joblib/__init__.py:15: FutureWarning: sklearn.externals.joblib is deprecated in 0.21 and will be removed in 0.23. Please import this functionality directly from joblib, which can be installed with: pip install joblib. If this warning is raised when loading pickled models, you may need to re-serialize those models with scikit-learn 0.21+.\n  warnings.warn(msg, category=FutureWarning)\n"
        },
        {
          "output_type": "stream",
          "name": "stdout",
          "text": "0.1 exp completed\n0.2 exp completed\n0.3 exp completed\n0.4 exp completed\n0.5 exp completed\n0.6 exp completed\n0.7 exp completed\n0.8 exp completed\n0.9 exp completed\n1 exp completed\n"
        }
      ],
      "execution_count": 13,
      "metadata": {
        "jupyter": {
          "source_hidden": false,
          "outputs_hidden": false
        },
        "nteract": {
          "transient": {
            "deleting": false
          }
        },
        "gather": {
          "logged": 1667530050803
        }
      }
    },
    {
      "cell_type": "code",
      "source": [
        "#Best model 탐색 후 다운로드\r\n",
        "\r\n",
        "minium_rmse_runid = None\r\n",
        "minium_rmse = None\r\n",
        "\r\n",
        "for run in experiment.get_runs():\r\n",
        "    run_metrics = run.get_metrics()\r\n",
        "    run_details = run.get_details()\r\n",
        "\r\n",
        "    run_rmse = run_metrics['rmse']\r\n",
        "    run_id = run_details['runId']\r\n",
        "\r\n",
        "    if minium_rmse is None:\r\n",
        "        minium_rmse = run_rmse\r\n",
        "        minium_rmse_runid = run_id\r\n",
        "    else :\r\n",
        "        if run_rmse < minium_rmse:\r\n",
        "            minium_rmse = run_rmse\r\n",
        "            minium_rmse_runid = run_id\r\n",
        "\r\n",
        "print('Best run_id:' + minium_rmse_runid)\r\n",
        "print('Best rmse:' + str(minium_rmse))"
      ],
      "outputs": [
        {
          "output_type": "stream",
          "name": "stdout",
          "text": "Best run_id:63358eec-1062-4939-8b6d-e7305ccd07f6\nBest rmse:56.605203313391435\n"
        }
      ],
      "execution_count": 14,
      "metadata": {
        "jupyter": {
          "source_hidden": false,
          "outputs_hidden": false
        },
        "nteract": {
          "transient": {
            "deleting": false
          }
        },
        "gather": {
          "logged": 1667535805661
        }
      }
    },
    {
      "cell_type": "code",
      "source": [
        "from azureml.core import Run\r\n",
        "best_run = Run(experiment = experiment, run_id = minium_rmse_runid)\r\n",
        "\r\n",
        "best_run.download_file(name = str(best_run.get_file_names()[0]))\r\n"
      ],
      "outputs": [],
      "execution_count": 15,
      "metadata": {
        "jupyter": {
          "source_hidden": false,
          "outputs_hidden": false
        },
        "nteract": {
          "transient": {
            "deleting": false
          }
        },
        "gather": {
          "logged": 1667536682861
        }
      }
    },
    {
      "cell_type": "code",
      "source": [
        "# best model_alpha의 feature와 label 데이터\r\n",
        "import numpy as np\r\n",
        "from azureml.core import Dataset\r\n",
        "\r\n",
        "np.savetxt('features.csv', X_train, delimiter = ',')\r\n",
        "np.savetxt('labels.csv', y_train, delimiter = ',')\r\n",
        "\r\n",
        "datastore = ws.get_default_datastore()\r\n",
        "datastore.upload_files(files=['./features.csv', './labels.csv'],\r\n",
        "                       target_path='diabetes-experiment/',\r\n",
        "                       overwrite=True)\r\n",
        "\r\n",
        "input_dataset = Dataset.Tabular.from_delimited_files(path=[(datastore, 'diabetes-experiment/features.csv')])\r\n",
        "output_dataset = Dataset.Tabular.from_delimited_files(path=[(datastore, 'diabetes-experiment/labels.csv')])"
      ],
      "outputs": [
        {
          "output_type": "stream",
          "name": "stderr",
          "text": "\"datastore.upload_files\" is deprecated after version 1.0.69. Please use \"FileDatasetFactory.upload_directory\" instead. See Dataset API change notice at https://aka.ms/dataset-deprecation.\n"
        },
        {
          "output_type": "stream",
          "name": "stdout",
          "text": "Uploading an estimated of 2 files\nUploading ./features.csv\nUploaded ./features.csv, 1 files out of an estimated total of 2\nUploading ./labels.csv\nUploaded ./labels.csv, 2 files out of an estimated total of 2\nUploaded 2 files\n"
        }
      ],
      "execution_count": 17,
      "metadata": {
        "jupyter": {
          "source_hidden": false,
          "outputs_hidden": false
        },
        "nteract": {
          "transient": {
            "deleting": false
          }
        },
        "gather": {
          "logged": 1667537068690
        }
      }
    },
    {
      "cell_type": "code",
      "source": [
        "import sklearn\r\n",
        "from azureml.core import Model\r\n",
        "from azureml.core.resource_configuration import ResourceConfiguration\r\n",
        "\r\n",
        "model = Model.register(workspace=ws,\r\n",
        "                       model_name='diabetes-experiment-model',\r\n",
        "                       model_path=f\"./{str(best_run.get_file_names()[0])}\",\r\n",
        "                       model_framework=Model.Framework.SCIKITLEARN,  \r\n",
        "                       model_framework_version=sklearn.__version__,  \r\n",
        "                       sample_input_dataset=input_dataset,\r\n",
        "                       sample_output_dataset=output_dataset,\r\n",
        "                       resource_configuration=ResourceConfiguration(cpu=1, memory_in_gb=0.5),\r\n",
        "                       description='Ridge regression model to predict diabetes progression.',\r\n",
        "                       tags={'area': 'diabetes', 'type': 'regression'})\r\n",
        "\r\n",
        "print('Name:', model.name)\r\n",
        "print('Version:', model.version)"
      ],
      "outputs": [
        {
          "output_type": "stream",
          "name": "stdout",
          "text": "Registering model diabetes-experiment-model\n"
        }
      ],
      "execution_count": 18,
      "metadata": {
        "jupyter": {
          "source_hidden": false,
          "outputs_hidden": false
        },
        "nteract": {
          "transient": {
            "deleting": false
          }
        },
        "gather": {
          "logged": 1667537423790
        }
      }
    },
    {
      "cell_type": "code",
      "source": [
        "# 배포하기 - endpoint 생성\r\n",
        "service_name = 'diabetes-service'\r\n",
        "\r\n",
        "service = Model.deploy(ws, service_name, [model], overwrite = True)\r\n",
        "service.wait_for_deployment(show_output = True)"
      ],
      "outputs": [
        {
          "output_type": "stream",
          "name": "stdout",
          "text": "Tips: You can try get_logs(): https://aka.ms/debugimage#dockerlog or local deployment: https://aka.ms/debugimage#debug-locally to debug if deployment takes longer than 10 minutes.\nRunning\n2022-11-04 05:11:03+00:00 Creating Container Registry if not exists..\n2022-11-04 05:21:04+00:00 Registering the environment..\n2022-11-04 05:21:09+00:00 Uploading autogenerated assets for no-code-deployment..\n2022-11-04 05:21:19+00:00 Building image..\n2022-11-04 05:31:42+00:00 Generating deployment configuration..\n2022-11-04 05:31:43+00:00 Submitting deployment to compute..\n2022-11-04 05:31:54+00:00 Checking the status of deployment diabetes-service..\n2022-11-04 05:33:52+00:00 Checking the status of inference endpoint diabetes-service.\nSucceeded\nACI service creation operation finished, operation \"Succeeded\"\n"
        }
      ],
      "execution_count": 19,
      "metadata": {
        "jupyter": {
          "source_hidden": false,
          "outputs_hidden": false
        },
        "nteract": {
          "transient": {
            "deleting": false
          }
        },
        "gather": {
          "logged": 1667540037634
        }
      }
    },
    {
      "cell_type": "code",
      "source": [
        "import json \r\n",
        "\r\n",
        "input_payload = json.dumps({\r\n",
        "    'data': X_train[0:2].values.tolist(),     \r\n",
        "    'method': 'predict' }) \r\n",
        "\r\n",
        "output = service.run(input_payload) \r\n",
        "print(output)"
      ],
      "outputs": [
        {
          "output_type": "stream",
          "name": "stdout",
          "text": "{'predict': [204.94506937062147, 74.4641225933554]}\n"
        }
      ],
      "execution_count": 20,
      "metadata": {
        "jupyter": {
          "source_hidden": false,
          "outputs_hidden": false
        },
        "nteract": {
          "transient": {
            "deleting": false
          }
        },
        "gather": {
          "logged": 1667540130189
        }
      }
    },
    {
      "cell_type": "code",
      "source": [],
      "outputs": [],
      "execution_count": null,
      "metadata": {
        "jupyter": {
          "source_hidden": false,
          "outputs_hidden": false
        },
        "nteract": {
          "transient": {
            "deleting": false
          }
        }
      }
    }
  ],
  "metadata": {
    "kernelspec": {
      "name": "python38-azureml",
      "language": "python",
      "display_name": "Python 3.8 - AzureML"
    },
    "language_info": {
      "name": "python",
      "version": "3.8.5",
      "mimetype": "text/x-python",
      "codemirror_mode": {
        "name": "ipython",
        "version": 3
      },
      "pygments_lexer": "ipython3",
      "nbconvert_exporter": "python",
      "file_extension": ".py"
    },
    "kernel_info": {
      "name": "python38-azureml"
    },
    "microsoft": {
      "host": {
        "AzureML": {
          "notebookHasBeenCompleted": true
        }
      }
    },
    "nteract": {
      "version": "nteract-front-end@1.0.0"
    }
  },
  "nbformat": 4,
  "nbformat_minor": 2
}