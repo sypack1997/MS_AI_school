{
 "cells": [
  {
   "cell_type": "code",
   "execution_count": 2,
   "metadata": {},
   "outputs": [
    {
     "name": "stderr",
     "output_type": "stream",
     "text": [
      "\n",
      "[notice] A new release of pip available: 22.3 -> 22.3.1\n",
      "[notice] To update, run: C:\\Users\\user\\AppData\\Local\\Microsoft\\WindowsApps\\PythonSoftwareFoundation.Python.3.10_qbz5n2kfra8p0\\python.exe -m pip install --upgrade pip\n"
     ]
    },
    {
     "name": "stdout",
     "output_type": "stream",
     "text": [
      "Requirement already satisfied: opencv-python==4.5.5.62 in c:\\users\\user\\appdata\\local\\packages\\pythonsoftwarefoundation.python.3.10_qbz5n2kfra8p0\\localcache\\local-packages\\python310\\site-packages (4.5.5.62)\n",
      "Requirement already satisfied: numpy>=1.21.2 in c:\\users\\user\\appdata\\local\\packages\\pythonsoftwarefoundation.python.3.10_qbz5n2kfra8p0\\localcache\\local-packages\\python310\\site-packages (from opencv-python==4.5.5.62) (1.23.4)\n"
     ]
    }
   ],
   "source": [
    "!pip install opencv-python==4.5.5.62 # open CV는 최신버전보다 이전 버전이 호환성이 더 좋다. 만약 오류발생 시 삭제 후 다시 설치 권장\n",
    "import numpy as np\n",
    "import cv2"
   ]
  },
  {
   "cell_type": "code",
   "execution_count": 3,
   "metadata": {},
   "outputs": [
    {
     "name": "stdout",
     "output_type": "stream",
     "text": [
      "[[237 237 237 ... 236 236 237]\n",
      " [237 236 238 ... 237 237 237]\n",
      " [238 237 237 ... 237 238 237]\n",
      " ...\n",
      " [247 247 247 ... 248 249 249]\n",
      " [248 248 248 ... 249 250 248]\n",
      " [248 247 248 ... 249 249 249]]\n"
     ]
    }
   ],
   "source": [
    "# 이미지 경로\n",
    "x = cv2.imread(\"./cat.png\", 0) # 흑백 이미지\n",
    "print(x)\n",
    "y = cv2.imread(\"./cat.png\", 1) # 컬러 이미지"
   ]
  },
  {
   "cell_type": "code",
   "execution_count": 4,
   "metadata": {},
   "outputs": [
    {
     "data": {
      "text/plain": [
       "-1"
      ]
     },
     "execution_count": 4,
     "metadata": {},
     "output_type": "execute_result"
    }
   ],
   "source": [
    "img = cv2.resize(x,(200,200))\n",
    "# cv2.imshow(\"cat image show gray\", img)\n",
    "# cv2.imshow(\"cat image show\", y)\n",
    "# cv2.waitKey(0)"
   ]
  },
  {
   "cell_type": "code",
   "execution_count": 5,
   "metadata": {},
   "outputs": [],
   "source": [
    "# 여러개 파일 save .npz\n",
    "np.savez(\"./image.npz\", array1 = x, array2 = y)\n",
    "\n",
    "# 압축 방법\n",
    "np.savez_compressed(\"./image_compressed.npz\", array1 = x, array2 = y)"
   ]
  },
  {
   "cell_type": "code",
   "execution_count": 6,
   "metadata": {},
   "outputs": [
    {
     "data": {
      "text/plain": [
       "-1"
      ]
     },
     "execution_count": 6,
     "metadata": {},
     "output_type": "execute_result"
    }
   ],
   "source": [
    "# npz 데이터 로드\n",
    "data = np.load(\"./image_compressed.npz\")\n",
    "result1 = data['array1']\n",
    "result2 = data['array2']\n",
    "\n",
    "cv2.imshow(\"result01\", result1)\n",
    "cv2.waitKey(0)"
   ]
  },
  {
   "cell_type": "code",
   "execution_count": null,
   "metadata": {},
   "outputs": [],
   "source": []
  }
 ],
 "metadata": {
  "kernelspec": {
   "display_name": "Python 3.10.8 64-bit (microsoft store)",
   "language": "python",
   "name": "python3"
  },
  "language_info": {
   "codemirror_mode": {
    "name": "ipython",
    "version": 3
   },
   "file_extension": ".py",
   "mimetype": "text/x-python",
   "name": "python",
   "nbconvert_exporter": "python",
   "pygments_lexer": "ipython3",
   "version": "3.10.8"
  },
  "orig_nbformat": 4,
  "vscode": {
   "interpreter": {
    "hash": "7b1f2b33e866b0bf2409397e5f58ba9cdf170d3b7f64c8f359c79998e2f88ad4"
   }
  }
 },
 "nbformat": 4,
 "nbformat_minor": 2
}
