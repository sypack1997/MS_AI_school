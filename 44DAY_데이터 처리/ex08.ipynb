{
 "cells": [
  {
   "cell_type": "code",
   "execution_count": 2,
   "metadata": {},
   "outputs": [],
   "source": [
    "import numpy as np\n",
    "import pandas as pd"
   ]
  },
  {
   "cell_type": "code",
   "execution_count": 3,
   "metadata": {},
   "outputs": [
    {
     "name": "stdout",
     "output_type": "stream",
     "text": [
      "['12-05-2022 01:28 PM' '12-06-2022 02:28 PM' '12-07-2022 12:00 AM']\n"
     ]
    }
   ],
   "source": [
    "data_strings = np.array(['12-05-2022 01:28 PM', '12-06-2022 02:28 PM', '12-07-2022 12:00 AM'])\n",
    "print(data_strings)"
   ]
  },
  {
   "cell_type": "code",
   "execution_count": 10,
   "metadata": {},
   "outputs": [
    {
     "name": "stdout",
     "output_type": "stream",
     "text": [
      "12-05-2022 01:28 PM\n",
      "12-06-2022 02:28 PM\n",
      "12-07-2022 12:00 AM\n"
     ]
    }
   ],
   "source": [
    "# Timestamp\n",
    "for data in data_strings:\n",
    "    pd.to_datetime(data, format='%d-%m-%Y %I:%M %p') # 형식이 틀릴경우 에러발생\n",
    "\n",
    "for data in data_strings:\n",
    "    pd.to_datetime(data, format='%d-%m %I:%M %p', errors='ignore')\n",
    "    print(data) # 형식이 틀려도 자동으로 수정됨"
   ]
  },
  {
   "cell_type": "code",
   "execution_count": null,
   "metadata": {},
   "outputs": [],
   "source": []
  }
 ],
 "metadata": {
  "kernelspec": {
   "display_name": "Python 3.10.8 64-bit (microsoft store)",
   "language": "python",
   "name": "python3"
  },
  "language_info": {
   "codemirror_mode": {
    "name": "ipython",
    "version": 3
   },
   "file_extension": ".py",
   "mimetype": "text/x-python",
   "name": "python",
   "nbconvert_exporter": "python",
   "pygments_lexer": "ipython3",
   "version": "3.10.8"
  },
  "orig_nbformat": 4,
  "vscode": {
   "interpreter": {
    "hash": "7b1f2b33e866b0bf2409397e5f58ba9cdf170d3b7f64c8f359c79998e2f88ad4"
   }
  }
 },
 "nbformat": 4,
 "nbformat_minor": 2
}
