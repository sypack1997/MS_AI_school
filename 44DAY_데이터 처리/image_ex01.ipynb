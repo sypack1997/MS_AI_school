{
 "cells": [
  {
   "cell_type": "code",
   "execution_count": 1,
   "metadata": {},
   "outputs": [],
   "source": [
    "import cv2"
   ]
  },
  {
   "cell_type": "code",
   "execution_count": 2,
   "metadata": {},
   "outputs": [
    {
     "name": "stdout",
     "output_type": "stream",
     "text": [
      "[[[244 238 233]\n",
      "  [244 238 233]\n",
      "  [244 238 233]\n",
      "  ...\n",
      "  [247 236 232]\n",
      "  [247 236 232]\n",
      "  [248 237 233]]\n",
      "\n",
      " [[244 238 233]\n",
      "  [243 237 232]\n",
      "  [245 239 234]\n",
      "  ...\n",
      "  [248 237 233]\n",
      "  [248 237 233]\n",
      "  [248 237 233]]\n",
      "\n",
      " [[245 239 234]\n",
      "  [244 238 233]\n",
      "  [244 238 233]\n",
      "  ...\n",
      "  [248 238 231]\n",
      "  [249 239 232]\n",
      "  [248 238 231]]\n",
      "\n",
      " ...\n",
      "\n",
      " [[251 247 246]\n",
      "  [251 247 246]\n",
      "  [251 247 246]\n",
      "  ...\n",
      "  [252 249 245]\n",
      "  [254 249 246]\n",
      "  [254 249 246]]\n",
      "\n",
      " [[252 248 247]\n",
      "  [252 248 247]\n",
      "  [252 248 247]\n",
      "  ...\n",
      "  [253 250 246]\n",
      "  [255 250 247]\n",
      "  [253 248 245]]\n",
      "\n",
      " [[252 248 247]\n",
      "  [251 247 246]\n",
      "  [252 248 247]\n",
      "  ...\n",
      "  [253 250 246]\n",
      "  [254 249 246]\n",
      "  [254 249 246]]]\n"
     ]
    }
   ],
   "source": [
    "img_path = \"./cat.png\"\n",
    "img = cv2.imread(img_path)\n",
    "print(img)"
   ]
  },
  {
   "cell_type": "code",
   "execution_count": 5,
   "metadata": {},
   "outputs": [
    {
     "name": "stdout",
     "output_type": "stream",
     "text": [
      "이미지 타입 :  <class 'numpy.ndarray'>\n",
      "이미지 높이 399, 이미지 넓이 600\n"
     ]
    }
   ],
   "source": [
    "h, w, _ = img.shape\n",
    "\n",
    "print(\"이미지 타입 : \", type(img))\n",
    "# print(\"이미지 크기 : \", img.shape) # (Height, width, channel)\n",
    "print(f\"이미지 높이 {h}, 이미지 넓이 {w}\")"
   ]
  },
  {
   "cell_type": "code",
   "execution_count": 4,
   "metadata": {},
   "outputs": [
    {
     "data": {
      "text/plain": [
       "-1"
      ]
     },
     "execution_count": 4,
     "metadata": {},
     "output_type": "execute_result"
    }
   ],
   "source": [
    "cv2.imshow(\"image show\", img)\n",
    "cv2.waitKey(0)"
   ]
  },
  {
   "cell_type": "code",
   "execution_count": null,
   "metadata": {},
   "outputs": [],
   "source": []
  }
 ],
 "metadata": {
  "kernelspec": {
   "display_name": "Python 3.10.8 64-bit (microsoft store)",
   "language": "python",
   "name": "python3"
  },
  "language_info": {
   "codemirror_mode": {
    "name": "ipython",
    "version": 3
   },
   "file_extension": ".py",
   "mimetype": "text/x-python",
   "name": "python",
   "nbconvert_exporter": "python",
   "pygments_lexer": "ipython3",
   "version": "3.10.8"
  },
  "orig_nbformat": 4,
  "vscode": {
   "interpreter": {
    "hash": "7b1f2b33e866b0bf2409397e5f58ba9cdf170d3b7f64c8f359c79998e2f88ad4"
   }
  }
 },
 "nbformat": 4,
 "nbformat_minor": 2
}
