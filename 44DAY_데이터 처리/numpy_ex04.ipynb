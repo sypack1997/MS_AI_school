{
 "cells": [
  {
   "cell_type": "code",
   "execution_count": 1,
   "metadata": {},
   "outputs": [],
   "source": [
    "import numpy as np"
   ]
  },
  {
   "cell_type": "code",
   "execution_count": 2,
   "metadata": {},
   "outputs": [
    {
     "name": "stdout",
     "output_type": "stream",
     "text": [
      "각 열을 기준으로 정렬 전 \n",
      " [[ 5  2  7  6]\n",
      " [ 2  3 10 15]]\n"
     ]
    }
   ],
   "source": [
    "array = np.array([[5, 2, 7, 6], [2, 3, 10, 15]])\n",
    "print(\"각 열을 기준으로 정렬 전 \\n\", array)"
   ]
  },
  {
   "cell_type": "code",
   "execution_count": 3,
   "metadata": {},
   "outputs": [
    {
     "name": "stdout",
     "output_type": "stream",
     "text": [
      "각 열을 기준으로 정렬 후 \n",
      " [[ 2  2  7  6]\n",
      " [ 5  3 10 15]]\n"
     ]
    }
   ],
   "source": [
    "array.sort(axis=0)\n",
    "print(\"각 열을 기준으로 정렬 후 \\n\", array)"
   ]
  },
  {
   "cell_type": "code",
   "execution_count": null,
   "metadata": {},
   "outputs": [],
   "source": []
  }
 ],
 "metadata": {
  "kernelspec": {
   "display_name": "Python 3.10.8 64-bit (microsoft store)",
   "language": "python",
   "name": "python3"
  },
  "language_info": {
   "codemirror_mode": {
    "name": "ipython",
    "version": 3
   },
   "file_extension": ".py",
   "mimetype": "text/x-python",
   "name": "python",
   "nbconvert_exporter": "python",
   "pygments_lexer": "ipython3",
   "version": "3.10.8"
  },
  "orig_nbformat": 4,
  "vscode": {
   "interpreter": {
    "hash": "7b1f2b33e866b0bf2409397e5f58ba9cdf170d3b7f64c8f359c79998e2f88ad4"
   }
  }
 },
 "nbformat": 4,
 "nbformat_minor": 2
}
