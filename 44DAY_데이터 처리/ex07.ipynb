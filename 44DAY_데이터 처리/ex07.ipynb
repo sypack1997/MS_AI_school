{
 "cells": [
  {
   "cell_type": "code",
   "execution_count": 1,
   "metadata": {},
   "outputs": [],
   "source": [
    "# 넷플릭스 영화 추천 시스템 구현\n",
    "import pandas as pd\n",
    "import numpy as np\n",
    "from math import sqrt"
   ]
  },
  {
   "cell_type": "code",
   "execution_count": 2,
   "metadata": {},
   "outputs": [],
   "source": [
    "# 데이터 읽어오기\n",
    "# 1205 현재 위치 -> 2개 csv 존재, ex07.py\n",
    "movies = pd.read_csv(\"./movies.csv\")\n",
    "ratings = pd.read_csv(\"./ratings.csv\")"
   ]
  },
  {
   "cell_type": "code",
   "execution_count": 3,
   "metadata": {},
   "outputs": [
    {
     "name": "stderr",
     "output_type": "stream",
     "text": [
      "C:\\Users\\user\\AppData\\Local\\Temp\\ipykernel_35716\\2029323216.py:6: FutureWarning: The default value of numeric_only in DataFrameGroupBy.mean is deprecated. In a future version, numeric_only will default to False. Either specify numeric_only or select only columns which should be valid for the function.\n",
      "  moviedata = data.pivot_table(index=\"movieId\", columns='userId')['rating']\n"
     ]
    }
   ],
   "source": [
    "# 아이템 기반 협업 필터링 구현\n",
    "data = pd.merge(ratings, movies, on=\"movieId\")\n",
    "column = ['userId', 'movieId', 'rating', 'title', 'genres']\n",
    "data = data[column]\n",
    "\n",
    "moviedata = data.pivot_table(index=\"movieId\", columns='userId')['rating']"
   ]
  },
  {
   "cell_type": "code",
   "execution_count": 4,
   "metadata": {},
   "outputs": [],
   "source": [
    "# NaN 값을 -1 로 변경\n",
    "moviedata.fillna(-1, inplace=True)"
   ]
  },
  {
   "cell_type": "code",
   "execution_count": 5,
   "metadata": {},
   "outputs": [],
   "source": [
    "def sim_distance(data, n1, n2):\n",
    "    # kdd 유사도 함수\n",
    "    sum = 0\n",
    "    # 두 사용자가 모두 본 영화를 기준\n",
    "    for i in data.loc[n1, data.loc[n1, :] >= 0].index:\n",
    "        if data.loc[n2, i] >= 0:\n",
    "            # 누적합\n",
    "            sum += pow(data.loc[n1, i]-data.loc[n2, i], 2)\n",
    "    return sqrt(1/(sum+1))  # 유사도 형식으로 출력"
   ]
  },
  {
   "cell_type": "code",
   "execution_count": 6,
   "metadata": {},
   "outputs": [],
   "source": [
    "def top_match(data, name, rank=5, simf=sim_distance):\n",
    "    # 나와 유사도 가 높은 유저 매칭\n",
    "    simList = []\n",
    "\n",
    "    for i in data.index[-10:]:\n",
    "        if name != i:\n",
    "            simList.append((simf(data, name, i), i))\n",
    "\n",
    "    simList.sort()\n",
    "    simList.reverse()\n",
    "    return simList[:rank]"
   ]
  },
  {
   "cell_type": "code",
   "execution_count": 7,
   "metadata": {},
   "outputs": [],
   "source": [
    "def recommendation(data, person, simf=sim_distance):\n",
    "    # 추천 시스템 함수\n",
    "    result_top = top_match(data, person, len(data))\n",
    "    score_dic = {}\n",
    "    sim_dic = {}\n",
    "    my_list = []\n",
    "    for sim, name in result_top:\n",
    "        if sim < 0:\n",
    "            continue\n",
    "        for movie in data.loc[person, data.loc[person, :] < 0].index:\n",
    "            sim_sum = 0\n",
    "            if data.loc[name, movie] >= 0:\n",
    "                sim_sum += data.loc[name, movie]\n",
    "\n",
    "                score_dic.setdefault(movie, 0)\n",
    "                score_dic[movie] += sim_sum\n",
    "\n",
    "                sim_dic.setdefault(movie, 0)\n",
    "                sim_dic[movie] += sim\n",
    "\n",
    "    for key in score_dic:\n",
    "        my_list.append((score_dic[key]/sim_dic[key], key))\n",
    "    my_list.sort()\n",
    "    my_list.reverse()\n",
    "    return my_list"
   ]
  },
  {
   "cell_type": "code",
   "execution_count": 8,
   "metadata": {},
   "outputs": [
    {
     "name": "stdout",
     "output_type": "stream",
     "text": [
      "[(4.5, \"Dracula (Bram Stoker's Dracula) (1992)\"), (4.0, 'Entity, The (1981)'), (3.5, 'Born Yesterday (1993)'), (3.5, 'Great Muppet Caper, The (1981)'), (3.5, 'Not One Less (Yi ge dou bu neng shao) (1999)'), (3.5, 'Return with Honor (1998)'), (3.0, 'Left Behind II: Tribulation Force (2002)'), (2.5, 'Bully (2001)'), (2.0, 'Cecil B. DeMented (2000)'), (1.0, \"Christmas Vacation (National Lampoon's Christmas Vacation) (1989)\"), (0.5, 'Here on Earth (2000)')]\n"
     ]
    }
   ],
   "source": [
    "# 20번 user가 안본 영화중에서 추천 점수가 가장 높은 순으로 예상 평점과 영화 제목을 추천(15개까지)\n",
    "movie_list = []\n",
    "for rate, m_id in recommendation(moviedata, 20):\n",
    "    movie_list.append((rate, movies.loc[movies['movieId'] == m_id,\n",
    "                                        'title'].values[0]))\n",
    "    if len(movie_list) == 15:\n",
    "        break\n",
    "\n",
    "print(movie_list[:15])"
   ]
  },
  {
   "cell_type": "code",
   "execution_count": null,
   "metadata": {},
   "outputs": [],
   "source": []
  }
 ],
 "metadata": {
  "kernelspec": {
   "display_name": "Python 3.10.8 64-bit (microsoft store)",
   "language": "python",
   "name": "python3"
  },
  "language_info": {
   "codemirror_mode": {
    "name": "ipython",
    "version": 3
   },
   "file_extension": ".py",
   "mimetype": "text/x-python",
   "name": "python",
   "nbconvert_exporter": "python",
   "pygments_lexer": "ipython3",
   "version": "3.10.8"
  },
  "orig_nbformat": 4,
  "vscode": {
   "interpreter": {
    "hash": "7b1f2b33e866b0bf2409397e5f58ba9cdf170d3b7f64c8f359c79998e2f88ad4"
   }
  }
 },
 "nbformat": 4,
 "nbformat_minor": 2
}
