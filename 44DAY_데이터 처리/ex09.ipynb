{
 "cells": [
  {
   "cell_type": "code",
   "execution_count": 2,
   "metadata": {},
   "outputs": [],
   "source": [
    "import pandas as pd\n",
    "from pytz import all_timezones\n",
    "from pytz import timezone"
   ]
  },
  {
   "cell_type": "code",
   "execution_count": 3,
   "metadata": {},
   "outputs": [],
   "source": [
    "# data = pd.Timestamp('2022-12-05 01:40:00')  # dataitem 만듬\n",
    "\n",
    "# data_in_london = data.tz_localize(tz='Europe/London')\n",
    "# print(data_in_london)\n",
    "\n",
    "# data_in_london.tz_convert('Africa/Abidjan')\n",
    "dates = pd.Series(pd.date_range('2/2/2022', periods=3, freq='M'))\n",
    "# temp = dates.dt.tz_localize('Africa/Abidjan')\n",
    "\n",
    "# print(temp)"
   ]
  },
  {
   "cell_type": "code",
   "execution_count": 4,
   "metadata": {},
   "outputs": [
    {
     "name": "stdout",
     "output_type": "stream",
     "text": [
      "['Africa/Abidjan', 'Africa/Accra']\n",
      "0   2022-02-28 00:00:00+09:00\n",
      "1   2022-03-31 00:00:00+09:00\n",
      "2   2022-04-30 00:00:00+09:00\n",
      "dtype: datetime64[ns, Asia/Seoul]\n"
     ]
    }
   ],
   "source": [
    "print(all_timezones[0:2])\n",
    "temp = dates.dt.tz_localize('dateutil/Aisa/Seoul')\n",
    "tz = timezone('Asia/Seoul')\n",
    "temp01 = dates.dt.tz_localize(tz)\n",
    "print(temp01)"
   ]
  },
  {
   "cell_type": "code",
   "execution_count": null,
   "metadata": {},
   "outputs": [],
   "source": []
  }
 ],
 "metadata": {
  "kernelspec": {
   "display_name": "Python 3.10.8 64-bit (microsoft store)",
   "language": "python",
   "name": "python3"
  },
  "language_info": {
   "codemirror_mode": {
    "name": "ipython",
    "version": 3
   },
   "file_extension": ".py",
   "mimetype": "text/x-python",
   "name": "python",
   "nbconvert_exporter": "python",
   "pygments_lexer": "ipython3",
   "version": "3.10.8"
  },
  "orig_nbformat": 4,
  "vscode": {
   "interpreter": {
    "hash": "7b1f2b33e866b0bf2409397e5f58ba9cdf170d3b7f64c8f359c79998e2f88ad4"
   }
  }
 },
 "nbformat": 4,
 "nbformat_minor": 2
}
