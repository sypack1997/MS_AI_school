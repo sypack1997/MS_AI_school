{
 "cells": [
  {
   "cell_type": "code",
   "execution_count": 1,
   "metadata": {},
   "outputs": [],
   "source": [
    "import pandas as pd"
   ]
  },
  {
   "cell_type": "code",
   "execution_count": 2,
   "metadata": {},
   "outputs": [],
   "source": [
    "dataframe = pd.DataFrame()\n",
    "# datetime 생성\n",
    "# periods 매개변수는 date_range함수에 전달된 시작날짜와 종료날짜를 periods 매개변수에 전달된 기간만큼\n",
    "# 동일하게 나누어 출력해줍니다.\n",
    "dataframe['date'] = pd.date_range('1/1/2022', periods=100000, freq='H')"
   ]
  },
  {
   "cell_type": "code",
   "execution_count": 3,
   "metadata": {},
   "outputs": [
    {
     "name": "stdout",
     "output_type": "stream",
     "text": [
      "                                   date\n",
      "date                                   \n",
      "2022-01-01 01:00:00 2022-01-01 01:00:00\n",
      "2022-01-01 02:00:00 2022-01-01 02:00:00\n",
      "2022-01-01 03:00:00 2022-01-01 03:00:00\n",
      "2022-01-01 04:00:00 2022-01-01 04:00:00\n"
     ]
    },
    {
     "data": {
      "text/plain": [
       "'\\n2022-01-01 01:00:00 2022-01-01 01:00:00\\n2022-01-01 02:00:00 2022-01-01 02:00:00\\n2022-01-01 03:00:00 2022-01-01 03:00:00\\n2022-01-01 04:00:00 2022-01-01 04:00:00\\n'"
      ]
     },
     "execution_count": 3,
     "metadata": {},
     "output_type": "execute_result"
    }
   ],
   "source": [
    "# 두 datetime 사이의 샘플을 선택합니다.\n",
    "dataframe[(dataframe['date'] > '2022-1-1 01:00:00') &\n",
    "          (dataframe['date'] <= '2022-1-1 04:00:00')]\n",
    "dataframe = dataframe.set_index(dataframe['date'])\n",
    "\n",
    "temp = dataframe.loc['2022-1-1 01:00:00': '2022-1-1 04:00:00']\n",
    "print(temp)\n",
    "\n",
    "\"\"\"\n",
    "2022-01-01 01:00:00 2022-01-01 01:00:00\n",
    "2022-01-01 02:00:00 2022-01-01 02:00:00\n",
    "2022-01-01 03:00:00 2022-01-01 03:00:00\n",
    "2022-01-01 04:00:00 2022-01-01 04:00:00\n",
    "\"\"\""
   ]
  },
  {
   "cell_type": "code",
   "execution_count": null,
   "metadata": {},
   "outputs": [],
   "source": []
  }
 ],
 "metadata": {
  "kernelspec": {
   "display_name": "Python 3.10.8 64-bit (microsoft store)",
   "language": "python",
   "name": "python3"
  },
  "language_info": {
   "codemirror_mode": {
    "name": "ipython",
    "version": 3
   },
   "file_extension": ".py",
   "mimetype": "text/x-python",
   "name": "python",
   "nbconvert_exporter": "python",
   "pygments_lexer": "ipython3",
   "version": "3.10.8"
  },
  "orig_nbformat": 4,
  "vscode": {
   "interpreter": {
    "hash": "7b1f2b33e866b0bf2409397e5f58ba9cdf170d3b7f64c8f359c79998e2f88ad4"
   }
  }
 },
 "nbformat": 4,
 "nbformat_minor": 2
}
