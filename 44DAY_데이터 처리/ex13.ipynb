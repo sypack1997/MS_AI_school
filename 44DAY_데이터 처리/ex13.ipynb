{
 "cells": [
  {
   "cell_type": "code",
   "execution_count": 1,
   "metadata": {},
   "outputs": [],
   "source": [
    "import pandas as pd\n",
    "import numpy as np"
   ]
  },
  {
   "cell_type": "code",
   "execution_count": 2,
   "metadata": {},
   "outputs": [
    {
     "name": "stdout",
     "output_type": "stream",
     "text": [
      "Empty DataFrame\n",
      "Columns: []\n",
      "Index: [2022-01-31 00:00:00, 2022-02-28 00:00:00, 2022-03-31 00:00:00, 2022-04-30 00:00:00, 2022-05-31 00:00:00]\n"
     ]
    }
   ],
   "source": [
    "time_index = pd.date_range('01/01/2022', periods = 5, freq = 'M')\n",
    "dataframe = pd.DataFrame(index = time_index) # 데이터 프레임을 만들고 엔덱스를 지정\n",
    "print(dataframe)"
   ]
  },
  {
   "cell_type": "code",
   "execution_count": 8,
   "metadata": {},
   "outputs": [
    {
     "name": "stdout",
     "output_type": "stream",
     "text": [
      "               Sales\n",
      "2022-01-31  1.000000\n",
      "2022-02-28  2.000000\n",
      "2022-03-31  3.059808\n",
      "2022-04-30  4.038069\n",
      "2022-05-31  5.000000\n"
     ]
    }
   ],
   "source": [
    "dataframe['Sales'] = [1.0, 2.0, np.nan, np.nan, 5.0] # 누락된 값이 있는 특성 생성\n",
    "data = dataframe.interpolate(method = 'quadratic') # 누락된 값을 보간\n",
    "# data = dataframe.ffill() # 앞쪽으로 Forward-fill\n",
    "# data = dataframe.bfill() # 뒤쪽으로 Baack-fill\n",
    "print(data)"
   ]
  },
  {
   "cell_type": "code",
   "execution_count": 9,
   "metadata": {},
   "outputs": [
    {
     "name": "stdout",
     "output_type": "stream",
     "text": [
      "            Sales\n",
      "2022-01-31    1.0\n",
      "2022-02-28    2.0\n",
      "2022-03-31    3.0\n",
      "2022-04-30    NaN\n",
      "2022-05-31    5.0\n"
     ]
    }
   ],
   "source": [
    "# 보간 방향 지정\n",
    "data = dataframe.interpolate(limit = 1, limit_direction = 'forward')\n",
    "print(data)"
   ]
  },
  {
   "cell_type": "code",
   "execution_count": null,
   "metadata": {},
   "outputs": [],
   "source": []
  }
 ],
 "metadata": {
  "kernelspec": {
   "display_name": "Python 3.10.8 64-bit (microsoft store)",
   "language": "python",
   "name": "python3"
  },
  "language_info": {
   "codemirror_mode": {
    "name": "ipython",
    "version": 3
   },
   "file_extension": ".py",
   "mimetype": "text/x-python",
   "name": "python",
   "nbconvert_exporter": "python",
   "pygments_lexer": "ipython3",
   "version": "3.10.8"
  },
  "orig_nbformat": 4,
  "vscode": {
   "interpreter": {
    "hash": "7b1f2b33e866b0bf2409397e5f58ba9cdf170d3b7f64c8f359c79998e2f88ad4"
   }
  }
 },
 "nbformat": 4,
 "nbformat_minor": 2
}
