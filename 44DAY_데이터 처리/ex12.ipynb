{
 "cells": [
  {
   "cell_type": "code",
   "execution_count": 1,
   "metadata": {},
   "outputs": [],
   "source": [
    "# 날짜 간의 차이 계산\n",
    "import pandas as pd"
   ]
  },
  {
   "cell_type": "code",
   "execution_count": 2,
   "metadata": {},
   "outputs": [
    {
     "name": "stdout",
     "output_type": "stream",
     "text": [
      "0    0\n",
      "1    2\n",
      "dtype: int64\n"
     ]
    }
   ],
   "source": [
    "dataframe = pd.DataFrame()\n",
    "dataframe['Arrived'] = [pd.Timestamp('01-01-2022'), pd.Timestamp('01-04-2022')]\n",
    "dataframe['Left'] = [pd.Timestamp('01-01-2022'), pd.Timestamp('01-06-2022')]\n",
    "\n",
    "dataframe['Left'] - dataframe['Arrived']\n",
    "\n",
    "data = pd.Series(delta.days for delta in (dataframe['Left'] - dataframe['Arrived']))\n",
    "print(data)"
   ]
  },
  {
   "cell_type": "code",
   "execution_count": null,
   "metadata": {},
   "outputs": [],
   "source": []
  }
 ],
 "metadata": {
  "kernelspec": {
   "display_name": "Python 3.10.8 64-bit (microsoft store)",
   "language": "python",
   "name": "python3"
  },
  "language_info": {
   "codemirror_mode": {
    "name": "ipython",
    "version": 3
   },
   "file_extension": ".py",
   "mimetype": "text/x-python",
   "name": "python",
   "nbconvert_exporter": "python",
   "pygments_lexer": "ipython3",
   "version": "3.10.8"
  },
  "orig_nbformat": 4,
  "vscode": {
   "interpreter": {
    "hash": "7b1f2b33e866b0bf2409397e5f58ba9cdf170d3b7f64c8f359c79998e2f88ad4"
   }
  }
 },
 "nbformat": 4,
 "nbformat_minor": 2
}
