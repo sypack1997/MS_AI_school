{
 "cells": [
  {
   "cell_type": "code",
   "execution_count": 1,
   "metadata": {},
   "outputs": [],
   "source": [
    "# 컬러 히스토그램 특성 인코딩\n",
    "import cv2\n",
    "import matplotlib.pyplot as plt\n",
    "import numpy as np"
   ]
  },
  {
   "cell_type": "code",
   "execution_count": null,
   "metadata": {},
   "outputs": [],
   "source": [
    "\n",
    "image_path = \"./cat.png\"\n",
    "\n",
    "image_bgr = cv2.imread(image_path)\n",
    "image_rgb = cv2.cvtColor(image_bgr, cv2.COLOR_BGR2RGB)\n",
    "features = []  # 특성 값을 담을 리스트\n",
    "colors = (\"r\", \"g\", \"b\")  # 각 컬러 채널에 대해 히스토그램을 계산\n",
    "for i, channel in enumerate(colors):\n",
    "    # cv2.calcHist([이미지], [채널 인덱스] , [마스크 없으므로 None],\n",
    "    # [히스토그램 크기], [범위 : 0 ~ 256])\n",
    "    histogram = cv2.calcHist([image_rgb], [i], None, [256], [0, 256])\n",
    "    plt.plot(histogram, color=channel)\n",
    "    plt.xlim([0, 256])\n",
    "\n",
    "plt.show()"
   ]
  },
  {
   "cell_type": "code",
   "execution_count": null,
   "metadata": {},
   "outputs": [],
   "source": []
  }
 ],
 "metadata": {
  "kernelspec": {
   "display_name": "Python 3.10.8 64-bit (microsoft store)",
   "language": "python",
   "name": "python3"
  },
  "language_info": {
   "codemirror_mode": {
    "name": "ipython",
    "version": 3
   },
   "file_extension": ".py",
   "mimetype": "text/x-python",
   "name": "python",
   "nbconvert_exporter": "python",
   "pygments_lexer": "ipython3",
   "version": "3.10.8"
  },
  "orig_nbformat": 4,
  "vscode": {
   "interpreter": {
    "hash": "7b1f2b33e866b0bf2409397e5f58ba9cdf170d3b7f64c8f359c79998e2f88ad4"
   }
  }
 },
 "nbformat": 4,
 "nbformat_minor": 2
}
