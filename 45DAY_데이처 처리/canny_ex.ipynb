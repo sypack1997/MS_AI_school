{
 "cells": [
  {
   "cell_type": "code",
   "execution_count": 1,
   "metadata": {},
   "outputs": [],
   "source": [
    "import cv2\n",
    "import numpy as np\n",
    "from utils import image_show"
   ]
  },
  {
   "cell_type": "code",
   "execution_count": 2,
   "metadata": {},
   "outputs": [],
   "source": [
    "# 이미지 읽기\n",
    "image = cv2.imread('./test.jpg')"
   ]
  },
  {
   "cell_type": "code",
   "execution_count": 4,
   "metadata": {},
   "outputs": [],
   "source": [
    "# 경계선 찾기\n",
    "image_gray = cv2.imread('./test.jpg', cv2.IMREAD_GRAYSCALE)\n",
    "\n",
    "# 픽셀 강도의 중간값을 계산\n",
    "mdeian_intensity = np.median(image_gray)\n",
    "\n",
    "# 중간 픽셀 강도에서 위아래 1표준편차 떨어진 값을 임계값으로 설정\n",
    "lower_threshold = int(max(0, (1.0 - 0.33) * mdeian_intensity))\n",
    "upper_threshold = int(min(255,  (1.0 + 0.33) * mdeian_intensity))\n",
    "\n",
    "# Canny edge Detection 적용\n",
    "image_canny = cv2.Canny(image_gray, lower_threshold, upper_threshold)\n",
    "image_show(image_canny)"
   ]
  },
  {
   "cell_type": "code",
   "execution_count": null,
   "metadata": {},
   "outputs": [],
   "source": []
  }
 ],
 "metadata": {
  "kernelspec": {
   "display_name": "Python 3.10.8 64-bit (microsoft store)",
   "language": "python",
   "name": "python3"
  },
  "language_info": {
   "codemirror_mode": {
    "name": "ipython",
    "version": 3
   },
   "file_extension": ".py",
   "mimetype": "text/x-python",
   "name": "python",
   "nbconvert_exporter": "python",
   "pygments_lexer": "ipython3",
   "version": "3.10.8"
  },
  "orig_nbformat": 4,
  "vscode": {
   "interpreter": {
    "hash": "7b1f2b33e866b0bf2409397e5f58ba9cdf170d3b7f64c8f359c79998e2f88ad4"
   }
  }
 },
 "nbformat": 4,
 "nbformat_minor": 2
}
