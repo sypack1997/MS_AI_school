{
 "cells": [
  {
   "cell_type": "code",
   "execution_count": 4,
   "metadata": {},
   "outputs": [],
   "source": [
    "# 가우시안 블러\n",
    "import cv2\n",
    "from utils import image_show"
   ]
  },
  {
   "cell_type": "code",
   "execution_count": 7,
   "metadata": {},
   "outputs": [],
   "source": [
    "image_path = \"./cat.png\""
   ]
  },
  {
   "cell_type": "code",
   "execution_count": 8,
   "metadata": {},
   "outputs": [
    {
     "name": "stdout",
     "output_type": "stream",
     "text": [
      "[[[244 238 233]\n",
      "  [244 238 233]\n",
      "  [244 238 233]\n",
      "  ...\n",
      "  [247 236 232]\n",
      "  [247 236 232]\n",
      "  [248 237 233]]\n",
      "\n",
      " [[244 238 233]\n",
      "  [243 237 232]\n",
      "  [245 239 234]\n",
      "  ...\n",
      "  [248 237 233]\n",
      "  [248 237 233]\n",
      "  [248 237 233]]\n",
      "\n",
      " [[245 239 234]\n",
      "  [244 238 233]\n",
      "  [244 238 233]\n",
      "  ...\n",
      "  [248 238 231]\n",
      "  [249 239 232]\n",
      "  [248 238 231]]\n",
      "\n",
      " ...\n",
      "\n",
      " [[251 247 246]\n",
      "  [251 247 246]\n",
      "  [251 247 246]\n",
      "  ...\n",
      "  [252 249 245]\n",
      "  [254 249 246]\n",
      "  [254 249 246]]\n",
      "\n",
      " [[252 248 247]\n",
      "  [252 248 247]\n",
      "  [252 248 247]\n",
      "  ...\n",
      "  [253 250 246]\n",
      "  [255 250 247]\n",
      "  [253 248 245]]\n",
      "\n",
      " [[252 248 247]\n",
      "  [251 247 246]\n",
      "  [252 248 247]\n",
      "  ...\n",
      "  [253 250 246]\n",
      "  [254 249 246]\n",
      "  [254 249 246]]]\n"
     ]
    }
   ],
   "source": [
    "# 이미지 읽기\n",
    "image = cv2.imread(image_path)\n",
    "print(image)\n",
    "\n",
    "image_g_blury = cv2.GaussianBlur(image, (5, 5), 0)\n",
    "image_show(image_g_blury)\n"
   ]
  },
  {
   "cell_type": "code",
   "execution_count": null,
   "metadata": {},
   "outputs": [],
   "source": []
  }
 ],
 "metadata": {
  "kernelspec": {
   "display_name": "Python 3.10.8 64-bit (microsoft store)",
   "language": "python",
   "name": "python3"
  },
  "language_info": {
   "codemirror_mode": {
    "name": "ipython",
    "version": 3
   },
   "file_extension": ".py",
   "mimetype": "text/x-python",
   "name": "python",
   "nbconvert_exporter": "python",
   "pygments_lexer": "ipython3",
   "version": "3.10.8"
  },
  "orig_nbformat": 4,
  "vscode": {
   "interpreter": {
    "hash": "7b1f2b33e866b0bf2409397e5f58ba9cdf170d3b7f64c8f359c79998e2f88ad4"
   }
  }
 },
 "nbformat": 4,
 "nbformat_minor": 2
}
