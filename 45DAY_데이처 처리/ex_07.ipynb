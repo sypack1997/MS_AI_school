{
 "cells": [
  {
   "cell_type": "code",
   "execution_count": 1,
   "metadata": {},
   "outputs": [],
   "source": [
    "import cv2\n",
    "import numpy as np\n",
    "from utils import image_show"
   ]
  },
  {
   "cell_type": "code",
   "execution_count": 2,
   "metadata": {},
   "outputs": [
    {
     "name": "stdout",
     "output_type": "stream",
     "text": [
      "[[-149923.84  -149923.84  -149923.84  ...   -6400.003   -6400.003\n",
      "    -6400.003]\n",
      " [-149923.84  -149923.84  -149923.84  ...   -6400.003   -6400.003\n",
      "    -6400.003]\n",
      " [-149923.84  -149923.84  -149923.84  ...   -6400.003   -6400.003\n",
      "    -6400.003]\n",
      " ...\n",
      " [-149923.84  -149923.84  -149923.84  ...   -6400.003   -6400.003\n",
      "    -6400.003]\n",
      " [-149923.84  -149923.84  -149923.84  ...   -6400.003   -6400.003\n",
      "    -6400.003]\n",
      " [-149923.84  -149923.84  -149923.84  ...   -6400.003   -6400.003\n",
      "    -6400.003]]\n"
     ]
    }
   ],
   "source": [
    "# 모서리 감지\n",
    "image_path = \"./test.jpg\"\n",
    "\n",
    "image_read = cv2.imread(image_path)\n",
    "\n",
    "image_gray = cv2.cvtColor(image_read, cv2.COLOR_BGR2GRAY)\n",
    "image_gray = np.float32(image_gray)\n",
    "\n",
    "block_size = 2  # 모서리 감지 매개 변수 설정\n",
    "aperture = 29\n",
    "free_parameter = 0.04\n",
    "\n",
    "detector_response = cv2.cornerHarris(\n",
    "    image_gray, block_size, aperture, free_parameter)\n",
    "\n",
    "print(detector_response)\n",
    "\n",
    "threshold = 0.02\n",
    "image_read[detector_response > threshold *\n",
    "           detector_response.max()] = [255, 255, 255]\n",
    "\n",
    "image_gray = cv2.cvtColor(image_read, cv2.COLOR_BGR2GRAY)\n",
    "image_show(image_gray)"
   ]
  },
  {
   "cell_type": "code",
   "execution_count": null,
   "metadata": {},
   "outputs": [],
   "source": []
  }
 ],
 "metadata": {
  "kernelspec": {
   "display_name": "Python 3.10.8 64-bit (microsoft store)",
   "language": "python",
   "name": "python3"
  },
  "language_info": {
   "codemirror_mode": {
    "name": "ipython",
    "version": 3
   },
   "file_extension": ".py",
   "mimetype": "text/x-python",
   "name": "python",
   "nbconvert_exporter": "python",
   "pygments_lexer": "ipython3",
   "version": "3.10.8"
  },
  "orig_nbformat": 4,
  "vscode": {
   "interpreter": {
    "hash": "7b1f2b33e866b0bf2409397e5f58ba9cdf170d3b7f64c8f359c79998e2f88ad4"
   }
  }
 },
 "nbformat": 4,
 "nbformat_minor": 2
}
