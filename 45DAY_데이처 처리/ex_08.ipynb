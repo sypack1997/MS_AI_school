{
 "cells": [
  {
   "cell_type": "code",
   "execution_count": 1,
   "metadata": {},
   "outputs": [],
   "source": [
    "import cv2\n",
    "import numpy as np\n",
    "from utils import image_show"
   ]
  },
  {
   "cell_type": "code",
   "execution_count": 3,
   "metadata": {},
   "outputs": [],
   "source": [
    "image_path = \"./test.jpg\"\n",
    "image_read = cv2.imread(image_path)\n",
    "image_gray = cv2.cvtColor(image_read, cv2.COLOR_BGR2GRAY)"
   ]
  },
  {
   "cell_type": "code",
   "execution_count": 5,
   "metadata": {},
   "outputs": [],
   "source": [
    "# 감지할 모서리 개수\n",
    "corners_to_detect = 4\n",
    "minimum_quality_score = 0.05\n",
    "mininum_distance = 25\n",
    "\n",
    "# 모서리 감지\n",
    "corners = cv2.goodFeaturesToTrack(\n",
    "    image_gray, corners_to_detect, minimum_quality_score, mininum_distance)\n",
    "\n",
    "for corner in corners:\n",
    "    x, y = corner[0]\n",
    "    cv2.circle(image_read, (int(x), int(y)), 10, (0, 255, 0), -1)\n",
    "\n",
    "image_gray_temp = cv2.cvtColor(image_read, cv2.COLOR_BGR2GRAY)\n",
    "image_show(image_gray_temp)\n"
   ]
  },
  {
   "cell_type": "code",
   "execution_count": null,
   "metadata": {},
   "outputs": [],
   "source": []
  }
 ],
 "metadata": {
  "kernelspec": {
   "display_name": "Python 3.10.8 64-bit (microsoft store)",
   "language": "python",
   "name": "python3"
  },
  "language_info": {
   "codemirror_mode": {
    "name": "ipython",
    "version": 3
   },
   "file_extension": ".py",
   "mimetype": "text/x-python",
   "name": "python",
   "nbconvert_exporter": "python",
   "pygments_lexer": "ipython3",
   "version": "3.10.8"
  },
  "orig_nbformat": 4,
  "vscode": {
   "interpreter": {
    "hash": "7b1f2b33e866b0bf2409397e5f58ba9cdf170d3b7f64c8f359c79998e2f88ad4"
   }
  }
 },
 "nbformat": 4,
 "nbformat_minor": 2
}
