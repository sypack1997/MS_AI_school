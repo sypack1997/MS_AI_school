{
 "cells": [
  {
   "cell_type": "code",
   "execution_count": 2,
   "metadata": {},
   "outputs": [],
   "source": [
    "import cv2"
   ]
  },
  {
   "cell_type": "code",
   "execution_count": 3,
   "metadata": {},
   "outputs": [],
   "source": [
    "# 이미지 경로\n",
    "image_path = \"./cat.png\""
   ]
  },
  {
   "cell_type": "code",
   "execution_count": 4,
   "metadata": {},
   "outputs": [],
   "source": [
    "# 이미지 읽기\n",
    "image = cv2.imread(image_path)"
   ]
  },
  {
   "cell_type": "code",
   "execution_count": 6,
   "metadata": {},
   "outputs": [
    {
     "name": "stdout",
     "output_type": "stream",
     "text": [
      "(399, 600, 3)\n",
      "(600, 399, 3)\n",
      "(600, 399, 3)\n"
     ]
    }
   ],
   "source": [
    "img90 = cv2.rotate(image, cv2.ROTATE_90_CLOCKWISE)  # 시계 방향 으로 90도 회전\n",
    "img180 = cv2.rotate(image, cv2.ROTATE_180)  # 180도 회전\n",
    "img270 = cv2.rotate(image, cv2.ROTATE_90_COUNTERCLOCKWISE)\n",
    "# 반시계 방향으로 90도 회전 = 시계방향 270도 회전\n",
    "print(image.shape)\n",
    "print(img90.shape)\n",
    "print(img270.shape)\n",
    "cv2.imshow(\"orginal image\", image)\n",
    "cv2.imshow(\"rotate_90\", img90)\n",
    "cv2.imshow(\"rotate_180\", img180)\n",
    "cv2.imshow(\"rotate_270\", img270)\n",
    "cv2.waitKey(0)"
   ]
  },
  {
   "cell_type": "code",
   "execution_count": 5,
   "metadata": {},
   "outputs": [
    {
     "data": {
      "text/plain": [
       "-1"
      ]
     },
     "execution_count": 5,
     "metadata": {},
     "output_type": "execute_result"
    }
   ],
   "source": [
    "# 이미지 좌우 및 상하 반전\n",
    "# 1 좌우 반전 0 상하 반전\n",
    "dst_tmep1 = cv2.flip(image, 1)\n",
    "dst_tmep2 = cv2.flip(image, 0)\n",
    "\n",
    "cv2.imshow(\"dst_tmep1\", dst_tmep1)\n",
    "cv2.imshow(\"dst_tmep2\", dst_tmep2)\n",
    "cv2.waitKey(0)"
   ]
  },
  {
   "cell_type": "code",
   "execution_count": null,
   "metadata": {},
   "outputs": [],
   "source": []
  }
 ],
 "metadata": {
  "kernelspec": {
   "display_name": "Python 3.10.8 64-bit (microsoft store)",
   "language": "python",
   "name": "python3"
  },
  "language_info": {
   "codemirror_mode": {
    "name": "ipython",
    "version": 3
   },
   "file_extension": ".py",
   "mimetype": "text/x-python",
   "name": "python",
   "nbconvert_exporter": "python",
   "pygments_lexer": "ipython3",
   "version": "3.10.8"
  },
  "orig_nbformat": 4,
  "vscode": {
   "interpreter": {
    "hash": "7b1f2b33e866b0bf2409397e5f58ba9cdf170d3b7f64c8f359c79998e2f88ad4"
   }
  }
 },
 "nbformat": 4,
 "nbformat_minor": 2
}
