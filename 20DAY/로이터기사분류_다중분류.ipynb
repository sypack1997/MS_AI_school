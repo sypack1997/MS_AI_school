{
 "cells": [
  {
   "cell_type": "code",
   "execution_count": 1,
   "metadata": {},
   "outputs": [],
   "source": [
    "import keras\n",
    "import numpy as np\n",
    "import matplotlib.pyplot as plt"
   ]
  },
  {
   "cell_type": "code",
   "execution_count": 2,
   "metadata": {},
   "outputs": [
    {
     "name": "stdout",
     "output_type": "stream",
     "text": [
      "Downloading data from https://storage.googleapis.com/tensorflow/tf-keras-datasets/reuters.npz\n",
      "2110848/2110848 [==============================] - 0s 0us/step\n"
     ]
    }
   ],
   "source": [
    "# 로이터 기사 데이터 셋을 로딩합니다.\n",
    "from keras.datasets import reuters\n",
    "(train_data, train_labels), (test_data, test_labels) = reuters.load_data(num_words=10000)"
   ]
  },
  {
   "cell_type": "code",
   "execution_count": 8,
   "metadata": {},
   "outputs": [
    {
     "data": {
      "text/plain": [
       "[1,\n",
       " 2,\n",
       " 2,\n",
       " 8,\n",
       " 43,\n",
       " 10,\n",
       " 447,\n",
       " 5,\n",
       " 25,\n",
       " 207,\n",
       " 270,\n",
       " 5,\n",
       " 3095,\n",
       " 111,\n",
       " 16,\n",
       " 369,\n",
       " 186,\n",
       " 90,\n",
       " 67,\n",
       " 7,\n",
       " 89,\n",
       " 5,\n",
       " 19,\n",
       " 102,\n",
       " 6,\n",
       " 19,\n",
       " 124,\n",
       " 15,\n",
       " 90,\n",
       " 67,\n",
       " 84,\n",
       " 22,\n",
       " 482,\n",
       " 26,\n",
       " 7,\n",
       " 48,\n",
       " 4,\n",
       " 49,\n",
       " 8,\n",
       " 864,\n",
       " 39,\n",
       " 209,\n",
       " 154,\n",
       " 6,\n",
       " 151,\n",
       " 6,\n",
       " 83,\n",
       " 11,\n",
       " 15,\n",
       " 22,\n",
       " 155,\n",
       " 11,\n",
       " 15,\n",
       " 7,\n",
       " 48,\n",
       " 9,\n",
       " 4579,\n",
       " 1005,\n",
       " 504,\n",
       " 6,\n",
       " 258,\n",
       " 6,\n",
       " 272,\n",
       " 11,\n",
       " 15,\n",
       " 22,\n",
       " 134,\n",
       " 44,\n",
       " 11,\n",
       " 15,\n",
       " 16,\n",
       " 8,\n",
       " 197,\n",
       " 1245,\n",
       " 90,\n",
       " 67,\n",
       " 52,\n",
       " 29,\n",
       " 209,\n",
       " 30,\n",
       " 32,\n",
       " 132,\n",
       " 6,\n",
       " 109,\n",
       " 15,\n",
       " 17,\n",
       " 12]"
      ]
     },
     "execution_count": 8,
     "metadata": {},
     "output_type": "execute_result"
    }
   ],
   "source": [
    "train_data.shape\n",
    "train_data[0]"
   ]
  },
  {
   "cell_type": "code",
   "execution_count": 4,
   "metadata": {},
   "outputs": [
    {
     "name": "stdout",
     "output_type": "stream",
     "text": [
      "Downloading data from https://storage.googleapis.com/tensorflow/tf-keras-datasets/reuters_word_index.json\n",
      "550378/550378 [==============================] - 0s 0us/step\n"
     ]
    }
   ],
   "source": [
    "word_index = reuters.get_word_index()\n",
    "reverse_word_index = dict([(value, key) for (key, value) in word_index.items()])\n",
    "\n",
    "decoded_newswire = ' '.join([reverse_word_index.get(i-3,'?') for i in train_data[0]])"
   ]
  },
  {
   "cell_type": "code",
   "execution_count": 5,
   "metadata": {},
   "outputs": [
    {
     "data": {
      "text/plain": [
       "'? ? ? said as a result of its december acquisition of space co it expects earnings per share in 1987 of 1 15 to 1 30 dlrs per share up from 70 cts in 1986 the company said pretax net should rise to nine to 10 mln dlrs from six mln dlrs in 1986 and rental operation revenues to 19 to 22 mln dlrs from 12 5 mln dlrs it said cash flow per share this year should be 2 50 to three dlrs reuter 3'"
      ]
     },
     "execution_count": 5,
     "metadata": {},
     "output_type": "execute_result"
    }
   ],
   "source": [
    "decoded_newswire"
   ]
  },
  {
   "cell_type": "code",
   "execution_count": 7,
   "metadata": {},
   "outputs": [
    {
     "data": {
      "text/plain": [
       "3"
      ]
     },
     "execution_count": 7,
     "metadata": {},
     "output_type": "execute_result"
    }
   ],
   "source": [
    "train_labels[0]"
   ]
  },
  {
   "cell_type": "code",
   "execution_count": 9,
   "metadata": {},
   "outputs": [],
   "source": [
    "# 데이터의 준비\n",
    "def vectorize_sequences(sequences, dimension = 10000):\n",
    "\n",
    "    results = np.zeros((len(sequences), dimension))\n",
    "    for i,sequence in enumerate(sequences):\n",
    "        results[i, sequence] = 1\n",
    "    \n",
    "    return results\n",
    "\n",
    "# 데이터의 변환\n",
    "x_train = vectorize_sequences(train_data)\n",
    "x_test = vectorize_sequences(test_data)"
   ]
  },
  {
   "cell_type": "code",
   "execution_count": 10,
   "metadata": {},
   "outputs": [
    {
     "data": {
      "text/plain": [
       "array([ 3,  4,  3, ..., 25,  3, 25], dtype=int64)"
      ]
     },
     "execution_count": 10,
     "metadata": {},
     "output_type": "execute_result"
    }
   ],
   "source": [
    "train_labels"
   ]
  },
  {
   "cell_type": "code",
   "execution_count": 12,
   "metadata": {},
   "outputs": [],
   "source": [
    "# 라벨 데이터의 엔코딩\n",
    "def to_one_hot(labels, dimension=46):\n",
    "    results = np.zeros((len(labels), dimension))\n",
    "\n",
    "    for i ,sequence in enumerate(labels):\n",
    "        results[i, sequence] = 1\n",
    "\n",
    "    return results\n",
    "\n",
    "one_hot_train_labels = to_one_hot(train_labels)\n",
    "one_hot_test_labels = to_one_hot(test_labels)"
   ]
  },
  {
   "cell_type": "code",
   "execution_count": 13,
   "metadata": {},
   "outputs": [],
   "source": [
    "# categorical 데이터로 변환\n",
    "from keras.utils.np_utils import to_categorical\n",
    "\n",
    "one_hot_train_labels = to_categorical(train_labels)\n",
    "one_hot_test_labels = to_categorical(test_labels)"
   ]
  },
  {
   "cell_type": "code",
   "execution_count": 32,
   "metadata": {},
   "outputs": [],
   "source": [
    "# 신경망을 구성합니다.\n",
    "\n",
    "from keras import models\n",
    "from keras import layers\n",
    "\n",
    "model = models.Sequential()\n",
    "model.add(layers.Dense(64, activation='relu', input_shape=(10000,)))\n",
    "model.add(layers.Dense(64, activation='relu'))\n",
    "model.add(layers.Dense(46, activation='softmax'))"
   ]
  },
  {
   "cell_type": "code",
   "execution_count": 33,
   "metadata": {},
   "outputs": [],
   "source": [
    "model.compile(optimizer='rmsprop', loss='categorical_crossentropy', metrics=['accuracy'])"
   ]
  },
  {
   "cell_type": "code",
   "execution_count": 34,
   "metadata": {},
   "outputs": [],
   "source": [
    "# 훈련데이터의 준비\n",
    "\n",
    "x_val = x_train[:1000]\n",
    "partial_x_train = x_train[1000:]\n",
    "y_val = one_hot_train_labels[:1000]\n",
    "partial_y_train = one_hot_train_labels[1000:]"
   ]
  },
  {
   "cell_type": "code",
   "execution_count": 35,
   "metadata": {},
   "outputs": [
    {
     "name": "stdout",
     "output_type": "stream",
     "text": [
      "Epoch 1/20\n",
      "16/16 [==============================] - 2s 50ms/step - loss: 2.5320 - accuracy: 0.5489 - val_loss: 1.6693 - val_accuracy: 0.6410\n",
      "Epoch 2/20\n",
      "16/16 [==============================] - 0s 30ms/step - loss: 1.3735 - accuracy: 0.7080 - val_loss: 1.2679 - val_accuracy: 0.7140\n",
      "Epoch 3/20\n",
      "16/16 [==============================] - 0s 30ms/step - loss: 1.0126 - accuracy: 0.7789 - val_loss: 1.1032 - val_accuracy: 0.7700\n",
      "Epoch 4/20\n",
      "16/16 [==============================] - 0s 30ms/step - loss: 0.7880 - accuracy: 0.8332 - val_loss: 1.0143 - val_accuracy: 0.7970\n",
      "Epoch 5/20\n",
      "16/16 [==============================] - 0s 31ms/step - loss: 0.6258 - accuracy: 0.8730 - val_loss: 0.9446 - val_accuracy: 0.7970\n",
      "Epoch 6/20\n",
      "16/16 [==============================] - 0s 30ms/step - loss: 0.4996 - accuracy: 0.8985 - val_loss: 0.9180 - val_accuracy: 0.8140\n",
      "Epoch 7/20\n",
      "16/16 [==============================] - 0s 30ms/step - loss: 0.3983 - accuracy: 0.9183 - val_loss: 0.8786 - val_accuracy: 0.8130\n",
      "Epoch 8/20\n",
      "16/16 [==============================] - 1s 32ms/step - loss: 0.3279 - accuracy: 0.9320 - val_loss: 0.8687 - val_accuracy: 0.8150\n",
      "Epoch 9/20\n",
      "16/16 [==============================] - 0s 31ms/step - loss: 0.2679 - accuracy: 0.9415 - val_loss: 0.8911 - val_accuracy: 0.8170\n",
      "Epoch 10/20\n",
      "16/16 [==============================] - 1s 32ms/step - loss: 0.2306 - accuracy: 0.9455 - val_loss: 0.9447 - val_accuracy: 0.8040\n",
      "Epoch 11/20\n",
      "16/16 [==============================] - 0s 30ms/step - loss: 0.1982 - accuracy: 0.9506 - val_loss: 0.9293 - val_accuracy: 0.8030\n",
      "Epoch 12/20\n",
      "16/16 [==============================] - 0s 31ms/step - loss: 0.1755 - accuracy: 0.9535 - val_loss: 0.9305 - val_accuracy: 0.8130\n",
      "Epoch 13/20\n",
      "16/16 [==============================] - 1s 34ms/step - loss: 0.1579 - accuracy: 0.9539 - val_loss: 0.9282 - val_accuracy: 0.8170\n",
      "Epoch 14/20\n",
      "16/16 [==============================] - 1s 34ms/step - loss: 0.1461 - accuracy: 0.9554 - val_loss: 0.9510 - val_accuracy: 0.8150\n",
      "Epoch 15/20\n",
      "16/16 [==============================] - 1s 35ms/step - loss: 0.1379 - accuracy: 0.9553 - val_loss: 0.9526 - val_accuracy: 0.8160\n",
      "Epoch 16/20\n",
      "16/16 [==============================] - 1s 37ms/step - loss: 0.1290 - accuracy: 0.9555 - val_loss: 0.9866 - val_accuracy: 0.8110\n",
      "Epoch 17/20\n",
      "16/16 [==============================] - 1s 37ms/step - loss: 0.1230 - accuracy: 0.9579 - val_loss: 0.9726 - val_accuracy: 0.8120\n",
      "Epoch 18/20\n",
      "16/16 [==============================] - 1s 33ms/step - loss: 0.1206 - accuracy: 0.9550 - val_loss: 0.9864 - val_accuracy: 0.8140\n",
      "Epoch 19/20\n",
      "16/16 [==============================] - 0s 31ms/step - loss: 0.1127 - accuracy: 0.9578 - val_loss: 1.0533 - val_accuracy: 0.8070\n",
      "Epoch 20/20\n",
      "16/16 [==============================] - 1s 32ms/step - loss: 0.1110 - accuracy: 0.9585 - val_loss: 1.0158 - val_accuracy: 0.8040\n"
     ]
    }
   ],
   "source": [
    "history = model.fit(partial_x_train, partial_y_train, epochs=20, batch_size=512, validation_data=(x_val,y_val))"
   ]
  },
  {
   "cell_type": "code",
   "execution_count": 36,
   "metadata": {},
   "outputs": [],
   "source": [
    "# 학습 결과를 가져온다.\n",
    "loss = history.history['loss']\n",
    "val_loss = history.history['val_loss']\n",
    "acc = history.history['accuracy']\n",
    "val_acc = history.history['val_accuracy']\n",
    "\n",
    "epochs = range(1, len(loss) + 1)"
   ]
  },
  {
   "cell_type": "code",
   "execution_count": 37,
   "metadata": {},
   "outputs": [
    {
     "data": {
      "text/plain": [
       "<matplotlib.legend.Legend at 0x1603a1ac160>"
      ]
     },
     "execution_count": 37,
     "metadata": {},
     "output_type": "execute_result"
    },
    {
     "data": {
      "image/png": "[encoded data removed]",
      "text/plain": [
       "<Figure size 640x480 with 1 Axes>"
      ]
     },
     "metadata": {},
     "output_type": "display_data"
    }
   ],
   "source": [
    "# 결과를 시각화 한다,\n",
    "plt.plot(epochs, loss, 'bo', label='Training Loss')\n",
    "plt.plot(epochs, val_loss, 'b-', label='Validation Loss')\n",
    "plt.title('Training and Validation Loss')\n",
    "plt.xlabel('Epochs')\n",
    "plt.ylabel('Loss')\n",
    "plt.legend()"
   ]
  },
  {
   "cell_type": "code",
   "execution_count": 38,
   "metadata": {},
   "outputs": [
    {
     "data": {
      "text/plain": [
       "<matplotlib.legend.Legend at 0x1603a25b310>"
      ]
     },
     "execution_count": 38,
     "metadata": {},
     "output_type": "execute_result"
    },
    {
     "data": {
      "image/png": "[encoded data removed]",
      "text/plain": [
       "<Figure size 640x480 with 1 Axes>"
      ]
     },
     "metadata": {},
     "output_type": "display_data"
    }
   ],
   "source": [
    "plt.plot(epochs, acc, 'bo', label='Training accuracy')\n",
    "plt.plot(epochs, val_acc, 'b-', label='Validation accuracy')\n",
    "plt.title('Training and Validation accuracy')\n",
    "plt.xlabel('Epochs')\n",
    "plt.ylabel('Accuracy')\n",
    "plt.legend()"
   ]
  },
  {
   "cell_type": "code",
   "execution_count": null,
   "metadata": {},
   "outputs": [],
   "source": []
  }
 ],
 "metadata": {
  "kernelspec": {
   "display_name": "Python 3.10.8 64-bit",
   "language": "python",
   "name": "python3"
  },
  "language_info": {
   "codemirror_mode": {
    "name": "ipython",
    "version": 3
   },
   "file_extension": ".py",
   "mimetype": "text/x-python",
   "name": "python",
   "nbconvert_exporter": "python",
   "pygments_lexer": "ipython3",
   "version": "3.10.8"
  },
  "orig_nbformat": 4,
  "vscode": {
   "interpreter": {
    "hash": "fb4569285eef3a3450cb62085a5b1e0da4bce0af555edc33dcf29baf3acc1368"
   }
  }
 },
 "nbformat": 4,
 "nbformat_minor": 2
}
